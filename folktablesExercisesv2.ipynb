{
 "cells": [
  {
   "cell_type": "markdown",
   "metadata": {},
   "source": [
    "# Changing the target variable to a continuous value and exploring fairness within regression:"
   ]
  },
  {
   "cell_type": "markdown",
   "metadata": {},
   "source": [
    "This notebook continues to explore fairlearn's capabilities within regression. The do's and cant's knowledge within this notebook are applied to the modeling task within HMIS."
   ]
  },
  {
   "cell_type": "markdown",
   "metadata": {},
   "source": [
    "The following notebook uses the folktable data found [here](https://github.com/zykls/folktables). <br>\n",
    "Full 2018 ACS documentation found [here](https://www2.census.gov/programs-surveys/acs/tech_docs/pums/data_dict/PUMS_Data_Dictionary_2018.txt). <br>\n",
    "Intro to ACS public use: [video link](https://www.census.gov/data/academy/webinars/2020/introduction-to-american-community-survey-public-use-microdata-sample-pums-files.html)."
   ]
  },
  {
   "cell_type": "code",
   "execution_count": 1,
   "metadata": {},
   "outputs": [],
   "source": [
    "import pandas as pd\n",
    "import numpy as np\n",
    "from math import sqrt\n",
    "from folktables import ACSDataSource, ACSEmployment\n",
    "from folk_data_preProcessor import preProcessor\n",
    "import random\n",
    "\n",
    "from sklearn.model_selection import train_test_split\n",
    "from sklearn.preprocessing import StandardScaler\n",
    "from sklearn.metrics import mean_absolute_error, mean_squared_error, mean_squared_error\n",
    "from sklearn.metrics import accuracy_score\n",
    "from sklearn.metrics import recall_score\n",
    "from sklearn.linear_model import LinearRegression\n",
    "from sklearn.ensemble import RandomForestRegressor\n",
    "\n",
    "from fairlearn.metrics import MetricFrame\n",
    "from fairlearn.metrics import count, \\\n",
    "                              false_positive_rate, \\\n",
    "                              selection_rate\n",
    "from fairlearn.reductions import GridSearch, ExponentiatedGradient\n",
    "from fairlearn.reductions import BoundedGroupLoss, ZeroOneLoss, AbsoluteLoss"
   ]
  },
  {
   "cell_type": "code",
   "execution_count": 2,
   "metadata": {},
   "outputs": [],
   "source": [
    "\"\"\"\n",
    "Set random seed\n",
    "\"\"\"\n",
    "random.seed(0)"
   ]
  },
  {
   "cell_type": "code",
   "execution_count": 3,
   "metadata": {},
   "outputs": [],
   "source": [
    "# import the data\n",
    "data_source = ACSDataSource(survey_year='2018', horizon='1-Year', survey='person')\n",
    "acs_data = data_source.get_data(states=[\"CA\"], download=True)\n",
    "features, label, group = ACSEmployment.df_to_pandas(acs_data)"
   ]
  },
  {
   "cell_type": "code",
   "execution_count": 4,
   "metadata": {},
   "outputs": [],
   "source": [
    "# use the pre-built preprocessor\n",
    "data = preProcessor(acs_data, features, \"WAGP\")\n",
    "\n",
    "X_train, X_test, y_train, y_test = data[0], data[1], data[2], data[3]\n",
    "\n",
    "# add the column names back to the independent features\n",
    "X_train = pd.DataFrame(X_train, columns=list(features.columns))\n",
    "X_test = pd.DataFrame(X_test, columns=list(features.columns))"
   ]
  },
  {
   "cell_type": "code",
   "execution_count": 5,
   "metadata": {},
   "outputs": [],
   "source": [
    "# define the sensitive features\n",
    "sf = [\n",
    "    \"RAC1P\",\n",
    "    \"SEX\",\n",
    "    \"AGEP\"\n",
    "]\n",
    "\n",
    "race_map = {\n",
    "    -0.6493085044506066  : \"White alone\",\n",
    "    -0.27365185426853295 : \"Black or African American alone\",\n",
    "    1.2289747464597618  : \"Asian alone\",\n",
    "    1.9802880468239092  : \"Some Other Race alone\"\n",
    "}"
   ]
  },
  {
   "cell_type": "markdown",
   "metadata": {},
   "source": [
    "# Standard Regression"
   ]
  },
  {
   "cell_type": "code",
   "execution_count": 6,
   "metadata": {},
   "outputs": [
    {
     "name": "stdout",
     "output_type": "stream",
     "text": [
      "Linear Model MAE is: 0.5382987000639852\n"
     ]
    }
   ],
   "source": [
    "# train a simple liner regressor and evaluate\n",
    "linear = LinearRegression()\n",
    "linear.fit(X_train, y_train)\n",
    "\n",
    "yhat = linear.predict(X_test)\n",
    "linear_MAE = mean_absolute_error(y_test, yhat)\n",
    "print(\"Linear Model MAE is:\", linear_MAE)"
   ]
  },
  {
   "cell_type": "code",
   "execution_count": 7,
   "metadata": {
    "scrolled": false
   },
   "outputs": [
    {
     "data": {
      "text/plain": [
       "<AxesSubplot:title={'center':'Plotting MAE by Race Group'}, xlabel='RAC1P', ylabel='MAE Error'>"
      ]
     },
     "execution_count": 7,
     "metadata": {},
     "output_type": "execute_result"
    },
    {
     "data": {
      "image/png": "[encoded data removed]",
      "text/plain": [
       "<Figure size 432x288 with 1 Axes>"
      ]
     },
     "metadata": {
      "needs_background": "light"
     },
     "output_type": "display_data"
    }
   ],
   "source": [
    "# metric frame report for race\n",
    "race_mf = MetricFrame(metrics=mean_absolute_error,\n",
    "                        y_true=y_test,\n",
    "                        y_pred=yhat,\n",
    "                        sensitive_features=pd.Series(X_test[sf[0]], name=sf[0]))\n",
    "\n",
    "race_mf = race_mf.by_group.rename(index=race_map)\n",
    "race_mf.plot(kind=\"bar\", title = \"Plotting MAE by Race Group\", ylabel=\"MAE Error\")"
   ]
  },
  {
   "cell_type": "markdown",
   "metadata": {},
   "source": [
    "# fairML regression: GridSearch"
   ]
  },
  {
   "cell_type": "markdown",
   "metadata": {},
   "source": [
    "This technique of mitigating the regressor with Bounded Group Loss and Grid Search will be applied to the modeling task within HMIS."
   ]
  },
  {
   "cell_type": "code",
   "execution_count": 8,
   "metadata": {},
   "outputs": [
    {
     "name": "stdout",
     "output_type": "stream",
     "text": [
      "fairML MAE is: 0.5125712546231765\n"
     ]
    }
   ],
   "source": [
    "# use Exponentiated Gradient with BoundedGroupLoss constraint - a simple linear regressor\n",
    "regressor = LinearRegression()\n",
    "mitigator = GridSearch(regressor, constraints=BoundedGroupLoss(AbsoluteLoss(0, 1), upper_bound=.1))\n",
    "mitigator.fit(X_train, y_train, sensitive_features=X_train[sf[0]])\n",
    "y_pred_mitigated = mitigator.predict(X_test)\n",
    "\n",
    "fairML_MAE = mean_absolute_error(y_test, y_pred_mitigated)\n",
    "print(\"fairML MAE is:\", fairML_MAE)"
   ]
  },
  {
   "cell_type": "code",
   "execution_count": 9,
   "metadata": {},
   "outputs": [
    {
     "data": {
      "text/plain": [
       "<AxesSubplot:title={'center':'Plotting MAE by Race Group - fairML'}, xlabel='RAC1P', ylabel='MAE Error'>"
      ]
     },
     "execution_count": 9,
     "metadata": {},
     "output_type": "execute_result"
    },
    {
     "data": {
      "image/png": "[encoded data removed]",
      "text/plain": [
       "<Figure size 432x288 with 1 Axes>"
      ]
     },
     "metadata": {
      "needs_background": "light"
     },
     "output_type": "display_data"
    }
   ],
   "source": [
    "# assess the fairML MAE across race\n",
    "mae_frame_fairML = MetricFrame(metrics=mean_absolute_error,\n",
    "                        y_true=y_test,\n",
    "                        y_pred=y_pred_mitigated,\n",
    "                        sensitive_features=pd.Series(X_test[sf[0]], name=sf[0]))\n",
    "\n",
    "race_mf_fairML = mae_frame_fairML.by_group.rename(index=race_map)\n",
    "race_mf_fairML.plot(kind=\"bar\", title = \"Plotting MAE by Race Group - fairML\", ylabel=\"MAE Error\")"
   ]
  }
 ],
 "metadata": {
  "kernelspec": {
   "display_name": "Python 3",
   "language": "python",
   "name": "python3"
  },
  "language_info": {
   "codemirror_mode": {
    "name": "ipython",
    "version": 3
   },
   "file_extension": ".py",
   "mimetype": "text/x-python",
   "name": "python",
   "nbconvert_exporter": "python",
   "pygments_lexer": "ipython3",
   "version": "3.8.5"
  }
 },
 "nbformat": 4,
 "nbformat_minor": 4
}

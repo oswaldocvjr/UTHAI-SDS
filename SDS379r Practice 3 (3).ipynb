{
 "cells": [
  {
   "cell_type": "code",
   "execution_count": 1,
   "id": "e464e291",
   "metadata": {
    "scrolled": false
   },
   "outputs": [],
   "source": [
    "import numpy as np\n",
    "import pandas as pd\n",
    "from sklearn.linear_model import LogisticRegression, LinearRegression\n",
    "from sklearn.model_selection import train_test_split, RepeatedKFold, cross_val_score\n",
    "from sklearn.pipeline import make_pipeline\n",
    "from sklearn.preprocessing import StandardScaler\n",
    "from folktables import ACSDataSource, ACSEmployment, generate_categories, ACSIncome, ACSHealthInsurance\n",
    "import matplotlib\n",
    "matplotlib.use(\"agg\")\n",
    "import matplotlib.pyplot as plt\n",
    "%matplotlib inline\n",
    "from statsmodels.graphics.regressionplots import abline_plot\n",
    "from statsmodels.formula.api import ols\n",
    "from scipy.stats import linregress\n",
    "import math\n",
    "import sklearn\n",
    "from sklearn.metrics import mean_squared_error\n",
    "import statistics\n",
    "import numpy as np"
   ]
  },
  {
   "cell_type": "code",
   "execution_count": 2,
   "id": "d9583eff",
   "metadata": {},
   "outputs": [],
   "source": [
    "from folk_data_preProcessor import preProcessor\n",
    "from folktables import ACSDataSource, ACSEmployment\n",
    "\n",
    "# import the data\n",
    "data_source = ACSDataSource(survey_year='2018', horizon='1-Year', survey='person')\n",
    "acs_data = data_source.get_data(states=[\"CA\"], download=True)\n",
    "features, label, _ = ACSEmployment.df_to_pandas(acs_data)\n",
    "\n",
    "# obtain the data sets\n",
    "data = preProcessor(acs_data, features, \"WAGP\")"
   ]
  },
  {
   "cell_type": "code",
   "execution_count": 3,
   "id": "f239de4a",
   "metadata": {},
   "outputs": [],
   "source": [
    "data_source = ACSDataSource(survey_year='2018', horizon='1-Year', survey='person')\n",
    "acs_data = data_source.get_data(states=[\"CA\"], download=True)\n",
    "features, label, group = ACSEmployment.df_to_numpy(acs_data)\n",
    "nat_group = acs_data[\"NATIVITY\"]\n",
    "sex_group = acs_data[\"SEX\"]\n",
    "cont_labels = acs_data[\"WAGP\"]\n",
    "X_train, X_test, y_train, y_test, group_train, group_test = train_test_split(features, label, group, test_size=0.2, random_state=np.random.seed())\n",
    "\n",
    "#X_train, X_test, y_train, y_test, group_train, group_test, sex_train, sex_test = train_test_split(features, label, group, sex_group, test_size=0.2, random_state=np.random.seed())"
   ]
  },
  {
   "cell_type": "code",
   "execution_count": 4,
   "id": "eb1906c3",
   "metadata": {},
   "outputs": [],
   "source": [
    "ACSIncome_categories = {\n",
    "    \"COW\": {\n",
    "        1.0: (\n",
    "            \"Employee of a private for-profit company or\"\n",
    "            \"business, or of an individual, for wages,\"\n",
    "            \"salary, or commissions\"\n",
    "        ),\n",
    "        2.0: (\n",
    "            \"Employee of a private not-for-profit, tax-exempt,\"\n",
    "            \"or charitable organization\"\n",
    "        ), \n",
    "        3.0: \"Local government employee (city, county, etc.)\",\n",
    "        4.0: \"State government employee\",\n",
    "        5.0: \"Federal government employee\", \n",
    "        6.0: (\n",
    "            \"Self-employed in own not incorporated business,\"\n",
    "            \"professional practice, or farm\"\n",
    "        ),\n",
    "        7.0: (\n",
    "            \"Self-employed in own incorporated business,\"\n",
    "            \"professional practice or farm\"\n",
    "        ),\n",
    "        8.0: \"Working without pay in family business or farm\",\n",
    "        9.0: \"Unemployed and last worked 5 years ago or earlier or never worked\",\n",
    "    },\n",
    "    \"SCHL\": {\n",
    "        1.0: \"No schooling completed\",\n",
    "        2.0: \"Nursery school, preschool\",\n",
    "        3.0: \"Kindergarten\",\n",
    "        4.0: \"Grade 1\",\n",
    "        5.0: \"Grade 2\",\n",
    "        6.0: \"Grade 3\",\n",
    "        7.0: \"Grade 4\",\n",
    "        8.0: \"Grade 5\",\n",
    "        9.0: \"Grade 6\",\n",
    "        10.0: \"Grade 7\",\n",
    "        11.0: \"Grade 8\",\n",
    "        12.0: \"Grade 9\",\n",
    "        13.0: \"Grade 10\",\n",
    "        14.0: \"Grade 11\",\n",
    "        15.0: \"12th grade - no diploma\",\n",
    "        16.0: \"Regular high school diploma\",\n",
    "        17.0: \"GED or alternative credential\",\n",
    "        18.0: \"Some college, but less than 1 year\",\n",
    "        19.0: \"1 or more years of college credit, no degree\",\n",
    "        20.0: \"Associate's degree\",\n",
    "        21.0: \"Bachelor's degree\",\n",
    "        22.0: \"Master's degree\",\n",
    "        23.0: \"Professional degree beyond a bachelor's degree\",\n",
    "        24.0: \"Doctorate degree\",\n",
    "    },\n",
    "    \"MAR\": {\n",
    "        1.0: \"Married\",\n",
    "        2.0: \"Widowed\",\n",
    "        3.0: \"Divorced\",\n",
    "        4.0: \"Separated\",\n",
    "        5.0: \"Never married or under 15 years old\",\n",
    "    },\n",
    "    \"SEX\": {1.0: \"Male\", 2.0: \"Female\"},\n",
    "    \"RAC1P\": {\n",
    "        1.0: \"White alone\",\n",
    "        2.0: \"Black or African American alone\",\n",
    "        3.0: \"American Indian alone\",\n",
    "        4.0: \"Alaska Native alone\",\n",
    "        5.0: (\n",
    "            \"American Indian and Alaska Native tribes specified;\"\n",
    "            \"or American Indian or Alaska Native,\"\n",
    "            \"not specified and no other\"\n",
    "        ),\n",
    "        6.0: \"Asian alone\",\n",
    "        7.0: \"Native Hawaiian and Other Pacific Islander alone\",\n",
    "        8.0: \"Some Other Race alone\",\n",
    "        9.0: \"Two or More Races\",\n",
    "    },\n",
    "}"
   ]
  },
  {
   "cell_type": "markdown",
   "id": "103d83d8",
   "metadata": {},
   "source": [
    "## Plotting"
   ]
  },
  {
   "cell_type": "code",
   "execution_count": 5,
   "id": "817c6125",
   "metadata": {},
   "outputs": [
    {
     "data": {
      "text/html": [
       "<div>\n",
       "<style scoped>\n",
       "    .dataframe tbody tr th:only-of-type {\n",
       "        vertical-align: middle;\n",
       "    }\n",
       "\n",
       "    .dataframe tbody tr th {\n",
       "        vertical-align: top;\n",
       "    }\n",
       "\n",
       "    .dataframe thead th {\n",
       "        text-align: right;\n",
       "    }\n",
       "</style>\n",
       "<table border=\"1\" class=\"dataframe\">\n",
       "  <thead>\n",
       "    <tr style=\"text-align: right;\">\n",
       "      <th></th>\n",
       "      <th>AGEP</th>\n",
       "      <th>COW</th>\n",
       "      <th>SCHL</th>\n",
       "      <th>MAR</th>\n",
       "      <th>OCCP</th>\n",
       "      <th>POBP</th>\n",
       "      <th>RELP</th>\n",
       "      <th>WKHP</th>\n",
       "      <th>SEX</th>\n",
       "      <th>RAC1P</th>\n",
       "    </tr>\n",
       "  </thead>\n",
       "  <tbody>\n",
       "    <tr>\n",
       "      <th>0</th>\n",
       "      <td>30</td>\n",
       "      <td>Self-employed in own not incorporated business...</td>\n",
       "      <td>Grade 11</td>\n",
       "      <td>Married</td>\n",
       "      <td>9610.0</td>\n",
       "      <td>6</td>\n",
       "      <td>16</td>\n",
       "      <td>40.0</td>\n",
       "      <td>Male</td>\n",
       "      <td>Some Other Race alone</td>\n",
       "    </tr>\n",
       "    <tr>\n",
       "      <th>1</th>\n",
       "      <td>21</td>\n",
       "      <td>State government employee</td>\n",
       "      <td>Regular high school diploma</td>\n",
       "      <td>Never married or under 15 years old</td>\n",
       "      <td>1970.0</td>\n",
       "      <td>6</td>\n",
       "      <td>17</td>\n",
       "      <td>20.0</td>\n",
       "      <td>Male</td>\n",
       "      <td>White alone</td>\n",
       "    </tr>\n",
       "    <tr>\n",
       "      <th>2</th>\n",
       "      <td>65</td>\n",
       "      <td>Employee of a private not-for-profit, tax-exem...</td>\n",
       "      <td>Master's degree</td>\n",
       "      <td>Never married or under 15 years old</td>\n",
       "      <td>2040.0</td>\n",
       "      <td>6</td>\n",
       "      <td>17</td>\n",
       "      <td>8.0</td>\n",
       "      <td>Male</td>\n",
       "      <td>White alone</td>\n",
       "    </tr>\n",
       "    <tr>\n",
       "      <th>3</th>\n",
       "      <td>33</td>\n",
       "      <td>Employee of a private for-profit company orbus...</td>\n",
       "      <td>Grade 11</td>\n",
       "      <td>Divorced</td>\n",
       "      <td>9610.0</td>\n",
       "      <td>36</td>\n",
       "      <td>16</td>\n",
       "      <td>40.0</td>\n",
       "      <td>Male</td>\n",
       "      <td>White alone</td>\n",
       "    </tr>\n",
       "    <tr>\n",
       "      <th>4</th>\n",
       "      <td>18</td>\n",
       "      <td>Employee of a private not-for-profit, tax-exem...</td>\n",
       "      <td>1 or more years of college credit, no degree</td>\n",
       "      <td>Never married or under 15 years old</td>\n",
       "      <td>1021.0</td>\n",
       "      <td>6</td>\n",
       "      <td>17</td>\n",
       "      <td>18.0</td>\n",
       "      <td>Female</td>\n",
       "      <td>White alone</td>\n",
       "    </tr>\n",
       "    <tr>\n",
       "      <th>...</th>\n",
       "      <td>...</td>\n",
       "      <td>...</td>\n",
       "      <td>...</td>\n",
       "      <td>...</td>\n",
       "      <td>...</td>\n",
       "      <td>...</td>\n",
       "      <td>...</td>\n",
       "      <td>...</td>\n",
       "      <td>...</td>\n",
       "      <td>...</td>\n",
       "    </tr>\n",
       "    <tr>\n",
       "      <th>195660</th>\n",
       "      <td>38</td>\n",
       "      <td>Employee of a private for-profit company orbus...</td>\n",
       "      <td>Master's degree</td>\n",
       "      <td>Married</td>\n",
       "      <td>1021.0</td>\n",
       "      <td>210</td>\n",
       "      <td>0</td>\n",
       "      <td>40.0</td>\n",
       "      <td>Male</td>\n",
       "      <td>Asian alone</td>\n",
       "    </tr>\n",
       "    <tr>\n",
       "      <th>195661</th>\n",
       "      <td>39</td>\n",
       "      <td>Employee of a private for-profit company orbus...</td>\n",
       "      <td>Master's degree</td>\n",
       "      <td>Married</td>\n",
       "      <td>1021.0</td>\n",
       "      <td>210</td>\n",
       "      <td>1</td>\n",
       "      <td>40.0</td>\n",
       "      <td>Female</td>\n",
       "      <td>Asian alone</td>\n",
       "    </tr>\n",
       "    <tr>\n",
       "      <th>195662</th>\n",
       "      <td>61</td>\n",
       "      <td>Employee of a private for-profit company orbus...</td>\n",
       "      <td>1 or more years of college credit, no degree</td>\n",
       "      <td>Married</td>\n",
       "      <td>5240.0</td>\n",
       "      <td>17</td>\n",
       "      <td>0</td>\n",
       "      <td>45.0</td>\n",
       "      <td>Male</td>\n",
       "      <td>White alone</td>\n",
       "    </tr>\n",
       "    <tr>\n",
       "      <th>195663</th>\n",
       "      <td>69</td>\n",
       "      <td>Self-employed in own incorporated business,pro...</td>\n",
       "      <td>Doctorate degree</td>\n",
       "      <td>Married</td>\n",
       "      <td>2040.0</td>\n",
       "      <td>207</td>\n",
       "      <td>0</td>\n",
       "      <td>45.0</td>\n",
       "      <td>Male</td>\n",
       "      <td>Asian alone</td>\n",
       "    </tr>\n",
       "    <tr>\n",
       "      <th>195664</th>\n",
       "      <td>40</td>\n",
       "      <td>Employee of a private for-profit company orbus...</td>\n",
       "      <td>GED or alternative credential</td>\n",
       "      <td>Married</td>\n",
       "      <td>9600.0</td>\n",
       "      <td>303</td>\n",
       "      <td>0</td>\n",
       "      <td>40.0</td>\n",
       "      <td>Male</td>\n",
       "      <td>Some Other Race alone</td>\n",
       "    </tr>\n",
       "  </tbody>\n",
       "</table>\n",
       "<p>195665 rows × 10 columns</p>\n",
       "</div>"
      ],
      "text/plain": [
       "       AGEP                                                COW  \\\n",
       "0        30  Self-employed in own not incorporated business...   \n",
       "1        21                          State government employee   \n",
       "2        65  Employee of a private not-for-profit, tax-exem...   \n",
       "3        33  Employee of a private for-profit company orbus...   \n",
       "4        18  Employee of a private not-for-profit, tax-exem...   \n",
       "...     ...                                                ...   \n",
       "195660   38  Employee of a private for-profit company orbus...   \n",
       "195661   39  Employee of a private for-profit company orbus...   \n",
       "195662   61  Employee of a private for-profit company orbus...   \n",
       "195663   69  Self-employed in own incorporated business,pro...   \n",
       "195664   40  Employee of a private for-profit company orbus...   \n",
       "\n",
       "                                                SCHL  \\\n",
       "0                                           Grade 11   \n",
       "1                        Regular high school diploma   \n",
       "2                                    Master's degree   \n",
       "3                                           Grade 11   \n",
       "4       1 or more years of college credit, no degree   \n",
       "...                                              ...   \n",
       "195660                               Master's degree   \n",
       "195661                               Master's degree   \n",
       "195662  1 or more years of college credit, no degree   \n",
       "195663                              Doctorate degree   \n",
       "195664                 GED or alternative credential   \n",
       "\n",
       "                                        MAR    OCCP POBP RELP  WKHP     SEX  \\\n",
       "0                                   Married  9610.0    6   16  40.0    Male   \n",
       "1       Never married or under 15 years old  1970.0    6   17  20.0    Male   \n",
       "2       Never married or under 15 years old  2040.0    6   17   8.0    Male   \n",
       "3                                  Divorced  9610.0   36   16  40.0    Male   \n",
       "4       Never married or under 15 years old  1021.0    6   17  18.0  Female   \n",
       "...                                     ...     ...  ...  ...   ...     ...   \n",
       "195660                              Married  1021.0  210    0  40.0    Male   \n",
       "195661                              Married  1021.0  210    1  40.0  Female   \n",
       "195662                              Married  5240.0   17    0  45.0    Male   \n",
       "195663                              Married  2040.0  207    0  45.0    Male   \n",
       "195664                              Married  9600.0  303    0  40.0    Male   \n",
       "\n",
       "                        RAC1P  \n",
       "0       Some Other Race alone  \n",
       "1                 White alone  \n",
       "2                 White alone  \n",
       "3                 White alone  \n",
       "4                 White alone  \n",
       "...                       ...  \n",
       "195660            Asian alone  \n",
       "195661            Asian alone  \n",
       "195662            White alone  \n",
       "195663            Asian alone  \n",
       "195664  Some Other Race alone  \n",
       "\n",
       "[195665 rows x 10 columns]"
      ]
     },
     "execution_count": 5,
     "metadata": {},
     "output_type": "execute_result"
    }
   ],
   "source": [
    "data_source = ACSDataSource(survey_year='2018', horizon='1-Year', survey='person')\n",
    "ca_data = data_source.get_data(states=[\"CA\"], download=True)\n",
    "\n",
    "ca_features1, ca_labels1, _ = ACSIncome.df_to_pandas(ca_data, categories=ACSIncome_categories, dummies=False)\n",
    "ca_features1"
   ]
  },
  {
   "cell_type": "code",
   "execution_count": 6,
   "id": "068f8f61",
   "metadata": {},
   "outputs": [
    {
     "data": {
      "text/html": [
       "<div>\n",
       "<style scoped>\n",
       "    .dataframe tbody tr th:only-of-type {\n",
       "        vertical-align: middle;\n",
       "    }\n",
       "\n",
       "    .dataframe tbody tr th {\n",
       "        vertical-align: top;\n",
       "    }\n",
       "\n",
       "    .dataframe thead th {\n",
       "        text-align: right;\n",
       "    }\n",
       "</style>\n",
       "<table border=\"1\" class=\"dataframe\">\n",
       "  <thead>\n",
       "    <tr style=\"text-align: right;\">\n",
       "      <th></th>\n",
       "      <th>AGEP</th>\n",
       "      <th>COW</th>\n",
       "      <th>SCHL</th>\n",
       "      <th>MAR</th>\n",
       "      <th>OCCP</th>\n",
       "      <th>POBP</th>\n",
       "      <th>RELP</th>\n",
       "      <th>WKHP</th>\n",
       "      <th>SEX</th>\n",
       "      <th>RAC1P</th>\n",
       "    </tr>\n",
       "  </thead>\n",
       "  <tbody>\n",
       "    <tr>\n",
       "      <th>27</th>\n",
       "      <td>23</td>\n",
       "      <td>Employee of a private not-for-profit, tax-exem...</td>\n",
       "      <td>Bachelor's degree</td>\n",
       "      <td>Never married or under 15 years old</td>\n",
       "      <td>2545</td>\n",
       "      <td>207</td>\n",
       "      <td>17</td>\n",
       "      <td>20</td>\n",
       "      <td>Female</td>\n",
       "      <td>Asian alone</td>\n",
       "    </tr>\n",
       "    <tr>\n",
       "      <th>33</th>\n",
       "      <td>18</td>\n",
       "      <td>Employee of a private for-profit company orbus...</td>\n",
       "      <td>Regular high school diploma</td>\n",
       "      <td>Never married or under 15 years old</td>\n",
       "      <td>9610</td>\n",
       "      <td>6</td>\n",
       "      <td>17</td>\n",
       "      <td>8</td>\n",
       "      <td>Female</td>\n",
       "      <td>Asian alone</td>\n",
       "    </tr>\n",
       "    <tr>\n",
       "      <th>49</th>\n",
       "      <td>18</td>\n",
       "      <td>Employee of a private for-profit company orbus...</td>\n",
       "      <td>Some college, but less than 1 year</td>\n",
       "      <td>Never married or under 15 years old</td>\n",
       "      <td>725</td>\n",
       "      <td>6</td>\n",
       "      <td>17</td>\n",
       "      <td>12</td>\n",
       "      <td>Female</td>\n",
       "      <td>Asian alone</td>\n",
       "    </tr>\n",
       "    <tr>\n",
       "      <th>53</th>\n",
       "      <td>25</td>\n",
       "      <td>State government employee</td>\n",
       "      <td>Bachelor's degree</td>\n",
       "      <td>Never married or under 15 years old</td>\n",
       "      <td>3870</td>\n",
       "      <td>6</td>\n",
       "      <td>17</td>\n",
       "      <td>40</td>\n",
       "      <td>Male</td>\n",
       "      <td>Asian alone</td>\n",
       "    </tr>\n",
       "    <tr>\n",
       "      <th>80</th>\n",
       "      <td>20</td>\n",
       "      <td>Employee of a private not-for-profit, tax-exem...</td>\n",
       "      <td>GED or alternative credential</td>\n",
       "      <td>Never married or under 15 years old</td>\n",
       "      <td>725</td>\n",
       "      <td>6</td>\n",
       "      <td>17</td>\n",
       "      <td>18</td>\n",
       "      <td>Female</td>\n",
       "      <td>Asian alone</td>\n",
       "    </tr>\n",
       "    <tr>\n",
       "      <th>...</th>\n",
       "      <td>...</td>\n",
       "      <td>...</td>\n",
       "      <td>...</td>\n",
       "      <td>...</td>\n",
       "      <td>...</td>\n",
       "      <td>...</td>\n",
       "      <td>...</td>\n",
       "      <td>...</td>\n",
       "      <td>...</td>\n",
       "      <td>...</td>\n",
       "    </tr>\n",
       "    <tr>\n",
       "      <th>195602</th>\n",
       "      <td>24</td>\n",
       "      <td>Employee of a private for-profit company orbus...</td>\n",
       "      <td>Bachelor's degree</td>\n",
       "      <td>Never married or under 15 years old</td>\n",
       "      <td>2300</td>\n",
       "      <td>6</td>\n",
       "      <td>2</td>\n",
       "      <td>40</td>\n",
       "      <td>Female</td>\n",
       "      <td>Some Other Race alone</td>\n",
       "    </tr>\n",
       "    <tr>\n",
       "      <th>195628</th>\n",
       "      <td>46</td>\n",
       "      <td>Employee of a private for-profit company orbus...</td>\n",
       "      <td>GED or alternative credential</td>\n",
       "      <td>Married</td>\n",
       "      <td>8740</td>\n",
       "      <td>303</td>\n",
       "      <td>0</td>\n",
       "      <td>40</td>\n",
       "      <td>Female</td>\n",
       "      <td>Some Other Race alone</td>\n",
       "    </tr>\n",
       "    <tr>\n",
       "      <th>195629</th>\n",
       "      <td>50</td>\n",
       "      <td>Employee of a private for-profit company orbus...</td>\n",
       "      <td>12th grade - no diploma</td>\n",
       "      <td>Married</td>\n",
       "      <td>7340</td>\n",
       "      <td>303</td>\n",
       "      <td>1</td>\n",
       "      <td>50</td>\n",
       "      <td>Male</td>\n",
       "      <td>Some Other Race alone</td>\n",
       "    </tr>\n",
       "    <tr>\n",
       "      <th>195642</th>\n",
       "      <td>42</td>\n",
       "      <td>Employee of a private for-profit company orbus...</td>\n",
       "      <td>Grade 9</td>\n",
       "      <td>Married</td>\n",
       "      <td>6260</td>\n",
       "      <td>303</td>\n",
       "      <td>0</td>\n",
       "      <td>40</td>\n",
       "      <td>Male</td>\n",
       "      <td>Some Other Race alone</td>\n",
       "    </tr>\n",
       "    <tr>\n",
       "      <th>195664</th>\n",
       "      <td>40</td>\n",
       "      <td>Employee of a private for-profit company orbus...</td>\n",
       "      <td>GED or alternative credential</td>\n",
       "      <td>Married</td>\n",
       "      <td>9600</td>\n",
       "      <td>303</td>\n",
       "      <td>0</td>\n",
       "      <td>40</td>\n",
       "      <td>Male</td>\n",
       "      <td>Some Other Race alone</td>\n",
       "    </tr>\n",
       "  </tbody>\n",
       "</table>\n",
       "<p>185065 rows × 10 columns</p>\n",
       "</div>"
      ],
      "text/plain": [
       "        AGEP                                                COW  \\\n",
       "27        23  Employee of a private not-for-profit, tax-exem...   \n",
       "33        18  Employee of a private for-profit company orbus...   \n",
       "49        18  Employee of a private for-profit company orbus...   \n",
       "53        25                          State government employee   \n",
       "80        20  Employee of a private not-for-profit, tax-exem...   \n",
       "...      ...                                                ...   \n",
       "195602    24  Employee of a private for-profit company orbus...   \n",
       "195628    46  Employee of a private for-profit company orbus...   \n",
       "195629    50  Employee of a private for-profit company orbus...   \n",
       "195642    42  Employee of a private for-profit company orbus...   \n",
       "195664    40  Employee of a private for-profit company orbus...   \n",
       "\n",
       "                                      SCHL  \\\n",
       "27                       Bachelor's degree   \n",
       "33             Regular high school diploma   \n",
       "49      Some college, but less than 1 year   \n",
       "53                       Bachelor's degree   \n",
       "80           GED or alternative credential   \n",
       "...                                    ...   \n",
       "195602                   Bachelor's degree   \n",
       "195628       GED or alternative credential   \n",
       "195629             12th grade - no diploma   \n",
       "195642                             Grade 9   \n",
       "195664       GED or alternative credential   \n",
       "\n",
       "                                        MAR  OCCP  POBP  RELP  WKHP     SEX  \\\n",
       "27      Never married or under 15 years old  2545   207    17    20  Female   \n",
       "33      Never married or under 15 years old  9610     6    17     8  Female   \n",
       "49      Never married or under 15 years old   725     6    17    12  Female   \n",
       "53      Never married or under 15 years old  3870     6    17    40    Male   \n",
       "80      Never married or under 15 years old   725     6    17    18  Female   \n",
       "...                                     ...   ...   ...   ...   ...     ...   \n",
       "195602  Never married or under 15 years old  2300     6     2    40  Female   \n",
       "195628                              Married  8740   303     0    40  Female   \n",
       "195629                              Married  7340   303     1    50    Male   \n",
       "195642                              Married  6260   303     0    40    Male   \n",
       "195664                              Married  9600   303     0    40    Male   \n",
       "\n",
       "                        RAC1P  \n",
       "27                Asian alone  \n",
       "33                Asian alone  \n",
       "49                Asian alone  \n",
       "53                Asian alone  \n",
       "80                Asian alone  \n",
       "...                       ...  \n",
       "195602  Some Other Race alone  \n",
       "195628  Some Other Race alone  \n",
       "195629  Some Other Race alone  \n",
       "195642  Some Other Race alone  \n",
       "195664  Some Other Race alone  \n",
       "\n",
       "[185065 rows x 10 columns]"
      ]
     },
     "execution_count": 6,
     "metadata": {},
     "output_type": "execute_result"
    }
   ],
   "source": [
    "asian=ca_features1[ca_features1['RAC1P']=='Asian alone']\n",
    "black=ca_features1[ca_features1['RAC1P']=='Black or African American alone']\n",
    "white=ca_features1[ca_features1['RAC1P']=='White alone']\n",
    "hisp=ca_features1[ca_features1['RAC1P']=='Some Other Race alone']\n",
    "plottable=pd.concat([asian, black, white, hisp])\n",
    "#plottable=plottable.drop([\"Alaska Native alone\",\"American Indian and Alaska Native tribes specified;or American Indian or Alaska Native,not specified and no other\", \"Some Other Race alone\", \"White alone\", \"Two or More Races\", \"Black or African American alone\", \"American Indian alone\", \"Native Hawaiian and Other Pacific Islander alone\", \"Asian alone\"], axis=1)\n",
    "plottable['AGEP'] = plottable['AGEP'].astype(int) #changing strings with numbers to integers\n",
    "plottable['OCCP'] = plottable['OCCP'].astype(int)\n",
    "plottable['POBP'] = plottable['POBP'].astype(int)\n",
    "plottable['RELP'] = plottable['RELP'].astype(int)\n",
    "plottable['WKHP'] = plottable['WKHP'].astype(int)\n",
    "plottable\n"
   ]
  },
  {
   "cell_type": "code",
   "execution_count": 7,
   "id": "641558fd",
   "metadata": {},
   "outputs": [],
   "source": [
    "X_plot=plottable.sample(n=1000)"
   ]
  },
  {
   "cell_type": "code",
   "execution_count": 8,
   "id": "e309f200",
   "metadata": {},
   "outputs": [
    {
     "data": {
      "image/png": "[encoded data removed]",
      "text/plain": [
       "<Figure size 640x480 with 1 Axes>"
      ]
     },
     "metadata": {},
     "output_type": "display_data"
    },
    {
     "data": {
      "text/plain": [
       "<ggplot: (167492593652)>"
      ]
     },
     "execution_count": 8,
     "metadata": {},
     "output_type": "execute_result"
    }
   ],
   "source": [
    "import  plotnine\n",
    "from plotnine import ggplot, aes, geom_line, geom_jitter\n",
    "\n",
    "(\n",
    "    ggplot(X_plot)  # What data to use\n",
    "    + aes(x=\"AGEP\", y=\"OCCP\", color=\"RAC1P\")  # What variable to use\n",
    "    + geom_jitter(aes(shape='SEX'))  # Geometric object to use for drawing\n",
    ")"
   ]
  },
  {
   "cell_type": "markdown",
   "id": "9024b746",
   "metadata": {},
   "source": [
    "#### Linear Regression"
   ]
  },
  {
   "cell_type": "code",
   "execution_count": 9,
   "id": "d7823aab",
   "metadata": {},
   "outputs": [
    {
     "name": "stdout",
     "output_type": "stream",
     "text": [
      "RMSE: 0.403196\n"
     ]
    }
   ],
   "source": [
    "#linear\n",
    "import scipy\n",
    "linreg=LinearRegression()\n",
    "linreg.fit(X_train,y_train)\n",
    "y_predn=linreg.predict(X_test)\n",
    "from sklearn import metrics\n",
    "print(\"RMSE: %f\" % (metrics.mean_squared_error(y_test,y_predn, squared=False)))"
   ]
  },
  {
   "cell_type": "code",
   "execution_count": 10,
   "id": "0da42f18",
   "metadata": {},
   "outputs": [
    {
     "name": "stdout",
     "output_type": "stream",
     "text": [
      "0.5401860854730923\n",
      "RMSE: 0.933750\n"
     ]
    }
   ],
   "source": [
    "#linear\n",
    "import scipy\n",
    "linreg=LinearRegression()\n",
    "linreg.fit(data[0],data[2])\n",
    "y_predn=linreg.predict(data[1])\n",
    "linear_MAE=metrics.mean_absolute_error(data[3],y_predn)\n",
    "print(linear_MAE)\n",
    "print(\"RMSE: %f\" % (metrics.mean_squared_error(data[3],y_predn, squared=False)))"
   ]
  },
  {
   "cell_type": "markdown",
   "id": "db6b700e",
   "metadata": {},
   "source": [
    "#### Using XGBoost"
   ]
  },
  {
   "cell_type": "code",
   "execution_count": 11,
   "id": "8283bea0",
   "metadata": {},
   "outputs": [
    {
     "name": "stdout",
     "output_type": "stream",
     "text": [
      "1.6.2\n"
     ]
    }
   ],
   "source": [
    "import xgboost\n",
    "from xgboost import XGBRegressor\n",
    "from sklearn.metrics import mean_squared_error\n",
    "print(xgboost.__version__)\n"
   ]
  },
  {
   "cell_type": "markdown",
   "id": "f92197c3",
   "metadata": {},
   "source": [
    "References:\n",
    "1. https://machinelearningmastery.com/xgboost-for-regression/\n",
    "2. https://www.youtube.com/watch?v=sxfpzUF6FLA\n"
   ]
  },
  {
   "cell_type": "code",
   "execution_count": 12,
   "id": "6e537f11",
   "metadata": {},
   "outputs": [
    {
     "name": "stdout",
     "output_type": "stream",
     "text": [
      "RMSE: 0.356296\n"
     ]
    }
   ],
   "source": [
    "#non-linear\n",
    "xg_reg = xgboost.XGBRegressor(objective ='reg:squarederror', colsample_bytree = 1, learning_rate = 0.6,\n",
    "                max_depth = 5, alpha = 10, n_estimators = 10)\n",
    "xg_reg.fit(X_train,y_train)\n",
    "\n",
    "preds = xg_reg.predict(X_test)\n",
    "\n",
    "rmse = np.sqrt(mean_squared_error(y_test, preds))\n",
    "print(\"RMSE: %f\" % (rmse))"
   ]
  },
  {
   "cell_type": "code",
   "execution_count": 13,
   "id": "ec6da0ea",
   "metadata": {},
   "outputs": [
    {
     "name": "stdout",
     "output_type": "stream",
     "text": [
      "RMSE: 0.837724\n"
     ]
    }
   ],
   "source": [
    "#non-linear\n",
    "xg_reg = xgboost.XGBRegressor(objective ='reg:squarederror', colsample_bytree = 1, learning_rate = 0.6,\n",
    "                max_depth = 5, alpha = 10, n_estimators = 100)\n",
    "xg_reg.fit(data[0],data[2])\n",
    "\n",
    "preds = xg_reg.predict(data[1])\n",
    "\n",
    "rmse = np.sqrt(mean_squared_error(data[3], preds))\n",
    "print(\"RMSE: %f\" % (rmse))"
   ]
  },
  {
   "cell_type": "markdown",
   "id": "b0e58d9d",
   "metadata": {},
   "source": [
    "### Note: currently the part from here to AIF360 is not in use"
   ]
  },
  {
   "cell_type": "code",
   "execution_count": 14,
   "id": "3122586d",
   "metadata": {},
   "outputs": [
    {
     "data": {
      "text/plain": [
       "'#not currently in use\\nfeatures, label, group = ACSEmployment.df_to_numpy(ca_features)\\n#nat_group = ca_features[\"NATIVITY\"]\\n\\ndff = ca_data[ca_data[\\'WAGP\\'].notna()]\\nt = pd.DataFrame(np.hstack((features, np.array(cont_labels).reshape(-1, 1)))).dropna()\\ncont_features, cont_labels, cont_group = t.iloc[:, 0:16], t.iloc[:,16], t[15]\\n#caa_data=ca_data.drop([\\'WAGP\\'],axis=1)'"
      ]
     },
     "execution_count": 14,
     "metadata": {},
     "output_type": "execute_result"
    }
   ],
   "source": [
    "\"\"\"#not currently in use\n",
    "features, label, group = ACSEmployment.df_to_numpy(ca_features)\n",
    "#nat_group = ca_features[\"NATIVITY\"]\n",
    "\n",
    "dff = ca_data[ca_data['WAGP'].notna()]\n",
    "t = pd.DataFrame(np.hstack((features, np.array(cont_labels).reshape(-1, 1)))).dropna()\n",
    "cont_features, cont_labels, cont_group = t.iloc[:, 0:16], t.iloc[:,16], t[15]\n",
    "#caa_data=ca_data.drop(['WAGP'],axis=1)\"\"\"\n"
   ]
  },
  {
   "cell_type": "code",
   "execution_count": 15,
   "id": "ec1e3cad",
   "metadata": {},
   "outputs": [
    {
     "data": {
      "text/plain": [
       "(array([[30., 14.,  1., ...,  2.,  1.,  8.],\n",
       "        [18., 14.,  5., ...,  2.,  2.,  1.],\n",
       "        [69., 17.,  1., ...,  2.,  1.,  9.],\n",
       "        ...,\n",
       "        [43., 16.,  1., ...,  2.,  2.,  8.],\n",
       "        [23., 16.,  5., ...,  2.,  1.,  8.],\n",
       "        [18., 14.,  5., ...,  2.,  1.,  8.]]),\n",
       " array([False, False, False, ..., False, False, False]),\n",
       " array([8, 1, 9, ..., 8, 8, 8], dtype=int64))"
      ]
     },
     "execution_count": 15,
     "metadata": {},
     "output_type": "execute_result"
    }
   ],
   "source": [
    "ACSEmployment.df_to_numpy(ca_data)"
   ]
  },
  {
   "cell_type": "code",
   "execution_count": 16,
   "id": "f8310dea",
   "metadata": {},
   "outputs": [
    {
     "name": "stdout",
     "output_type": "stream",
     "text": [
      "<class 'pandas.core.frame.DataFrame'>\n",
      "RangeIndex: 378817 entries, 0 to 378816\n",
      "Columns: 281 entries, DIVISION to PWGTP80\n",
      "dtypes: float64(84), int64(197)\n",
      "memory usage: 812.1 MB\n"
     ]
    }
   ],
   "source": [
    "ca_use=pd.DataFrame(ca_data)\n",
    "\n",
    "ca_use=ca_use.drop(['RT', 'SERIALNO', 'NAICSP', 'SOCP','WAGP'], axis=1)\n",
    "ca_use.info()"
   ]
  },
  {
   "cell_type": "code",
   "execution_count": 19,
   "id": "50d72053",
   "metadata": {},
   "outputs": [
    {
     "data": {
      "text/plain": [
       "\"ca_use=pd.DataFrame(dff)\\n\\nca_use=ca_use.drop(['RT', 'SERIALNO', 'NAICSP', 'SOCP','WAGP','CITWP','COW'], axis=1)\\nca_use.head()\""
      ]
     },
     "execution_count": 19,
     "metadata": {},
     "output_type": "execute_result"
    }
   ],
   "source": [
    "\"\"\"ca_use=pd.DataFrame(dff)\n",
    "\n",
    "ca_use=ca_use.drop(['RT', 'SERIALNO', 'NAICSP', 'SOCP','WAGP','CITWP','COW'], axis=1)\n",
    "ca_use.head()\"\"\""
   ]
  },
  {
   "cell_type": "code",
   "execution_count": 20,
   "id": "760f8d73",
   "metadata": {
    "scrolled": false
   },
   "outputs": [
    {
     "data": {
      "text/plain": [
       "'X,y=cont_features,cont_labels\\nX'"
      ]
     },
     "execution_count": 20,
     "metadata": {},
     "output_type": "execute_result"
    }
   ],
   "source": [
    "\"\"\"X,y=cont_features,cont_labels\n",
    "X\"\"\""
   ]
  },
  {
   "cell_type": "code",
   "execution_count": null,
   "id": "b7added4",
   "metadata": {},
   "outputs": [],
   "source": [
    "data_dmatrix = xgboost.DMatrix(data=X,label=y)\n",
    "data_dmatrix"
   ]
  },
  {
   "cell_type": "markdown",
   "id": "0561af87",
   "metadata": {},
   "source": [
    "# AIF360"
   ]
  },
  {
   "cell_type": "markdown",
   "id": "45c3dcf6",
   "metadata": {},
   "source": [
    "Issue 1: requires to convert the dataframe to a BinaryLabelDataSet"
   ]
  },
  {
   "cell_type": "code",
   "execution_count": 21,
   "id": "9c7e0de8",
   "metadata": {},
   "outputs": [
    {
     "name": "stdout",
     "output_type": "stream",
     "text": [
      "<class 'pandas.core.frame.DataFrame'>\n",
      "RangeIndex: 378817 entries, 0 to 378816\n",
      "Columns: 199 entries, RT to PWGTP80\n",
      "dtypes: int64(197), object(2)\n",
      "memory usage: 575.1+ MB\n"
     ]
    }
   ],
   "source": [
    "un=acs_data.dropna(how='any',axis=1)\n",
    "un.info()"
   ]
  },
  {
   "cell_type": "code",
   "execution_count": 22,
   "id": "18887572",
   "metadata": {},
   "outputs": [
    {
     "data": {
      "text/plain": [
       "2    192140\n",
       "1    186677\n",
       "Name: SEX, dtype: int64"
      ]
     },
     "execution_count": 22,
     "metadata": {},
     "output_type": "execute_result"
    }
   ],
   "source": [
    "target_sex=un['SEX'].value_counts()\n",
    "target_sex"
   ]
  },
  {
   "cell_type": "code",
   "execution_count": 23,
   "id": "a82ae657",
   "metadata": {},
   "outputs": [
    {
     "data": {
      "text/plain": [
       "1    232609\n",
       "6     59650\n",
       "8     44243\n",
       "9     19147\n",
       "2     18238\n",
       "3      2817\n",
       "7      1208\n",
       "5       877\n",
       "4        28\n",
       "Name: RAC1P, dtype: int64"
      ]
     },
     "execution_count": 23,
     "metadata": {},
     "output_type": "execute_result"
    }
   ],
   "source": [
    "target_race=un['RAC1P'].value_counts()\n",
    "target_race"
   ]
  },
  {
   "cell_type": "code",
   "execution_count": 24,
   "id": "c70ad7ba",
   "metadata": {},
   "outputs": [
    {
     "data": {
      "text/plain": [
       "5    171168\n",
       "1    155186\n",
       "3     29635\n",
       "2     17158\n",
       "4      5670\n",
       "Name: MAR, dtype: int64"
      ]
     },
     "execution_count": 24,
     "metadata": {},
     "output_type": "execute_result"
    }
   ],
   "source": [
    "target_status=un['MAR'].value_counts()\n",
    "target_status"
   ]
  },
  {
   "cell_type": "markdown",
   "id": "6d2f82e2",
   "metadata": {},
   "source": [
    "Dropping some of those columns from the dataset doesn't change anything, it just helps process 3 times faster. I will standardize the PWGTP ones ."
   ]
  },
  {
   "cell_type": "code",
   "execution_count": 25,
   "id": "e8ce2a96",
   "metadata": {},
   "outputs": [],
   "source": [
    "un=un.drop(['RT','SERIALNO'], axis=1)"
   ]
  },
  {
   "cell_type": "code",
   "execution_count": 26,
   "id": "fa15cdc3",
   "metadata": {},
   "outputs": [],
   "source": [
    "un=un.drop(['PWGTP50','PWGTP51','PWGTP52','PWGTP53','PWGTP54','PWGTP55','PWGTP56','PWGTP57','PWGTP58','PWGTP59','PWGTP60','PWGTP61','PWGTP62','PWGTP63','PWGTP64','PWGTP65','PWGTP66','PWGTP67','PWGTP68','PWGTP69','PWGTP70','PWGTP71','PWGTP72','PWGTP73','PWGTP74','PWGTP75','PWGTP76','PWGTP77','PWGTP78','PWGTP79','PWGTP80' ], axis=1)"
   ]
  },
  {
   "cell_type": "code",
   "execution_count": 27,
   "id": "473ee4b9",
   "metadata": {},
   "outputs": [],
   "source": [
    "un=un.drop(['PWGTP20','PWGTP21','PWGTP22','PWGTP23','PWGTP24','PWGTP25','PWGTP26','PWGTP27','PWGTP28','PWGTP29','PWGTP30','PWGTP31','PWGTP32','PWGTP33','PWGTP34','PWGTP35','PWGTP36','PWGTP37','PWGTP38','PWGTP39','PWGTP40','PWGTP41','PWGTP42','PWGTP43','PWGTP44','PWGTP45','PWGTP46','PWGTP47','PWGTP48','PWGTP49'], axis=1)"
   ]
  },
  {
   "cell_type": "code",
   "execution_count": 28,
   "id": "a24584ac",
   "metadata": {},
   "outputs": [],
   "source": [
    "un=un.drop(['PWGTP10','PWGTP11','PWGTP12','PWGTP13','PWGTP14','PWGTP15','PWGTP16','PWGTP17','PWGTP18','PWGTP19'], axis=1)"
   ]
  },
  {
   "cell_type": "code",
   "execution_count": 29,
   "id": "4f69fc06",
   "metadata": {},
   "outputs": [],
   "source": [
    "un=un.drop(['PWGTP1','PWGTP2','PWGTP3','PWGTP4','PWGTP5','PWGTP6','PWGTP7','PWGTP8','PWGTP9'], axis=1)"
   ]
  },
  {
   "cell_type": "code",
   "execution_count": 30,
   "id": "1d9a47dd",
   "metadata": {},
   "outputs": [],
   "source": [
    "un=un.drop(['DIVISION', 'REGION','ST','ADJINC'],axis=1)"
   ]
  },
  {
   "cell_type": "code",
   "execution_count": 31,
   "id": "cb78fe03",
   "metadata": {},
   "outputs": [
    {
     "data": {
      "text/plain": [
       "0    367906\n",
       "1     10911\n",
       "Name: FRACP, dtype: int64"
      ]
     },
     "execution_count": 31,
     "metadata": {},
     "output_type": "execute_result"
    }
   ],
   "source": [
    "un['FRACP'].value_counts()"
   ]
  },
  {
   "cell_type": "code",
   "execution_count": 33,
   "id": "d1258fb3",
   "metadata": {},
   "outputs": [],
   "source": [
    "import aif360\n",
    "from aif360.algorithms.preprocessing import DisparateImpactRemover\n",
    "from aif360.datasets import StructuredDataset"
   ]
  },
  {
   "cell_type": "code",
   "execution_count": 34,
   "id": "3bddf51c",
   "metadata": {},
   "outputs": [],
   "source": [
    "sd = aif360.datasets.StructuredDataset(df=un, label_names=['FWAGP'], protected_attribute_names=['SEX'])"
   ]
  },
  {
   "cell_type": "code",
   "execution_count": 35,
   "id": "748b017f",
   "metadata": {},
   "outputs": [
    {
     "data": {
      "text/plain": [
       "               instance weights features                                      \\\n",
       "                                                                               \n",
       "                                 SPORDER    PUMA  PWGTP  AGEP  CIT DEAR DEYE   \n",
       "instance names                                                                 \n",
       "0                           1.0      1.0  3701.0   32.0  30.0  1.0  2.0  2.0   \n",
       "1                           1.0      1.0  7306.0   45.0  18.0  1.0  2.0  2.0   \n",
       "2                           1.0      1.0  3755.0  109.0  69.0  1.0  2.0  2.0   \n",
       "3                           1.0      1.0  7319.0   34.0  25.0  1.0  1.0  2.0   \n",
       "4                           1.0      1.0  6511.0   46.0  31.0  1.0  2.0  2.0   \n",
       "...                         ...      ...     ...    ...   ...  ...  ...  ...   \n",
       "378812                      1.0      2.0  1308.0   94.0  61.0  4.0  2.0  2.0   \n",
       "378813                      1.0      1.0  7108.0  172.0  40.0  4.0  2.0  2.0   \n",
       "378814                      1.0      2.0  7108.0  156.0  43.0  5.0  2.0  2.0   \n",
       "378815                      1.0      3.0  7108.0  172.0  23.0  1.0  2.0  2.0   \n",
       "378816                      1.0      4.0  7108.0  127.0  18.0  1.0  2.0  2.0   \n",
       "\n",
       "                            ...                                           \\\n",
       "                            ...                                            \n",
       "               HINS1 HINS2  ... FSEMP FSEXP FSSIP FSSP FWKHP FWKLP FWKWP   \n",
       "instance names              ...                                            \n",
       "0                2.0   2.0  ...   0.0   0.0   0.0  0.0   0.0   0.0   0.0   \n",
       "1                2.0   2.0  ...   0.0   0.0   0.0  0.0   0.0   0.0   0.0   \n",
       "2                2.0   2.0  ...   0.0   0.0   0.0  0.0   0.0   0.0   0.0   \n",
       "3                1.0   2.0  ...   0.0   0.0   0.0  0.0   0.0   0.0   0.0   \n",
       "4                2.0   2.0  ...   0.0   0.0   0.0  0.0   0.0   0.0   0.0   \n",
       "...              ...   ...  ...   ...   ...   ...  ...   ...   ...   ...   \n",
       "378812           2.0   1.0  ...   0.0   0.0   0.0  0.0   0.0   0.0   0.0   \n",
       "378813           2.0   2.0  ...   0.0   0.0   0.0  0.0   0.0   0.0   0.0   \n",
       "378814           2.0   2.0  ...   0.0   0.0   0.0  0.0   0.0   0.0   0.0   \n",
       "378815           2.0   2.0  ...   0.0   0.0   0.0  0.0   0.0   0.0   0.0   \n",
       "378816           2.0   2.0  ...   0.0   0.0   0.0  0.0   0.0   0.0   0.0   \n",
       "\n",
       "                           labels  \n",
       "                                   \n",
       "               FWRKP FYOEP         \n",
       "instance names                     \n",
       "0                0.0   0.0    0.0  \n",
       "1                0.0   0.0    0.0  \n",
       "2                0.0   0.0    0.0  \n",
       "3                0.0   0.0    0.0  \n",
       "4                0.0   0.0    0.0  \n",
       "...              ...   ...    ...  \n",
       "378812           0.0   0.0    0.0  \n",
       "378813           0.0   0.0    0.0  \n",
       "378814           0.0   0.0    0.0  \n",
       "378815           0.0   0.0    0.0  \n",
       "378816           0.0   0.0    0.0  \n",
       "\n",
       "[378817 rows x 114 columns]"
      ]
     },
     "execution_count": 35,
     "metadata": {},
     "output_type": "execute_result"
    }
   ],
   "source": [
    "sd"
   ]
  },
  {
   "cell_type": "code",
   "execution_count": 36,
   "id": "b0300130",
   "metadata": {},
   "outputs": [],
   "source": [
    "#for Structured Dataset\n",
    "di1 = DisparateImpactRemover(repair_level = 1.0)\n",
    "dataset_transf_train1 = di1.fit_transform(sd)\n",
    "transformed = dataset_transf_train1.convert_to_dataframe()[0]"
   ]
  },
  {
   "cell_type": "code",
   "execution_count": 37,
   "id": "9421c178",
   "metadata": {},
   "outputs": [
    {
     "data": {
      "text/plain": [
       "0.04549392964278809"
      ]
     },
     "execution_count": 37,
     "metadata": {},
     "output_type": "execute_result"
    }
   ],
   "source": [
    "#linear\n",
    "data_source = ACSDataSource(survey_year='2018', horizon='1-Year', survey='person')\n",
    "acs_data = data_source.get_data(states=[\"CA\"], download=True)\n",
    "features, label, group = ACSEmployment.df_to_numpy(acs_data)\n",
    "X_trainn, X_testn, y_trainn, y_testn, group_trainn, group_testn = train_test_split(features, label, group, test_size=0.2, random_state=0)\n",
    "\n",
    "###### Your favorite learning algorithm here #####\n",
    "model = make_pipeline(StandardScaler(), LogisticRegression())\n",
    "model.fit(X_trainn, y_trainn)\n",
    "\n",
    "yhat = model.predict(X_testn)\n",
    "\n",
    "white_tpr = np.mean(yhat[(y_testn == 1) & (group_testn == 1)])\n",
    "black_tpr = np.mean(yhat[(y_testn == 1) & (group_testn == 2)])\n",
    "\n",
    "# Equality of opportunity violation: 0.0455\n",
    "white_tpr - black_tpr\n"
   ]
  },
  {
   "cell_type": "code",
   "execution_count": 38,
   "id": "12ae85fb",
   "metadata": {},
   "outputs": [],
   "source": [
    "x_trans = transformed.drop(['FWAGP'], axis = 1)\n",
    "y = transformed['FWAGP']\n",
    "scaler = StandardScaler()\n",
    "data_std = scaler.fit_transform(x_trans)\n",
    "x_trans_train,x_trans_test,y_trans_train,y_trans_test = train_test_split(x_trans, y, test_size=0.2, random_state = np.random.seed())"
   ]
  },
  {
   "cell_type": "code",
   "execution_count": 39,
   "id": "52ff49e7",
   "metadata": {},
   "outputs": [
    {
     "name": "stderr",
     "output_type": "stream",
     "text": [
      "lbfgs failed to converge (status=1):\n",
      "STOP: TOTAL NO. of ITERATIONS REACHED LIMIT.\n",
      "\n",
      "Increase the number of iterations (max_iter) or scale the data as shown in:\n",
      "    https://scikit-learn.org/stable/modules/preprocessing.html\n",
      "Please also refer to the documentation for alternative solver options:\n",
      "    https://scikit-learn.org/stable/modules/linear_model.html#logistic-regression\n"
     ]
    }
   ],
   "source": [
    "y_trans_pred=model.fit(x_trans_train,y_trans_train)"
   ]
  },
  {
   "cell_type": "code",
   "execution_count": 40,
   "id": "23ff1344",
   "metadata": {},
   "outputs": [],
   "source": [
    "y_transpred=y_trans_pred.predict(x_trans_test)"
   ]
  },
  {
   "cell_type": "code",
   "execution_count": 41,
   "id": "2e9961b8",
   "metadata": {},
   "outputs": [
    {
     "name": "stdout",
     "output_type": "stream",
     "text": [
      "RMSE: 0.047369\n"
     ]
    }
   ],
   "source": [
    "print(\"RMSE: %f\" % (metrics.mean_squared_error(y_trans_test,y_transpred, squared=False)))"
   ]
  },
  {
   "cell_type": "code",
   "execution_count": 42,
   "id": "298d3d0d",
   "metadata": {},
   "outputs": [
    {
     "name": "stdout",
     "output_type": "stream",
     "text": [
      "Accuracy: 0.5307137954701441\n",
      "Precision: 0.45598232494901425\n",
      "Recall: 0.15545062139691185\n"
     ]
    }
   ],
   "source": [
    "from sklearn import metrics \n",
    "print(\"Accuracy:\", metrics.accuracy_score(y_test,y_transpred))\n",
    "print(\"Precision:\",metrics.precision_score(y_test,y_transpred))\n",
    "print(\"Recall:\", metrics.recall_score(y_test,y_transpred))"
   ]
  },
  {
   "cell_type": "code",
   "execution_count": null,
   "id": "ef6da304",
   "metadata": {},
   "outputs": [],
   "source": []
  }
 ],
 "metadata": {
  "kernelspec": {
   "display_name": "Python [conda env:fresh]",
   "language": "python",
   "name": "conda-env-fresh-py"
  },
  "language_info": {
   "codemirror_mode": {
    "name": "ipython",
    "version": 3
   },
   "file_extension": ".py",
   "mimetype": "text/x-python",
   "name": "python",
   "nbconvert_exporter": "python",
   "pygments_lexer": "ipython3",
   "version": "3.10.4"
  }
 },
 "nbformat": 4,
 "nbformat_minor": 5
}

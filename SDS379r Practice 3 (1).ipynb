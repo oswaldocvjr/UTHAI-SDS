{
 "cells": [
  {
   "cell_type": "code",
   "execution_count": 99,
   "id": "e464e291",
   "metadata": {
    "scrolled": false
   },
   "outputs": [],
   "source": [
    "import numpy as np\n",
    "import pandas as pd\n",
    "from sklearn.linear_model import LogisticRegression, LinearRegression\n",
    "from sklearn.model_selection import train_test_split, RepeatedKFold, cross_val_score\n",
    "from sklearn.pipeline import make_pipeline\n",
    "from sklearn.preprocessing import StandardScaler\n",
    "from folktables import ACSDataSource, ACSEmployment, generate_categories, ACSIncome, ACSHealthInsurance\n",
    "import matplotlib\n",
    "matplotlib.use(\"agg\")\n",
    "import matplotlib.pyplot as plt\n",
    "%matplotlib inline\n",
    "from statsmodels.graphics.regressionplots import abline_plot\n",
    "from statsmodels.formula.api import ols\n",
    "from scipy.stats import linregress\n",
    "import math\n",
    "import sklearn\n",
    "from sklearn.metrics import mean_squared_error\n",
    "import statistics\n",
    "import numpy as np"
   ]
  },
  {
   "cell_type": "code",
   "execution_count": 75,
   "id": "15ff6b51",
   "metadata": {},
   "outputs": [],
   "source": [
    "from folk_data_preProcessor import preProcessor\n",
    "from folktables import ACSDataSource, ACSEmployment\n",
    "\n",
    "# import the data\n",
    "data_source = ACSDataSource(survey_year='2018', horizon='1-Year', survey='person')\n",
    "acs_data = data_source.get_data(states=[\"CA\"], download=True)\n",
    "features, label, _ = ACSEmployment.df_to_pandas(acs_data)\n",
    "\n",
    "# obtain the data sets\n",
    "data = preProcessor(acs_data, features, \"WAGP\")"
   ]
  },
  {
   "cell_type": "code",
   "execution_count": 21,
   "id": "f239de4a",
   "metadata": {},
   "outputs": [],
   "source": [
    "data_source = ACSDataSource(survey_year='2018', horizon='1-Year', survey='person')\n",
    "acs_data = data_source.get_data(states=[\"CA\"], download=True)\n",
    "features, label, group = ACSEmployment.df_to_numpy(acs_data)\n",
    "nat_group = acs_data[\"NATIVITY\"]\n",
    "sex_group = acs_data[\"SEX\"]\n",
    "cont_labels = acs_data[\"WAGP\"]\n",
    "X_train, X_test, y_train, y_test, group_train, group_test = train_test_split(features, label, group, test_size=0.2, random_state=np.random.seed())\n",
    "\n",
    "#X_train, X_test, y_train, y_test, group_train, group_test, sex_train, sex_test = train_test_split(features, label, group, sex_group, test_size=0.2, random_state=np.random.seed())"
   ]
  },
  {
   "cell_type": "markdown",
   "id": "9024b746",
   "metadata": {},
   "source": [
    "#### Linear Regression"
   ]
  },
  {
   "cell_type": "code",
   "execution_count": 112,
   "id": "d7823aab",
   "metadata": {},
   "outputs": [
    {
     "name": "stdout",
     "output_type": "stream",
     "text": [
      "RMSE: 0.402316\n"
     ]
    }
   ],
   "source": [
    "#linear\n",
    "import scipy\n",
    "linreg=LinearRegression()\n",
    "linreg.fit(X_train,y_train)\n",
    "y_predn=linreg.predict(X_test)\n",
    "from sklearn import metrics\n",
    "print(\"RMSE: %f\" % (metrics.mean_squared_error(y_test,y_predn, squared=False)))"
   ]
  },
  {
   "cell_type": "markdown",
   "id": "db6b700e",
   "metadata": {},
   "source": [
    "#### Using XGBoost"
   ]
  },
  {
   "cell_type": "code",
   "execution_count": 8,
   "id": "8283bea0",
   "metadata": {},
   "outputs": [
    {
     "name": "stdout",
     "output_type": "stream",
     "text": [
      "1.6.2\n"
     ]
    }
   ],
   "source": [
    "import xgboost\n",
    "from xgboost import XGBRegressor\n",
    "from sklearn.metrics import mean_squared_error\n",
    "print(xgboost.__version__)\n"
   ]
  },
  {
   "cell_type": "markdown",
   "id": "f92197c3",
   "metadata": {},
   "source": [
    "References:\n",
    "1. https://machinelearningmastery.com/xgboost-for-regression/\n",
    "2. https://www.youtube.com/watch?v=sxfpzUF6FLA\n"
   ]
  },
  {
   "cell_type": "code",
   "execution_count": 9,
   "id": "6e537f11",
   "metadata": {},
   "outputs": [
    {
     "name": "stdout",
     "output_type": "stream",
     "text": [
      "RMSE: 0.347192\n"
     ]
    }
   ],
   "source": [
    "#non-linear\n",
    "xg_reg = xgboost.XGBRegressor(objective ='reg:squarederror', colsample_bytree = 1, learning_rate = 0.6,\n",
    "                max_depth = 5, alpha = 10, n_estimators = 10)\n",
    "xg_reg.fit(X_train,y_train)\n",
    "\n",
    "preds = xg_reg.predict(X_test)\n",
    "\n",
    "rmse = np.sqrt(mean_squared_error(y_test, preds))\n",
    "print(\"RMSE: %f\" % (rmse))"
   ]
  },
  {
   "cell_type": "markdown",
   "id": "ef54dfd5",
   "metadata": {},
   "source": [
    "### Note: currently the part from here to AIF360 is not in use"
   ]
  },
  {
   "cell_type": "code",
   "execution_count": null,
   "id": "3122586d",
   "metadata": {},
   "outputs": [],
   "source": [
    "#not currently in use\n",
    "features, label, group = ACSEmployment.df_to_numpy(ca_features)\n",
    "#nat_group = ca_features[\"NATIVITY\"]\n",
    "\n",
    "dff = ca_data[ca_data['WAGP'].notna()]\n",
    "t = pd.DataFrame(np.hstack((features, np.array(cont_labels).reshape(-1, 1)))).dropna()\n",
    "cont_features, cont_labels, cont_group = t.iloc[:, 0:16], t.iloc[:,16], t[15]\n",
    "#caa_data=ca_data.drop(['WAGP'],axis=1)\n"
   ]
  },
  {
   "cell_type": "code",
   "execution_count": null,
   "id": "ec1e3cad",
   "metadata": {},
   "outputs": [],
   "source": [
    "ACSEmployment.df_to_numpy(ca_data)"
   ]
  },
  {
   "cell_type": "code",
   "execution_count": null,
   "id": "f8310dea",
   "metadata": {},
   "outputs": [],
   "source": [
    "ca_use=pd.DataFrame(ca_data)\n",
    "\n",
    "ca_use=ca_use.drop(['RT', 'SERIALNO', 'NAICSP', 'SOCP','WAGP'], axis=1)\n",
    "ca_use.info()"
   ]
  },
  {
   "cell_type": "code",
   "execution_count": null,
   "id": "50d72053",
   "metadata": {},
   "outputs": [],
   "source": [
    "ca_use=pd.DataFrame(dff)\n",
    "\n",
    "ca_use=ca_use.drop(['RT', 'SERIALNO', 'NAICSP', 'SOCP','WAGP','CITWP','COW'], axis=1)\n",
    "ca_use.head()"
   ]
  },
  {
   "cell_type": "code",
   "execution_count": null,
   "id": "760f8d73",
   "metadata": {
    "scrolled": false
   },
   "outputs": [],
   "source": [
    "X,y=cont_features,cont_labels\n",
    "X"
   ]
  },
  {
   "cell_type": "code",
   "execution_count": null,
   "id": "b7added4",
   "metadata": {},
   "outputs": [],
   "source": [
    "data_dmatrix = xgboost.DMatrix(data=X,label=y)\n",
    "data_dmatrix"
   ]
  },
  {
   "cell_type": "markdown",
   "id": "0561af87",
   "metadata": {},
   "source": [
    "# AIF360"
   ]
  },
  {
   "cell_type": "markdown",
   "id": "45c3dcf6",
   "metadata": {},
   "source": [
    "Issue 1: requires to convert the dataframe to a BinaryLabelDataSet"
   ]
  },
  {
   "cell_type": "code",
   "execution_count": 12,
   "id": "9c7e0de8",
   "metadata": {},
   "outputs": [
    {
     "name": "stdout",
     "output_type": "stream",
     "text": [
      "<class 'pandas.core.frame.DataFrame'>\n",
      "RangeIndex: 378817 entries, 0 to 378816\n",
      "Columns: 199 entries, RT to PWGTP80\n",
      "dtypes: int64(197), object(2)\n",
      "memory usage: 575.1+ MB\n"
     ]
    }
   ],
   "source": [
    "un=acs_data.dropna(how='any',axis=1)\n",
    "un.info()"
   ]
  },
  {
   "cell_type": "code",
   "execution_count": 113,
   "id": "18887572",
   "metadata": {},
   "outputs": [
    {
     "data": {
      "text/plain": [
       "2    192140\n",
       "1    186677\n",
       "Name: SEX, dtype: int64"
      ]
     },
     "execution_count": 113,
     "metadata": {},
     "output_type": "execute_result"
    }
   ],
   "source": [
    "target_sex=un['SEX'].value_counts()\n",
    "target_sex"
   ]
  },
  {
   "cell_type": "code",
   "execution_count": null,
   "id": "a82ae657",
   "metadata": {},
   "outputs": [],
   "source": [
    "target_race=un['RAC1P'].value_counts()\n",
    "target_race"
   ]
  },
  {
   "cell_type": "code",
   "execution_count": null,
   "id": "c70ad7ba",
   "metadata": {},
   "outputs": [],
   "source": [
    "target_status=un['MAR'].value_counts()\n",
    "target_status"
   ]
  },
  {
   "cell_type": "markdown",
   "id": "f5eef264",
   "metadata": {},
   "source": [
    "Dropping some of those columns from the dataset doesn't change anything, it just helps process 3 times faster. I will standardize the PWGTP ones ."
   ]
  },
  {
   "cell_type": "code",
   "execution_count": null,
   "id": "b7dae9f4",
   "metadata": {},
   "outputs": [],
   "source": [
    "un=un.drop(['RT','SERIALNO'])"
   ]
  },
  {
   "cell_type": "code",
   "execution_count": 28,
   "id": "fa15cdc3",
   "metadata": {},
   "outputs": [],
   "source": [
    "un=un.drop(['PWGTP50','PWGTP51','PWGTP52','PWGTP53','PWGTP54','PWGTP55','PWGTP56','PWGTP57','PWGTP58','PWGTP59','PWGTP60','PWGTP61','PWGTP62','PWGTP63','PWGTP64','PWGTP65','PWGTP66','PWGTP67','PWGTP68','PWGTP69','PWGTP70','PWGTP71','PWGTP72','PWGTP73','PWGTP74','PWGTP75','PWGTP76','PWGTP77','PWGTP78','PWGTP79','PWGTP80' ], axis=1)"
   ]
  },
  {
   "cell_type": "code",
   "execution_count": 30,
   "id": "6d9e7a28",
   "metadata": {},
   "outputs": [],
   "source": [
    "un=un.drop(['PWGTP20','PWGTP21','PWGTP22','PWGTP23','PWGTP24','PWGTP25','PWGTP26','PWGTP27','PWGTP28','PWGTP29','PWGTP30','PWGTP31','PWGTP32','PWGTP33','PWGTP34','PWGTP35','PWGTP36','PWGTP37','PWGTP38','PWGTP39','PWGTP40','PWGTP41','PWGTP42','PWGTP43','PWGTP44','PWGTP45','PWGTP46','PWGTP47','PWGTP48','PWGTP49'], axis=1)"
   ]
  },
  {
   "cell_type": "code",
   "execution_count": 32,
   "id": "a309a40b",
   "metadata": {},
   "outputs": [],
   "source": [
    "un=un.drop(['PWGTP10','PWGTP11','PWGTP12','PWGTP13','PWGTP14','PWGTP15','PWGTP16','PWGTP17','PWGTP18','PWGTP19'], axis=1)"
   ]
  },
  {
   "cell_type": "code",
   "execution_count": 35,
   "id": "192ed97a",
   "metadata": {},
   "outputs": [],
   "source": [
    "un=un.drop(['PWGTP1','PWGTP2','PWGTP3','PWGTP4','PWGTP5','PWGTP6','PWGTP7','PWGTP8','PWGTP9'], axis=1)"
   ]
  },
  {
   "cell_type": "code",
   "execution_count": 47,
   "id": "dc98948a",
   "metadata": {},
   "outputs": [],
   "source": [
    "un=un.drop(['DIVISION', 'REGION','ST','ADJINC'],axis=1)"
   ]
  },
  {
   "cell_type": "code",
   "execution_count": 66,
   "id": "2438ad3f",
   "metadata": {},
   "outputs": [
    {
     "data": {
      "text/plain": [
       "0    367906\n",
       "1     10911\n",
       "Name: FRACP, dtype: int64"
      ]
     },
     "execution_count": 66,
     "metadata": {},
     "output_type": "execute_result"
    }
   ],
   "source": [
    "un['FRACP'].value_counts()"
   ]
  },
  {
   "cell_type": "code",
   "execution_count": null,
   "id": "72e11e99",
   "metadata": {},
   "outputs": [],
   "source": [
    "# this is using the dataset from the import file (the one Oswaldo and I were gonna use to make sure we have the same data)\n",
    "\"\"\"binaryLabelDataset_processed = aif360.datasets.BinaryLabelDataset(\n",
    "    favorable_label=1,\n",
    "    unfavorable_label=2,\n",
    "    df=data,\n",
    "    label_names=['WAGP'],\n",
    "    protected_attribute_names=['SEX'])\"\"\""
   ]
  },
  {
   "cell_type": "code",
   "execution_count": 67,
   "id": "3a89cc5a",
   "metadata": {},
   "outputs": [],
   "source": [
    "import aif360\n",
    "from aif360.algorithms.preprocessing import DisparateImpactRemover\n",
    "# This is what would have been used if we were evaluating for two outcomes - either success or failure. I ended up figuring out the other one and used it successfully.\n",
    "binaryLabelDataset = aif360.datasets.BinaryLabelDataset(\n",
    "    favorable_label=1,\n",
    "    unfavorable_label=0,\n",
    "    df=un,\n",
    "    label_names=['FWAGP'],\n",
    "    protected_attribute_names=['SEX'])"
   ]
  },
  {
   "cell_type": "code",
   "execution_count": 102,
   "id": "dac2af7b",
   "metadata": {},
   "outputs": [],
   "source": [
    "sd = aif360.datasets.StructuredDataset(df=un, label_names=['FWAGP'], protected_attribute_names=['SEX'])"
   ]
  },
  {
   "cell_type": "code",
   "execution_count": 103,
   "id": "864397b0",
   "metadata": {},
   "outputs": [
    {
     "data": {
      "text/plain": [
       "               instance weights features                                      \\\n",
       "                                                                               \n",
       "                                 SPORDER    PUMA  PWGTP  AGEP  CIT DEAR DEYE   \n",
       "instance names                                                                 \n",
       "0                           1.0      1.0  3701.0   32.0  30.0  1.0  2.0  2.0   \n",
       "1                           1.0      1.0  7306.0   45.0  18.0  1.0  2.0  2.0   \n",
       "2                           1.0      1.0  3755.0  109.0  69.0  1.0  2.0  2.0   \n",
       "3                           1.0      1.0  7319.0   34.0  25.0  1.0  1.0  2.0   \n",
       "4                           1.0      1.0  6511.0   46.0  31.0  1.0  2.0  2.0   \n",
       "...                         ...      ...     ...    ...   ...  ...  ...  ...   \n",
       "378812                      1.0      2.0  1308.0   94.0  61.0  4.0  2.0  2.0   \n",
       "378813                      1.0      1.0  7108.0  172.0  40.0  4.0  2.0  2.0   \n",
       "378814                      1.0      2.0  7108.0  156.0  43.0  5.0  2.0  2.0   \n",
       "378815                      1.0      3.0  7108.0  172.0  23.0  1.0  2.0  2.0   \n",
       "378816                      1.0      4.0  7108.0  127.0  18.0  1.0  2.0  2.0   \n",
       "\n",
       "                            ...                                           \\\n",
       "                            ...                                            \n",
       "               HINS1 HINS2  ... FSEMP FSEXP FSSIP FSSP FWKHP FWKLP FWKWP   \n",
       "instance names              ...                                            \n",
       "0                2.0   2.0  ...   0.0   0.0   0.0  0.0   0.0   0.0   0.0   \n",
       "1                2.0   2.0  ...   0.0   0.0   0.0  0.0   0.0   0.0   0.0   \n",
       "2                2.0   2.0  ...   0.0   0.0   0.0  0.0   0.0   0.0   0.0   \n",
       "3                1.0   2.0  ...   0.0   0.0   0.0  0.0   0.0   0.0   0.0   \n",
       "4                2.0   2.0  ...   0.0   0.0   0.0  0.0   0.0   0.0   0.0   \n",
       "...              ...   ...  ...   ...   ...   ...  ...   ...   ...   ...   \n",
       "378812           2.0   1.0  ...   0.0   0.0   0.0  0.0   0.0   0.0   0.0   \n",
       "378813           2.0   2.0  ...   0.0   0.0   0.0  0.0   0.0   0.0   0.0   \n",
       "378814           2.0   2.0  ...   0.0   0.0   0.0  0.0   0.0   0.0   0.0   \n",
       "378815           2.0   2.0  ...   0.0   0.0   0.0  0.0   0.0   0.0   0.0   \n",
       "378816           2.0   2.0  ...   0.0   0.0   0.0  0.0   0.0   0.0   0.0   \n",
       "\n",
       "                           labels  \n",
       "                                   \n",
       "               FWRKP FYOEP         \n",
       "instance names                     \n",
       "0                0.0   0.0    0.0  \n",
       "1                0.0   0.0    0.0  \n",
       "2                0.0   0.0    0.0  \n",
       "3                0.0   0.0    0.0  \n",
       "4                0.0   0.0    0.0  \n",
       "...              ...   ...    ...  \n",
       "378812           0.0   0.0    0.0  \n",
       "378813           0.0   0.0    0.0  \n",
       "378814           0.0   0.0    0.0  \n",
       "378815           0.0   0.0    0.0  \n",
       "378816           0.0   0.0    0.0  \n",
       "\n",
       "[378817 rows x 114 columns]"
      ]
     },
     "execution_count": 103,
     "metadata": {},
     "output_type": "execute_result"
    }
   ],
   "source": [
    "sd"
   ]
  },
  {
   "cell_type": "code",
   "execution_count": 70,
   "id": "1c198b4c",
   "metadata": {},
   "outputs": [
    {
     "name": "stdout",
     "output_type": "stream",
     "text": [
      "<class 'pandas.core.frame.DataFrame'>\n",
      "RangeIndex: 378817 entries, 0 to 378816\n",
      "Columns: 113 entries, SPORDER to FYOEP\n",
      "dtypes: int64(113)\n",
      "memory usage: 326.6 MB\n"
     ]
    }
   ],
   "source": [
    "un.info()"
   ]
  },
  {
   "cell_type": "code",
   "execution_count": 72,
   "id": "09094b25",
   "metadata": {},
   "outputs": [],
   "source": [
    "di = DisparateImpactRemover(repair_level = 1.0)\n",
    "dataset_transf_train = di.fit_transform(binaryLabelDataset)\n",
    "transformed = dataset_transf_train.convert_to_dataframe()[0]"
   ]
  },
  {
   "cell_type": "code",
   "execution_count": 104,
   "id": "95d11d27",
   "metadata": {},
   "outputs": [],
   "source": [
    "#for Structured Dataset\n",
    "di1 = DisparateImpactRemover(repair_level = 1.0)\n",
    "dataset_transf_train1 = di.fit_transform(sd)\n",
    "transformed = dataset_transf_train1.convert_to_dataframe()[0]"
   ]
  },
  {
   "cell_type": "code",
   "execution_count": 105,
   "id": "12ae85fb",
   "metadata": {},
   "outputs": [],
   "source": [
    "x_trans = transformed.drop(['FWAGP'], axis = 1)\n",
    "y = transformed['FWAGP']\n",
    "scaler = StandardScaler()\n",
    "data_std = scaler.fit_transform(x_trans)\n",
    "x_trans_train,x_trans_test,y_trans_train,y_trans_test = train_test_split(x_trans, y, test_size=0.2, random_state = 0)"
   ]
  },
  {
   "cell_type": "code",
   "execution_count": 106,
   "id": "52ff49e7",
   "metadata": {},
   "outputs": [
    {
     "name": "stderr",
     "output_type": "stream",
     "text": [
      "lbfgs failed to converge (status=1):\n",
      "STOP: TOTAL NO. of ITERATIONS REACHED LIMIT.\n",
      "\n",
      "Increase the number of iterations (max_iter) or scale the data as shown in:\n",
      "    https://scikit-learn.org/stable/modules/preprocessing.html\n",
      "Please also refer to the documentation for alternative solver options:\n",
      "    https://scikit-learn.org/stable/modules/linear_model.html#logistic-regression\n"
     ]
    }
   ],
   "source": [
    "y_trans_pred=model.fit(x_trans_train,y_trans_train)"
   ]
  },
  {
   "cell_type": "code",
   "execution_count": 108,
   "id": "07431f45",
   "metadata": {},
   "outputs": [],
   "source": [
    "y_transpred=y_trans_pred.predict(x_trans_test)"
   ]
  },
  {
   "cell_type": "code",
   "execution_count": 110,
   "id": "e6d3e976",
   "metadata": {},
   "outputs": [
    {
     "name": "stdout",
     "output_type": "stream",
     "text": [
      "RMSE: 0.082612\n"
     ]
    }
   ],
   "source": [
    "print(\"RMSE: %f\" % (metrics.mean_squared_error(y_trans_test,y_transpred, squared=True)))"
   ]
  },
  {
   "cell_type": "code",
   "execution_count": 114,
   "id": "298d3d0d",
   "metadata": {},
   "outputs": [
    {
     "name": "stdout",
     "output_type": "stream",
     "text": [
      "Accuracy: 0.538065572039491\n",
      "Precision: 0.4598093612178119\n",
      "Recall: 0.09386344495106438\n"
     ]
    }
   ],
   "source": [
    "from sklearn import metrics \n",
    "print(\"Accuracy:\", metrics.accuracy_score(y_test,y_transpred))\n",
    "print(\"Precision:\",metrics.precision_score(y_test,y_transpred))\n",
    "print(\"Recall:\", metrics.recall_score(y_test,y_transpred))"
   ]
  },
  {
   "cell_type": "code",
   "execution_count": null,
   "id": "ef6da304",
   "metadata": {},
   "outputs": [],
   "source": []
  }
 ],
 "metadata": {
  "kernelspec": {
   "display_name": "Python [conda env:fresh]",
   "language": "python",
   "name": "conda-env-fresh-py"
  },
  "language_info": {
   "codemirror_mode": {
    "name": "ipython",
    "version": 3
   },
   "file_extension": ".py",
   "mimetype": "text/x-python",
   "name": "python",
   "nbconvert_exporter": "python",
   "pygments_lexer": "ipython3",
   "version": "3.10.4"
  }
 },
 "nbformat": 4,
 "nbformat_minor": 5
}

{
 "cells": [
  {
   "cell_type": "markdown",
   "metadata": {},
   "source": [
    "# Folktables Exercises"
   ]
  },
  {
   "cell_type": "markdown",
   "metadata": {},
   "source": [
    "This notebook explores fairlearn's capabilities within classification. The do's and cant's knowledge within this notebook can also be applied to the modeling task within HMIS."
   ]
  },
  {
   "cell_type": "markdown",
   "metadata": {},
   "source": [
    "The following notebook uses the folktable data found [here](https://github.com/zykls/folktables). <br>\n",
    "Full 2018 ACS documentation found [here](https://www2.census.gov/programs-surveys/acs/tech_docs/pums/data_dict/PUMS_Data_Dictionary_2018.txt). <br>\n",
    "Intro to ACS public use: [video link](https://www.census.gov/data/academy/webinars/2020/introduction-to-american-community-survey-public-use-microdata-sample-pums-files.html)."
   ]
  },
  {
   "cell_type": "markdown",
   "metadata": {},
   "source": [
    "## Data Pipeline Explained"
   ]
  },
  {
   "cell_type": "markdown",
   "metadata": {},
   "source": [
    "**Pre-processing:** The notebooks that use **folktables** do not require pre-processing. The methods from the folktables package provide datasets that are ready to serve as input to ML models. In regards to the pre-processing within **HMIS**, previous work within the UT HAI Lab provide methods to handle pre-processing (i.e. the datasets within HMIS are also ready to serve as input to ML models).\n",
    "\n",
    "**In-processing:** Within this research project, we expirement with some in-processing techniques provided by fairlearn in attempt to mitigate bias during the traning phase of a model (e.g. fairlearn's <code>GridSearch</code>).\n",
    "\n",
    "**Post-processing:** There are not many post-processing techniques that are used within this project (only fairlearn's <code>ThresholdOptimizer</code> alters ML outputs). Most of the work done within this research project deals with finding ways to identify and report possible biases across various modeling tasks."
   ]
  },
  {
   "cell_type": "markdown",
   "metadata": {},
   "source": [
    "### Definitions:\n",
    "\n",
    "**ACS (American Community Survey)** - Information from the survey generates data that help determine how more than $675 billion in federal and state funds are distributed each year. Unlike the every-10-year census, this survey continues all year, every year. ACS randomly samples addresses in every state, the District of Columbia, and Puerto Rico. \n",
    "\n",
    "**ACSEmployment data**\n",
    "\n",
    "<code> features </code> **- the independent variables**\n",
    "* ['AGEP', 'SCHL', 'MAR', 'RELP', 'DIS', 'ESP', 'CIT', 'MIG', 'MIL', 'ANC', 'NATIVITY', 'DEAR', 'DEYE', 'DREM', 'SEX', 'RAC1P']\n",
    "| Feature      | Description                   |\n",
    "| :---         | :---                          |\n",
    "| AGEP         | Age                           |\n",
    "| SCHL         | Educational attainment        |\n",
    "| MAR          | Marital status                |\n",
    "| RELP         | Relationship                  |\n",
    "| DIS          | Disability recode             |\n",
    "| ESP          | Employment status of parents  |\n",
    "| CIT          | Citizenship status            |\n",
    "| MIG          | Mobility status (lived here 1 year ago)|\n",
    "| MIL          | Military service              |\n",
    "| ANC          | Ancestry recode               |\n",
    "| NATIVITY     | Native or Foreign born        |\n",
    "| DEAR         | Hearing difficulty            |\n",
    "| DEYE         | Vision difficulty             |\n",
    "| DREM         | Cognitive difficulty          |\n",
    "| SEX          | Male or Female                |\n",
    "| RAC1P        | Recoded detailed race code    |\n",
    "\n",
    "\n",
    "       \n",
    "<code> group </code> **- race group**\n",
    "* 1    .White alone\n",
    "* 2    .Black or African American alone\n",
    "* 3    .American Indian alone\n",
    "* 4    .Alaska Native alone\n",
    "* 5    .American Indian and Alaska Native tribes specified; or American   Indian or Alaska Native, not specified and no other races\n",
    "* 6    .Asian alone\n",
    "* 7    .Native Hawaiian and Other Pacific Islander alone\n",
    "* 8    .Some Other Race alone\n",
    "* 9    .Two or More Races\n",
    "\n",
    "<code>nav_group </code> **- native group**\n",
    "* 1    .Native\n",
    "* 2    .Foreign born\n",
    "\n",
    "<code>sex_group </code> **- sex group**\n",
    "* 1    .Male\n",
    "* 2    .Female\n",
    "\n",
    "<code> target variable </code> **- Employment status recode**\n",
    "* b    .N/A (less than 16 years old) - <code>False</code>\n",
    "* 1    .Civilian employed, at work - <code>True</code>\n",
    "* 2    .Civilian employed, with a job but not at work - <code>False</code>\n",
    "* 3    .Unemployed - <code>False</code>\n",
    "* 4    .Armed forces, at work - <code>False</code>\n",
    "* 5    .Armed forces, with a job but not at work - <code>False</code>\n",
    "* 6    .Not in labor force - <code>False</code>\n",
    "\n",
    "<code>cont_labels </code> **- Wages & income**\n",
    "\n",
    "---\n",
    "\n",
    "**datasets** - fetch sample datasets \n",
    "\n",
    "**metrics** - functionality for computing metrics with a focus on ‘disaggregated metrics’. This is a metric where in addition to y_true and y_pred values, the user provides information about group membership for each sample. \n",
    "\n",
    "**postprocessing** - methods which operate on the predictor (i.e. X) rather than the estimator (i.e. Y). \n",
    "\n",
    "**preprocessing**  - a filtering technique that eliminates sensitive correlations in the dataset. \n",
    "\n",
    "**reductions** - This module contains algorithms implementing the reductions approach to disparity mitigation. In this approach, disparity constraints are cast as Lagrange multipliers, which cause the reweighting and relabelling of the input data. This reduces the problem back to standard machine learning training.\n",
    "\n",
    "### fairlearn can and can’t:\n",
    "**can -**\n",
    "* **Fairness Assessments** [link](https://fairlearn.org/main/user_guide/assessment.html)\n",
    "* **Demographic Parity** - a fairness metric whose goal is to ensure a machine learning model’s predictions are independent of membership in a sensitive group. $$E[h(X)|A=a]=E[h(X)], \\forall a$$\n",
    "$$P[f(X) \\leq z|A=a]=P[f(X)\\leq z],  \\forall a, z$$ where $A$ is a sensitive feature, $h$ is a classifier, and $f$ is a regressor.<br>\n",
    "<code>demographic_parity_difference()</code>  - Returns the absolute difference between the highest and lowest selection rates of the sensitive groups. A result of 0 means there is a demographic parity. (only for classifiers). <br>\n",
    "<code>demographic_parity_ratio()</code> - Returns the ratio of the lowest and highest selection rates. A result of 1 means there is a demographic parity.\n",
    "* **Equalized Odds** - The goal of the equalized odds fairness metric is to ensure a machine learning model performs equally well for different groups. It is stricter than demographic parity because it requires that the machine learning model’s predictions are not only independent of sensitive group membership, but that groups have the same false positive rates and true positive rates. $$E[h(X)|A=a, Y=y]=E[h(X)|Y=y],  \\forall a, y$$ AND \n",
    "that the true positive rate and false positive rate be equal across groups (classifiers). <br>\n",
    "<code>equalized_odds_difference()</code> - Returns the largest difference between the TRP difference and FPR difference. <br>\n",
    "<code>equalized_odds_ratio()</code> - Returns the the smallest ratio between the TRP ratio and FPR ratio. \n",
    "* **Equal Opportunity** - Equal opportunity is a relaxed version of equalized odds that only considers conditional expectations with respect to positive labels. NOTE: The developers of fairlearn suggest that this fairness metric can overlook misclassifications since it does not consider false positive rates.\n",
    "* **Intersecting Groups** - Fairlearn supports metric assessment in the scenario of intersection of multiple sensitive features. <br>\n",
    "<code>MetricFrame.by_group</code> - Returns a table that displays all the possible combinations of sensitive groups and their fairness metric results.\n",
    "* **Control Feature**\n",
    "* **Group by Group Visualizations**\n",
    "* **Unfairness Mitigations** - algorithm related techniques to mitigate unfairness. Full list of algorithms and their basic descriptions found here.\n",
    "---\n",
    "* **Fairness Mitigation** [link](https://fairlearn.org/v0.8/user_guide/mitigation.html)\n",
    "* <code>ExponentiatedGradient</code>\n",
    "* <code>GridSearch</code>\n",
    "* <code>ThresholdOptimizer</code>\n",
    "* <code>CorrelationRemover</code>\n",
    "\n",
    "**can’t -** \n",
    "* Fairly limited in number of postprocessing and preprocessing techniques. Most of the assessment tools that fairlearn offers inherit from the ‘metrics’ package.\n",
    "* I have yet to find a focus on unsupervised related techniques."
   ]
  },
  {
   "cell_type": "code",
   "execution_count": 1,
   "metadata": {},
   "outputs": [],
   "source": [
    "import pandas as pd\n",
    "import numpy as np\n",
    "import matplotlib.pyplot as plt\n",
    "from folktables import ACSDataSource, ACSEmployment\n",
    "import random\n",
    "\n",
    "from sklearn.linear_model import LogisticRegression\n",
    "from sklearn.ensemble import RandomForestClassifier\n",
    "from sklearn.model_selection import train_test_split\n",
    "from sklearn.preprocessing import StandardScaler\n",
    "from sklearn.metrics import accuracy_score, recall_score\n",
    "\n",
    "from fairlearn.metrics import MetricFrame\n",
    "from fairlearn.metrics import count, \\\n",
    "                              false_positive_rate, \\\n",
    "                              selection_rate, \\\n",
    "                              demographic_parity_difference, demographic_parity_ratio, \\\n",
    "                              equalized_odds_difference, equalized_odds_ratio\n",
    "from fairlearn.postprocessing import ThresholdOptimizer"
   ]
  },
  {
   "cell_type": "code",
   "execution_count": 2,
   "metadata": {},
   "outputs": [],
   "source": [
    "\"\"\"\n",
    "Set random seeds\n",
    "\"\"\"\n",
    "train_test_state = 0\n",
    "\n",
    "random.seed(0)"
   ]
  },
  {
   "cell_type": "markdown",
   "metadata": {},
   "source": [
    "**NOTE:**The following exercise deals with trying different fairness metrics, and mitigation techniques with classifers."
   ]
  },
  {
   "cell_type": "code",
   "execution_count": 3,
   "metadata": {},
   "outputs": [],
   "source": [
    "# import the data\n",
    "data_source = ACSDataSource(survey_year='2018', horizon='1-Year', survey='person')\n",
    "acs_data = data_source.get_data(states=[\"CA\"], download=True)\n",
    "features, label, group = ACSEmployment.df_to_pandas(acs_data)\n",
    "\n",
    "# create sensitive feature(s):\n",
    "nat_group = acs_data[\"NATIVITY\"]\n",
    "sex_group = acs_data[\"SEX\"]\n",
    "\n",
    "# convert 1D pd dataframes to Series objects\n",
    "label = label.squeeze()\n",
    "group = group.squeeze()"
   ]
  },
  {
   "cell_type": "code",
   "execution_count": 4,
   "metadata": {},
   "outputs": [],
   "source": [
    "# identifying encodings\n",
    "race = {\n",
    "    1: \"White alone\",\n",
    "    2: \"Black or African American alone\",\n",
    "    3: \"American Indian alone\",\n",
    "    4: \"American Indian alone\",\n",
    "    5: \"American Indian/Alaska Native specified/not specified or no other races\", # truncated for index purposes\n",
    "    6: \"Asian alone\",\n",
    "    7: \"Native Hawaiian and Other Pacific Islander alone\",\n",
    "    8: \"Some Other Race alone\",\n",
    "    9: \"Two or More Races\"\n",
    "}"
   ]
  },
  {
   "cell_type": "code",
   "execution_count": 5,
   "metadata": {},
   "outputs": [],
   "source": [
    "###store accuracies of all the different models used###\n",
    "\n",
    "###demographic parity###\n",
    "# 1. logistic regression\n",
    "# 2. logistic regression fairML\n",
    "# 3. random forest\n",
    "# 4. random forest fairML\n",
    "\n",
    "###equalized odds###\n",
    "# 1. logistic regression\n",
    "# 2. logistic regression fairML\n",
    "# 3. random forest\n",
    "# 4. random forest fairML\n",
    "acc_dem, acc_EO = [], []"
   ]
  },
  {
   "cell_type": "code",
   "execution_count": 6,
   "metadata": {
    "scrolled": true
   },
   "outputs": [],
   "source": [
    "# create a standard scaler for the data\n",
    "scaler = StandardScaler().fit(features)\n",
    "\n",
    "# slit the date to train and tests sets with a 80-20 split\n",
    "X_train, X_test, y_train, y_test, group_train, group_test, sex_train, sex_test, nat_train, nat_test = train_test_split(\n",
    "    features, label, group, sex_group, nat_group, test_size=0.2, random_state=train_test_state)\n",
    "\n",
    "X_train = scaler.transform(X_train)\n",
    "X_test = scaler.transform(X_test)"
   ]
  },
  {
   "cell_type": "markdown",
   "metadata": {},
   "source": [
    "---"
   ]
  },
  {
   "cell_type": "markdown",
   "metadata": {},
   "source": [
    "## ---fairlearn assessment: logistic regression classifier---"
   ]
  },
  {
   "cell_type": "code",
   "execution_count": 7,
   "metadata": {
    "scrolled": true
   },
   "outputs": [],
   "source": [
    "# run a simple logistic regression model\n",
    "model = LogisticRegression()\n",
    "model.fit(X_train, y_train)\n",
    "\n",
    "yhat = model.predict(X_test)\n",
    "accuracy = accuracy_score(y_test, yhat)\n",
    "#print(\"Linear Model Accuracy is:\", accuracy)\n",
    "acc_dem.append(accuracy_score(y_test, yhat))\n",
    "acc_EO.append(accuracy_score(y_test, yhat))"
   ]
  },
  {
   "cell_type": "code",
   "execution_count": 8,
   "metadata": {
    "scrolled": true
   },
   "outputs": [],
   "source": [
    "# Construct a function dictionary\n",
    "my_metrics = {\n",
    "    'accuracy' : accuracy_score,\n",
    "    'tpr' : recall_score,\n",
    "    'fpr' : false_positive_rate,\n",
    "    'sel' : selection_rate,\n",
    "    'count' : count\n",
    "}\n",
    "# Construct a MetricFrame\n",
    "mf = MetricFrame(\n",
    "    metrics=my_metrics,\n",
    "    y_true=y_test,\n",
    "    y_pred=yhat,\n",
    "    sensitive_features={\"Race\":group_test}\n",
    ")"
   ]
  },
  {
   "cell_type": "code",
   "execution_count": 9,
   "metadata": {},
   "outputs": [
    {
     "data": {
      "text/plain": [
       "accuracy    0.772874\n",
       "tpr         0.833304\n",
       "fpr         0.277458\n",
       "sel         0.530041\n",
       "count          75764\n",
       "dtype: object"
      ]
     },
     "execution_count": 9,
     "metadata": {},
     "output_type": "execute_result"
    }
   ],
   "source": [
    "# overall True Positive Rate, False Positive Rate, Selection Rate, Counts\n",
    "mf.overall"
   ]
  },
  {
   "cell_type": "code",
   "execution_count": 10,
   "metadata": {
    "scrolled": false
   },
   "outputs": [],
   "source": [
    "# by group analysis\n",
    "linear_results = mf.by_group.rename(index=race)"
   ]
  },
  {
   "cell_type": "markdown",
   "metadata": {},
   "source": [
    "### Demographic Parity"
   ]
  },
  {
   "cell_type": "code",
   "execution_count": 11,
   "metadata": {},
   "outputs": [
    {
     "name": "stdout",
     "output_type": "stream",
     "text": [
      "The Demographic Parity Difference is: 0.1885935782227861\n"
     ]
    }
   ],
   "source": [
    "diff_dem = demographic_parity_difference(y_test, yhat, sensitive_features=group_test)\n",
    "print(\"The Demographic Parity Difference is:\", diff_dem)"
   ]
  },
  {
   "cell_type": "code",
   "execution_count": 12,
   "metadata": {},
   "outputs": [
    {
     "name": "stdout",
     "output_type": "stream",
     "text": [
      "The Demographic Parity Ratio is: 0.6997011844862872\n"
     ]
    }
   ],
   "source": [
    "ratio_dem = demographic_parity_ratio(y_test, yhat, sensitive_features=group_test)\n",
    "print(\"The Demographic Parity Ratio is:\", ratio_dem)"
   ]
  },
  {
   "cell_type": "markdown",
   "metadata": {},
   "source": [
    "**Result(s):**\n",
    "* A **demographic parity difference (DPD)** of 0 is what constitutes the presence of a demographic parity. For the race DPD, a result of 0.18859 means that a perfect demographic parity has not been achieved. If we take a look at the by group analysis we can see which race selection rates were used to calculate the DPD - asian alone and 2+ more races.\n",
    "* A **demographic parity ratio (DPR)** of 1 is what constitutes the presence of a demographic parity. For the race DPR, a result of 0.6997 means that a perfect demographic parity has not been achieved. If we take a look at the by group analysis we can see which race selection rates were used to calculate the DPR - asian alone and 2+ more races."
   ]
  },
  {
   "cell_type": "markdown",
   "metadata": {},
   "source": [
    "### Equalized Odds"
   ]
  },
  {
   "cell_type": "code",
   "execution_count": 13,
   "metadata": {},
   "outputs": [
    {
     "name": "stdout",
     "output_type": "stream",
     "text": [
      "The Equalized Odds Difference is: 0.38742159128425224\n"
     ]
    }
   ],
   "source": [
    "diff_EO = equalized_odds_difference(y_test, yhat, sensitive_features=group_test)\n",
    "print(\"The Equalized Odds Difference is:\", diff_EO)"
   ]
  },
  {
   "cell_type": "code",
   "execution_count": 14,
   "metadata": {},
   "outputs": [
    {
     "name": "stdout",
     "output_type": "stream",
     "text": [
      "The Equalized Odds Ratio is: 0.38571428571428573\n"
     ]
    }
   ],
   "source": [
    "ratio_EO = equalized_odds_ratio(y_test, yhat, sensitive_features=group_test)\n",
    "print(\"The Equalized Odds Ratio is:\", ratio_EO)"
   ]
  },
  {
   "cell_type": "markdown",
   "metadata": {},
   "source": [
    "**Result(s):**\n",
    "* A **equalized odds difference (EOD)** of 0 is what constitutes the presence of equalized odds. For the race EOD, a result of 0.3874 means that perfect equalized odds have not been achieved. If we take a look at the by group analysis we can see which race selection rates were used to calculate the EOD - alaska native and asian alone. NOTE: The alaska native alone group only contains 4 entries.\n",
    "* A **equalized odds ratio (EOR)** of 1 is what constitutes the presence of equalized odds. For the race EOR, a result of 0.3857 means that perfect equalized odds have not been achieved. If we take a look at the by group analysis we can see which race selection rates were used to calculate the EOR - alaska native and asian alone. NOTE: The alaska native alone group only contains 4 entries."
   ]
  },
  {
   "cell_type": "markdown",
   "metadata": {},
   "source": [
    "## Reductions: ThresholdOptimizer - Logistic Regression"
   ]
  },
  {
   "cell_type": "code",
   "execution_count": 15,
   "metadata": {},
   "outputs": [],
   "source": [
    "# define sensitive features in terms of train-test sets\n",
    "sf_train = pd.DataFrame(data={\n",
    "    \"group_train\" : group_train,\n",
    "    \"nat_train\" : nat_train,\n",
    "    \"sex_train\" : sex_train\n",
    "    }\n",
    ")\n",
    "\n",
    "sf_test = pd.DataFrame(data={\n",
    "    \"group_test\" : group_test,\n",
    "    \"nat_test\" : nat_test,\n",
    "    \"sex_test\" : sex_test\n",
    "    }\n",
    ")"
   ]
  },
  {
   "cell_type": "code",
   "execution_count": 16,
   "metadata": {
    "scrolled": true
   },
   "outputs": [],
   "source": [
    "# implementing fairlearn model optimizer\n",
    "fair_model = LogisticRegression()\n",
    "unmitigated_lr = fair_model.fit(X_train, y_train)\n",
    "\n",
    "# define the constraint - example: demographic parity\n",
    "# define the objective - example: balanced accuracy score\n",
    "postprocess_est = ThresholdOptimizer(\n",
    "                   estimator=unmitigated_lr,\n",
    "                   constraints=\"demographic_parity\",\n",
    "                   objective=\"balanced_accuracy_score\",\n",
    "                   prefit=True,\n",
    "                   predict_method='predict_proba') \n",
    "\n",
    "postprocess_est.fit(X_train, y_train, sensitive_features=group_train) # only use race\n",
    "\n",
    "yhat = postprocess_est.predict(X_test, sensitive_features=group_test)\n",
    "\n",
    "#accuracy = accuracy_score(y_test, yhat)\n",
    "#print(\"The fairML model accuracy for Logistic Regression is:\", accuracy)\n",
    "acc_dem.append(accuracy_score(y_test, yhat))"
   ]
  },
  {
   "cell_type": "code",
   "execution_count": 17,
   "metadata": {},
   "outputs": [
    {
     "name": "stdout",
     "output_type": "stream",
     "text": [
      "The Demographic Parity Difference is: 0.20735027223230496\n"
     ]
    }
   ],
   "source": [
    "# check demographic parity post fairML model\n",
    "diff_fair_dem = demographic_parity_difference(y_test, yhat, sensitive_features=group_test)\n",
    "print(\"The Demographic Parity Difference is:\", diff_fair_dem)"
   ]
  },
  {
   "cell_type": "code",
   "execution_count": 18,
   "metadata": {},
   "outputs": [
    {
     "name": "stdout",
     "output_type": "stream",
     "text": [
      "The Demographic Parity Ratio is: 0.7235329703569268\n"
     ]
    }
   ],
   "source": [
    "# check demographic parity post fairML model\n",
    "ratio_fair_dem = demographic_parity_ratio(y_test, yhat, sensitive_features=group_test)\n",
    "print(\"The Demographic Parity Ratio is:\", ratio_fair_dem)"
   ]
  },
  {
   "cell_type": "code",
   "execution_count": 19,
   "metadata": {
    "scrolled": false
   },
   "outputs": [],
   "source": [
    "# Construct a MetricFrame\n",
    "mf_threshold = MetricFrame(\n",
    "    metrics=my_metrics,\n",
    "    y_true=y_test,\n",
    "    y_pred=yhat,\n",
    "    sensitive_features={\"Race\":group_test}\n",
    ")\n",
    "\n",
    "linear_fairML_results_dem = mf_threshold.by_group.rename(index=race)"
   ]
  },
  {
   "cell_type": "code",
   "execution_count": 20,
   "metadata": {},
   "outputs": [],
   "source": [
    "# implementing fairlearn model optimizer\n",
    "fair_model = LogisticRegression()\n",
    "unmitigated_lr = fair_model.fit(X_train, y_train)\n",
    "\n",
    "# define the constraint - example: demographic parity\n",
    "# define the objective - example: balanced accuracy score\n",
    "postprocess_est = ThresholdOptimizer(\n",
    "                   estimator=unmitigated_lr,\n",
    "                   constraints=\"equalized_odds\",\n",
    "                   objective=\"balanced_accuracy_score\",\n",
    "                   prefit=True,\n",
    "                   predict_method='predict_proba') \n",
    "\n",
    "postprocess_est.fit(X_train, y_train, sensitive_features=group_train)\n",
    "\n",
    "yhat = postprocess_est.predict(X_test, sensitive_features=group_test)\n",
    "\n",
    "#accuracy = accuracy_score(y_test, yhat)\n",
    "#print(\"The fairML model accuracy for Logistic Regression is:\", accuracy)\n",
    "acc_EO.append(accuracy_score(y_test, yhat))\n",
    "\n",
    "# FIX: do not print the accuracies, store them and display them into a plot"
   ]
  },
  {
   "cell_type": "code",
   "execution_count": 21,
   "metadata": {},
   "outputs": [
    {
     "name": "stdout",
     "output_type": "stream",
     "text": [
      "The Equalized Odds Difference is: 0.20735027223230496\n"
     ]
    }
   ],
   "source": [
    "# check equalized odds parity post fairML model\n",
    "diff_fair_EO = equalized_odds_difference(y_test, yhat, sensitive_features=group_test)\n",
    "print(\"The Equalized Odds Difference is:\", diff_fair_dem)"
   ]
  },
  {
   "cell_type": "code",
   "execution_count": 22,
   "metadata": {},
   "outputs": [
    {
     "name": "stdout",
     "output_type": "stream",
     "text": [
      "The Equalized Odds Ratio is: 0.381123595505618\n"
     ]
    }
   ],
   "source": [
    "# check equalized odds post fairML model\n",
    "ratio_fair_EO = equalized_odds_ratio(y_test, yhat, sensitive_features=group_test)\n",
    "print(\"The Equalized Odds Ratio is:\", ratio_fair_EO)"
   ]
  },
  {
   "cell_type": "code",
   "execution_count": 23,
   "metadata": {},
   "outputs": [],
   "source": [
    "# Construct a MetricFrame\n",
    "mf_threshold = MetricFrame(\n",
    "    metrics=my_metrics,\n",
    "    y_true=y_test,\n",
    "    y_pred=yhat,\n",
    "    sensitive_features={\"Race\":group_test}\n",
    ")\n",
    "\n",
    "linear_fairML_results_EO = mf_threshold.by_group.rename(index=race)"
   ]
  },
  {
   "cell_type": "markdown",
   "metadata": {},
   "source": [
    "## ---fairlearn library: non-linear---"
   ]
  },
  {
   "cell_type": "code",
   "execution_count": 24,
   "metadata": {},
   "outputs": [],
   "source": [
    "# fit a random forest classifer\n",
    "model = RandomForestClassifier()\n",
    "model.fit(X_train, y_train)\n",
    "\n",
    "yhat = model.predict(X_test)\n",
    "#accuracy = accuracy_score(y_test, yhat)\n",
    "#print(\"Non-Linear Model Accuracy is:\", accuracy)\n",
    "acc_dem.append(accuracy_score(y_test, yhat))\n",
    "acc_EO.append(accuracy_score(y_test, yhat))"
   ]
  },
  {
   "cell_type": "code",
   "execution_count": 25,
   "metadata": {},
   "outputs": [],
   "source": [
    "# Construct a MetricFrame\n",
    "mf = MetricFrame(\n",
    "    metrics=my_metrics,\n",
    "    y_true=y_test,\n",
    "    y_pred=yhat,\n",
    "    sensitive_features=group_test\n",
    ")"
   ]
  },
  {
   "cell_type": "code",
   "execution_count": 26,
   "metadata": {},
   "outputs": [
    {
     "data": {
      "text/plain": [
       "accuracy    0.800816\n",
       "tpr         0.812333\n",
       "fpr         0.208777\n",
       "sel         0.483039\n",
       "count          75764\n",
       "dtype: object"
      ]
     },
     "execution_count": 26,
     "metadata": {},
     "output_type": "execute_result"
    }
   ],
   "source": [
    "# overall True Positive Rate, False Positive Rate, Selection Rate, Counts\n",
    "mf.overall"
   ]
  },
  {
   "cell_type": "code",
   "execution_count": 27,
   "metadata": {
    "scrolled": false
   },
   "outputs": [],
   "source": [
    "# by group analysis\n",
    "RF_results = mf.by_group.rename(index=race)"
   ]
  },
  {
   "cell_type": "markdown",
   "metadata": {},
   "source": [
    "### Demographic Parity"
   ]
  },
  {
   "cell_type": "code",
   "execution_count": 28,
   "metadata": {},
   "outputs": [
    {
     "name": "stdout",
     "output_type": "stream",
     "text": [
      "The Demographic Parity Difference is: 0.3573326248671626\n"
     ]
    }
   ],
   "source": [
    "diff_RF_dem = demographic_parity_difference(y_test, yhat, sensitive_features=group_test)\n",
    "print(\"The Demographic Parity Difference is:\", diff_RF_dem)"
   ]
  },
  {
   "cell_type": "code",
   "execution_count": 29,
   "metadata": {},
   "outputs": [
    {
     "name": "stdout",
     "output_type": "stream",
     "text": [
      "The Demographic Parity Ratio is: 0.5235565001771165\n"
     ]
    }
   ],
   "source": [
    "ratio_RF_dem = demographic_parity_ratio(y_test, yhat, sensitive_features=group_test)\n",
    "print(\"The Demographic Parity Ratio is:\", ratio_RF_dem)"
   ]
  },
  {
   "cell_type": "markdown",
   "metadata": {},
   "source": [
    "**Result(s):**\n",
    "* A **demographic parity difference (DPD)** of 0 is what constitutes the presence of a demographic parity. For the race DPD, a result of 0.3594 means that a perfect demographic parity has not been achieved. If we take a look at the by group analysis we can see which race selection rates were used to calculate the DPD - alaskan native and 2+ more races.\n",
    "* A **demographic parity ratio (DPR)** of 1 is what constitutes the presence of a demographic parity. For the race DPR, a result of 0.5207 means that a perfect demographic parity has not been achieved. If we take a look at the by group analysis we can see which race selection rates were used to calculate the DPR - alaskan native and 2+ more races.\n",
    "\n",
    "NOTE: The alaska native alone group only contains 4 entries."
   ]
  },
  {
   "cell_type": "markdown",
   "metadata": {},
   "source": [
    "### Equalized Odds"
   ]
  },
  {
   "cell_type": "code",
   "execution_count": 30,
   "metadata": {},
   "outputs": [
    {
     "name": "stdout",
     "output_type": "stream",
     "text": [
      "The Equalized Odds Difference is: 0.35546218487394954\n"
     ]
    }
   ],
   "source": [
    "diff_RF_EO = equalized_odds_difference(y_test, yhat, sensitive_features=group_test)\n",
    "print(\"The Equalized Odds Difference is:\", diff_RF_EO)"
   ]
  },
  {
   "cell_type": "code",
   "execution_count": 31,
   "metadata": {},
   "outputs": [
    {
     "name": "stdout",
     "output_type": "stream",
     "text": [
      "The Equalized Odds Ratio is: 0.28907563025210087\n"
     ]
    }
   ],
   "source": [
    "ratio_RF_EO = equalized_odds_ratio(y_test, yhat, sensitive_features=group_test)\n",
    "print(\"The Equalized Odds Ratio is:\", ratio_RF_EO)"
   ]
  },
  {
   "cell_type": "markdown",
   "metadata": {},
   "source": [
    "**Result(s):**\n",
    "* A **equalized odds difference (EOD)** of 0 is what constitutes the presence of equalized odds. For the race EOD, a result of 0.3575 means that perfect equalized odds have not been achieved. If we take a look at the by group analysis we can see which race selection rates were used to calculate the EOD - alaska native and 2+ more races. \n",
    "* A **equalized odds ratio (EOR)** of 1 is what constitutes the presence of equalized odds. For the race EOR, a result of 0.2848 means that perfect equalized odds have not been achieved. If we take a look at the by group analysis we can see which race selection rates were used to calculate the EOR - alaska native and 2+ more races.\n",
    "\n",
    "**NOTE:** The alaska native alone group only contains 4 entries."
   ]
  },
  {
   "cell_type": "markdown",
   "metadata": {},
   "source": [
    "## Reductions: ThresholdOptimizer - Random Forest"
   ]
  },
  {
   "cell_type": "code",
   "execution_count": 32,
   "metadata": {},
   "outputs": [],
   "source": [
    "# implementing fairlearn model optimizer\n",
    "fair_model = RandomForestClassifier()\n",
    "unmitigated_rf = fair_model.fit(X_train, y_train)\n",
    "\n",
    "# define the constraint - example: demographic parity\n",
    "# define the objective - example: balanced accuracy score\n",
    "postprocess_est = ThresholdOptimizer(\n",
    "                   estimator=unmitigated_rf,\n",
    "                   constraints=\"demographic_parity\",\n",
    "                   objective=\"balanced_accuracy_score\",\n",
    "                   prefit=True,\n",
    "                   predict_method='predict_proba') \n",
    "\n",
    "postprocess_est.fit(X_train, y_train, sensitive_features=group_train)\n",
    "\n",
    "yhat = postprocess_est.predict(X_test, sensitive_features=group_test)\n",
    "\n",
    "#accuracy = accuracy_score(y_test, yhat)\n",
    "#print(\"The fairML model accuracy for Random Forest is:\", accuracy)\n",
    "acc_dem.append(accuracy_score(y_test, yhat))"
   ]
  },
  {
   "cell_type": "code",
   "execution_count": 33,
   "metadata": {},
   "outputs": [
    {
     "name": "stdout",
     "output_type": "stream",
     "text": [
      "The Demographic Parity Difference is: 0.270121094172343\n"
     ]
    }
   ],
   "source": [
    "# check demographic parity post fairML model\n",
    "diff_fairRF_dem = demographic_parity_difference(y_test, yhat, sensitive_features=group_test)\n",
    "print(\"The Demographic Parity Difference is:\", diff_fairRF_dem)"
   ]
  },
  {
   "cell_type": "code",
   "execution_count": 34,
   "metadata": {},
   "outputs": [
    {
     "name": "stdout",
     "output_type": "stream",
     "text": [
      "The Demographic Parity Ratio is: 0.6398385411035427\n"
     ]
    }
   ],
   "source": [
    "# check demographic parity post fairML model\n",
    "ratio_fairRF_dem = demographic_parity_ratio(y_test, yhat, sensitive_features=group_test)\n",
    "print(\"The Demographic Parity Ratio is:\", ratio_fairRF_dem)"
   ]
  },
  {
   "cell_type": "code",
   "execution_count": 35,
   "metadata": {
    "scrolled": true
   },
   "outputs": [],
   "source": [
    "# Construct a MetricFrame\n",
    "mf_threshold = MetricFrame(\n",
    "    metrics=my_metrics,\n",
    "    y_true=y_test,\n",
    "    y_pred=yhat,\n",
    "    sensitive_features={\"Race\":group_test}\n",
    ")\n",
    "\n",
    "RF_fairML_results_dem = mf.by_group.rename(index=race)"
   ]
  },
  {
   "cell_type": "code",
   "execution_count": 36,
   "metadata": {},
   "outputs": [],
   "source": [
    "# implementing fairlearn model optimizer\n",
    "fair_model = RandomForestClassifier()\n",
    "unmitigated_rf = fair_model.fit(X_train, y_train)\n",
    "\n",
    "# define the constraint - example: equalized odds\n",
    "# define the objective - example: balanced accuracy score\n",
    "postprocess_est = ThresholdOptimizer(\n",
    "                   estimator=unmitigated_rf,\n",
    "                   constraints=\"equalized_odds\",\n",
    "                   objective=\"balanced_accuracy_score\",\n",
    "                   prefit=True,\n",
    "                   predict_method='predict_proba') \n",
    "\n",
    "postprocess_est.fit(X_train, y_train, sensitive_features=group_train)\n",
    "\n",
    "yhat = postprocess_est.predict(X_test, sensitive_features=group_test)\n",
    "\n",
    "#accuracy = accuracy_score(y_test, yhat)\n",
    "#print(\"The fairML model accuracy for Random Forest is:\", accuracy)\n",
    "acc_EO.append(accuracy_score(y_test, yhat))"
   ]
  },
  {
   "cell_type": "code",
   "execution_count": 37,
   "metadata": {},
   "outputs": [
    {
     "name": "stdout",
     "output_type": "stream",
     "text": [
      "The Equalized Odds Difference is: 0.26796828543111995\n"
     ]
    }
   ],
   "source": [
    "# check demographic parity post fairML model\n",
    "diff_fairRF_EO = equalized_odds_difference(y_test, yhat, sensitive_features=group_test)\n",
    "print(\"The Equalized Odds Difference is:\", diff_fairRF_EO)"
   ]
  },
  {
   "cell_type": "code",
   "execution_count": 38,
   "metadata": {},
   "outputs": [
    {
     "name": "stdout",
     "output_type": "stream",
     "text": [
      "The Equalized Odds Ratio is: 0.46406342913776016\n"
     ]
    }
   ],
   "source": [
    "# check demographic parity post fairML model\n",
    "ratio_fairRF_EO = equalized_odds_ratio(y_test, yhat, sensitive_features=group_test)\n",
    "print(\"The Equalized Odds Ratio is:\", ratio_fairRF_EO)"
   ]
  },
  {
   "cell_type": "code",
   "execution_count": 39,
   "metadata": {},
   "outputs": [],
   "source": [
    "# Construct a MetricFrame\n",
    "mf_threshold = MetricFrame(\n",
    "    metrics=my_metrics,\n",
    "    y_true=y_test,\n",
    "    y_pred=yhat,\n",
    "    sensitive_features={\"Race\":group_test}\n",
    ")\n",
    "\n",
    "RF_fairML_results_EO = mf_threshold.by_group.rename(index=race)"
   ]
  },
  {
   "cell_type": "markdown",
   "metadata": {},
   "source": [
    "## ---Visualizing Results---"
   ]
  },
  {
   "cell_type": "code",
   "execution_count": 40,
   "metadata": {},
   "outputs": [],
   "source": [
    "import matplotlib.pyplot as plt"
   ]
  },
  {
   "cell_type": "code",
   "execution_count": 41,
   "metadata": {},
   "outputs": [],
   "source": [
    "## Order of Results:\n",
    "##\n",
    "## 1. linear_results\n",
    "## 2. linear_fairML_results_dem\n",
    "## 3. RF_results\n",
    "## 4. RF_fairML_results_dem\n",
    "s = \"American Indian alone\" # we drop American Indian because there are not many observations for this race\n",
    "dem1 = linear_results.drop([s])[\"sel\"].max() - linear_results.drop([s])[\"sel\"].min()\n",
    "dem2 = linear_fairML_results_dem.drop([s])[\"sel\"].max() - linear_fairML_results_dem.drop([s])[\"sel\"].min()\n",
    "dem3 = RF_results.drop([s])[\"sel\"].max() - RF_results.drop([s])[\"sel\"].min()\n",
    "dem4 = RF_fairML_results_dem.drop([s])[\"sel\"].max() - RF_fairML_results_dem.drop([s])[\"sel\"].min()\n",
    "\n",
    "EO1 = linear_results.drop([s])[\"sel\"].max() - linear_results.drop([s])[\"sel\"].min()\n",
    "EO2 = linear_fairML_results_EO.drop([s])[\"sel\"].max() - linear_fairML_results_EO.drop([s])[\"sel\"].min()\n",
    "EO3 = RF_results.drop([s])[\"sel\"].max() - RF_results.drop([s])[\"sel\"].min()\n",
    "EO4 = RF_fairML_results_EO.drop([s])[\"sel\"].max() - RF_fairML_results_EO.drop([s])[\"sel\"].min()\n",
    "\n",
    "dem_diffs = {\n",
    "    \"Logistic\"       : dem1,\n",
    "    \"LogisticFairML\" : dem2,\n",
    "    \"RF\"           : dem3,\n",
    "    \"RFFairML\"     : dem4\n",
    "}\n",
    "\n",
    "EO_diffs = {\n",
    "    \"Logistic\"       : EO1,\n",
    "    \"LogisticFairML\" : EO2,\n",
    "    \"RF\"           : EO3,\n",
    "    \"RFFairML\"     : EO4\n",
    "}"
   ]
  },
  {
   "cell_type": "code",
   "execution_count": 42,
   "metadata": {},
   "outputs": [
    {
     "data": {
      "text/plain": [
       "Text(0, 0.5, 'Accuracy Score')"
      ]
     },
     "execution_count": 42,
     "metadata": {},
     "output_type": "execute_result"
    },
    {
     "data": {
      "image/png": "[encoded data removed]",
      "text/plain": [
       "<Figure size 1080x360 with 2 Axes>"
      ]
     },
     "metadata": {
      "needs_background": "light"
     },
     "output_type": "display_data"
    }
   ],
   "source": [
    "fig, axes = plt.subplots(1, 2, figsize = (15, 5))\n",
    "\n",
    "# creating the bar plot for demographic differences\n",
    "axes[0].bar(dem_diffs.keys(), dem_diffs.values(), color ='maroon')\n",
    "axes[0].set_title(\"Comparing Demographic Parities Across Models - Race\")\n",
    "axes[0].set_ylabel(\"Demographic Disparity Difference\")\n",
    "axes[0].set_xlabel(\"Model Type\")\n",
    "\n",
    "# creating the bar plot for accuracies\n",
    "axes[1].bar(dem_diffs.keys(), acc_dem)\n",
    "axes[1].set_title(\"Comparing Accuracy Scores Across Models\")\n",
    "axes[1].set_xlabel(\"Model Type\")\n",
    "axes[1].set_ylabel(\"Accuracy Score\")"
   ]
  },
  {
   "cell_type": "code",
   "execution_count": 43,
   "metadata": {},
   "outputs": [
    {
     "data": {
      "text/plain": [
       "0.8643960644429437"
      ]
     },
     "execution_count": 43,
     "metadata": {},
     "output_type": "execute_result"
    }
   ],
   "source": [
    "1 - (dem_diffs[\"LogisticFairML\"] / dem_diffs[\"Logistic\"])"
   ]
  },
  {
   "cell_type": "code",
   "execution_count": 44,
   "metadata": {},
   "outputs": [
    {
     "data": {
      "text/plain": [
       "0.1885935782227861"
      ]
     },
     "execution_count": 44,
     "metadata": {},
     "output_type": "execute_result"
    }
   ],
   "source": [
    "dem_diffs[\"Logistic\"]"
   ]
  },
  {
   "cell_type": "code",
   "execution_count": 45,
   "metadata": {},
   "outputs": [
    {
     "data": {
      "text/plain": [
       "0.02557403142779735"
      ]
     },
     "execution_count": 45,
     "metadata": {},
     "output_type": "execute_result"
    }
   ],
   "source": [
    "dem_diffs[\"LogisticFairML\"]"
   ]
  },
  {
   "cell_type": "code",
   "execution_count": 46,
   "metadata": {
    "scrolled": false
   },
   "outputs": [
    {
     "data": {
      "text/plain": [
       "Text(0.5, 0, 'Model Type')"
      ]
     },
     "execution_count": 46,
     "metadata": {},
     "output_type": "execute_result"
    },
    {
     "data": {
      "image/png": "[encoded data removed]",
      "text/plain": [
       "<Figure size 1080x360 with 2 Axes>"
      ]
     },
     "metadata": {
      "needs_background": "light"
     },
     "output_type": "display_data"
    }
   ],
   "source": [
    "fig, axes = plt.subplots(1, 2, figsize = (15, 5))\n",
    "\n",
    "# creating the bar plot for Equalized Odds differences\n",
    "axes[0].bar(EO_diffs.keys(), EO_diffs.values(), color ='maroon')\n",
    "axes[0].set_title(\"Comparing Equalized Odds Across Models - Race\")\n",
    "axes[0].set_ylabel(\"Demographic Disparity Difference\")\n",
    "axes[0].set_xlabel(\"Model Type\")\n",
    "\n",
    "# creating the bar plot for accuracies\n",
    "axes[1].bar(EO_diffs.keys(), acc_EO)\n",
    "axes[1].set_title(\"Comparing Accuracy Scores Across Models\")\n",
    "axes[1].set_ylabel(\"Accuracy Sccore\")\n",
    "axes[0].set_xlabel(\"Model Type\")"
   ]
  }
 ],
 "metadata": {
  "kernelspec": {
   "display_name": "Python 3",
   "language": "python",
   "name": "python3"
  },
  "language_info": {
   "codemirror_mode": {
    "name": "ipython",
    "version": 3
   },
   "file_extension": ".py",
   "mimetype": "text/x-python",
   "name": "python",
   "nbconvert_exporter": "python",
   "pygments_lexer": "ipython3",
   "version": "3.8.5"
  }
 },
 "nbformat": 4,
 "nbformat_minor": 4
}

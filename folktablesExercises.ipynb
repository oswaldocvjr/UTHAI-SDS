{
 "cells": [
  {
   "cell_type": "markdown",
   "metadata": {},
   "source": [
    "# Folktables Exercises"
   ]
  },
  {
   "cell_type": "markdown",
   "metadata": {},
   "source": [
    "The following notebook uses the folktable data found [here](https://github.com/zykls/folktables). <br>\n",
    "Full 2018 ACS documentation found [here](https://www2.census.gov/programs-surveys/acs/tech_docs/pums/data_dict/PUMS_Data_Dictionary_2018.txt). <br>\n",
    "Intro to ACS public use: [video link](https://www.census.gov/data/academy/webinars/2020/introduction-to-american-community-survey-public-use-microdata-sample-pums-files.html).\n",
    "\n",
    "### Definitions:\n",
    "\n",
    "**ACS (American Community Survey)** - Information from the survey generates data that help determine how more than $675 billion in federal and state funds are distributed each year. Unlike the every-10-year census, this survey continues all year, every year. ACS randomly samples addresses in every state, the District of Columbia, and Puerto Rico. \n",
    "\n",
    "**ACSEmployment data**\n",
    "\n",
    "<code> features </code> **- the independent variables**\n",
    "* ['AGEP', 'SCHL', 'MAR', 'RELP', 'DIS', 'ESP', 'CIT', 'MIG', 'MIL', 'ANC', 'NATIVITY', 'DEAR', 'DEYE', 'DREM', 'SEX', 'RAC1P']\n",
    "| Feature      | Description                   |\n",
    "| :---         | :---                          |\n",
    "| AGEP         | Age                           |\n",
    "| SCHL         | Educational attainment        |\n",
    "| Mar          | Marital status                |\n",
    "| RELP         | Relationship                  |\n",
    "| DIS          | Disability recode             |\n",
    "| ESP          | Employment status of parents  |\n",
    "| CIT          | Citizenship status            |\n",
    "| MIG          | Mobility status (lived here 1 year ago)|\n",
    "| MIL          | Military service              |\n",
    "| ANC          | Ancestry recode               |\n",
    "| NATIVITY     | Native or Foreign born        |\n",
    "| DEAR         | Hearing difficulty            |\n",
    "| DEYE         | Vision difficulty             |\n",
    "| DREM         | Cognitive difficulty          |\n",
    "| SEX          | Male or Female                |\n",
    "| RAC1P        | Recoded detailed race code    |\n",
    "\n",
    "\n",
    "       \n",
    "<code> group </code> **- race group**\n",
    "* 1    .White alone\n",
    "* 2    .Black or African American alone\n",
    "* 3    .American Indian alone\n",
    "* 4    .Alaska Native alone\n",
    "* 5    .American Indian and Alaska Native tribes specified; or American   Indian or Alaska Native, not specified and no other races\n",
    "* 6    .Asian alone\n",
    "* 7    .Native Hawaiian and Other Pacific Islander alone\n",
    "* 8    .Some Other Race alone\n",
    "* 9    .Two or More Races\n",
    "\n",
    "<code>nav_group </code> **- native group**\n",
    "* 1    .Native\n",
    "* 2    .Foreign born\n",
    "\n",
    "<code>sex_group </code> **- sex group**\n",
    "* 1    .Male\n",
    "* 2    .Female\n",
    "\n",
    "<code> labels </code> **- Employment status recode**\n",
    "* b    .N/A (less than 16 years old)\n",
    "* 1    .Civilian employed, at work\n",
    "* 2    .Civilian employed, with a job but not at work\n",
    "* 3    .Unemployed\n",
    "* 4    .Armed forces, at work\n",
    "* 5    .Armed forces, with a job but not at work\n",
    "* 6    .Not in labor force\n",
    "\n",
    "<code>cont_labels </code> **- Wages & income**\n",
    "* **NOTE:** There are some NaN values present in this 2018 CA dataset.\n",
    "\n",
    "---\n",
    "**NOTE:** This a personal documentation of what I have learned from fairlearn since 9/11/2022.\n",
    "### fairlearn packages:\n",
    "\n",
    "**datasets** - fetch sample datasets \n",
    "\n",
    "**metrics** - functionality for computing metrics with a focus on ‘disaggregated metrics’. This is a metric where in addition to y_true and y_pred values, the user provides information about group membership for each sample. \n",
    "\n",
    "**postprocessing** - methods which operate on the predictor (i.e. X) rather than the estimator (i.e. Y). \n",
    "\n",
    "**preprocessing**  - a filtering technique that eliminates sensitive correlations in the dataset. \n",
    "\n",
    "**reductions** - This module contains algorithms implementing the reductions approach to disparity mitigation. In this approach, disparity constraints are cast as Lagrange multipliers, which cause the reweighting and relabelling of the input data. This reduces the problem back to standard machine learning training.\n",
    "\n",
    "### fairlearn can and can’t:\n",
    "**can -**\n",
    "* **Fairness Assessments** [link](https://fairlearn.org/main/user_guide/assessment.html)\n",
    "* **Demographic Parity** - a fairness metric whose goal is to ensure a machine learning model’s predictions are independent of membership in a sensitive group. $$E[h(X)|A=a]=E[h(X)], \\forall a$$\n",
    "$$P[f(X) \\leq z|A=a]=P[f(X)\\leq z],  \\forall a, z$$ where $A$ is a sensitive feature, $h$ is a classifier, and $f$ is a regressor.<br>\n",
    "<code>demographic_parity_difference()</code>  - Returns the absolute difference between the highest and lowest selection rates of the sensitive groups. A result of 0 means there is a demographic parity. (only for classifiers). <br>\n",
    "<code>demographic_parity_ratio()</code> - Returns the ratio of the lowest and highest selection rates. A result of 1 means there is a demographic parity.\n",
    "* **Equalized Odds** - The goal of the equalized odds fairness metric is to ensure a machine learning model performs equally well for different groups. It is stricter than demographic parity because it requires that the machine learning model’s predictions are not only independent of sensitive group membership, but that groups have the same false positive rates and true positive rates. $$E[h(X)|A=a, Y=y]=E[h(X)|Y=y],  \\forall a, y$$ AND \n",
    "that the true positive rate and false positive rate be equal across groups (classifiers). <br>\n",
    "<code>equalized_odds_difference()</code> - Returns the largest difference between the TRP difference and FPR difference. <br>\n",
    "<code>equalized_odds_ratio()</code> - Returns the the smallest ratio between the TRP ratio and FPR ratio. \n",
    "* **Equal Opportunity** - Equal opportunity is a relaxed version of equalized odds that only considers conditional expectations with respect to positive labels. NOTE: The developers of fairlearn suggest that this fairness metric can overlook misclassifications since it does not consider false positive rates.\n",
    "* **Intersecting Groups** - Fairlearn supports metric assessment in the scenario of intersection of multiple sensitive features. <br>\n",
    "<code>MetricFrame.by_group</code> - Returns a table that displays all the possible combinations of sensitive groups and their fairness metric results.\n",
    "* **Control Feature**\n",
    "* **Group by Group Visualizations**\n",
    "* **Unfairness Mitigations** - algorithm related techniques to mitigate unfairness. Full list of algorithms and their basic descriptions found here.\n",
    "---\n",
    "* **Fairness Mitigation** [link](https://fairlearn.org/main/user_guide/mitigation.html)\n",
    "* <code>ExponentiatedGradient</code>\n",
    "* <code>GridSearch</code>\n",
    "* <code>ThresholdOptimizer</code>\n",
    "* <code>CorrelationRemover</code>\n",
    "\n",
    "**can’t -** \n",
    "* Fairly limited in number of postprocessing and preprocessing techniques. Most of the assessment tools that fairlearn offers inherit from the ‘metrics’ package.\n",
    "* I have yet to find a focus on unsupervised related techniques."
   ]
  },
  {
   "cell_type": "code",
   "execution_count": 75,
   "metadata": {},
   "outputs": [],
   "source": [
    "import pandas as pd\n",
    "import numpy as np\n",
    "from folktables import ACSDataSource, ACSEmployment\n",
    "from sklearn.linear_model import LogisticRegression\n",
    "from sklearn.ensemble import RandomForestClassifier\n",
    "from sklearn.model_selection import train_test_split\n",
    "from sklearn.preprocessing import StandardScaler\n",
    "from sklearn.metrics import accuracy_score\n",
    "from sklearn.metrics import recall_score\n",
    "from fairlearn.metrics import MetricFrame\n",
    "from fairlearn.metrics import count, \\\n",
    "                              false_positive_rate, \\\n",
    "                              selection_rate"
   ]
  },
  {
   "cell_type": "markdown",
   "metadata": {},
   "source": [
    "**NOTE:**The following exercise deals with trying different fairness metrics, and mitigation techniques with classifers."
   ]
  },
  {
   "cell_type": "code",
   "execution_count": 239,
   "metadata": {},
   "outputs": [],
   "source": [
    "data_source = ACSDataSource(survey_year='2018', horizon='1-Year', survey='person')\n",
    "acs_data = data_source.get_data(states=[\"CA\"], download=True)\n",
    "features, label, group = ACSEmployment.df_to_numpy(acs_data)\n",
    "\n",
    "# create sensitive feature(s):\n",
    "nat_group = acs_data[\"NATIVITY\"]\n",
    "sex_group = acs_data[\"SEX\"]"
   ]
  },
  {
   "cell_type": "code",
   "execution_count": 101,
   "metadata": {},
   "outputs": [],
   "source": [
    "# identifying encodings\n",
    "race = {\n",
    "    1: \"White alone\",\n",
    "    2: \"Black or African American alone\",\n",
    "    3: \"American Indian alone\",\n",
    "    4: \"American Indian alone\",\n",
    "    5: \"American Indian/Alaska Native specified/not specified or no other races\", # truncated for index purposes\n",
    "    6: \"Asian alone\",\n",
    "    7: \"Native Hawaiian and Other Pacific Islander alone\",\n",
    "    8: \"Some Other Race alone\",\n",
    "    9: \"Two or More Races\"\n",
    "}"
   ]
  },
  {
   "cell_type": "code",
   "execution_count": 170,
   "metadata": {
    "scrolled": true
   },
   "outputs": [],
   "source": [
    "# create a standard scaler for the data\n",
    "scaler = StandardScaler().fit(features)\n",
    "#scaler_cont = StandardScaler().fit(np.array(cont_labels).reshape(-1, 1))"
   ]
  },
  {
   "cell_type": "code",
   "execution_count": 174,
   "metadata": {
    "scrolled": true
   },
   "outputs": [
    {
     "name": "stdout",
     "output_type": "stream",
     "text": [
      "Linear Model Accuracy is: 0.7728736603136054\n"
     ]
    },
    {
     "data": {
      "text/plain": [
       "0.04549392964278809"
      ]
     },
     "execution_count": 174,
     "metadata": {},
     "output_type": "execute_result"
    }
   ],
   "source": [
    "X_train, X_test, y_train, y_test, cont_train, cont_test, group_train, group_test, sex_train, sex_test, nat_train, nat_test = train_test_split(\n",
    "    features, label, cont_labels, group, sex_group, nat_group, test_size=0.2, random_state=0)\n",
    "\n",
    "X_train = scaler.transform(X_train)\n",
    "X_test = scaler.transform(X_test)\n",
    "\n",
    "###### Your favorite LINEAR learning algorithm here #####\n",
    "model = LogisticRegression()\n",
    "model.fit(X_train, y_train)\n",
    "\n",
    "yhat = model.predict(X_test)\n",
    "accuracy = accuracy_score(y_test, yhat)\n",
    "print(\"Linear Model Accuracy is:\", accuracy)\n",
    "\n",
    "white_tpr = np.mean(yhat[(y_test == 1) & (group_test == 1)])\n",
    "black_tpr = np.mean(yhat[(y_test == 1) & (group_test == 2)])\n",
    "\n",
    "# Equality of opportunity violation: 0.0455\n",
    "white_tpr - black_tpr"
   ]
  },
  {
   "cell_type": "markdown",
   "metadata": {},
   "source": [
    "## ---fairlearn library: linear---\n",
    "## Metrics"
   ]
  },
  {
   "cell_type": "code",
   "execution_count": 7,
   "metadata": {},
   "outputs": [],
   "source": [
    "# Construct a function dictionary\n",
    "my_metrics = {\n",
    "    'accuracy' : accuracy_score,\n",
    "    'tpr' : recall_score,\n",
    "    'fpr' : false_positive_rate,\n",
    "    'sel' : selection_rate,\n",
    "    'count' : count\n",
    "}\n",
    "# Construct a MetricFrame\n",
    "mf = MetricFrame(\n",
    "    metrics=my_metrics,\n",
    "    y_true=y_test,\n",
    "    y_pred=yhat,\n",
    "    sensitive_features={\"Race\":group_test}\n",
    ")"
   ]
  },
  {
   "cell_type": "code",
   "execution_count": 8,
   "metadata": {},
   "outputs": [
    {
     "data": {
      "text/plain": [
       "accuracy    0.772874\n",
       "tpr         0.833304\n",
       "fpr         0.277458\n",
       "sel         0.530041\n",
       "count          75764\n",
       "dtype: object"
      ]
     },
     "execution_count": 8,
     "metadata": {},
     "output_type": "execute_result"
    }
   ],
   "source": [
    "# overall True Positive Rate, False Positive Rate, Selection Rate, Counts\n",
    "mf.overall"
   ]
  },
  {
   "cell_type": "code",
   "execution_count": 9,
   "metadata": {
    "scrolled": false
   },
   "outputs": [
    {
     "data": {
      "text/html": [
       "<div>\n",
       "<style scoped>\n",
       "    .dataframe tbody tr th:only-of-type {\n",
       "        vertical-align: middle;\n",
       "    }\n",
       "\n",
       "    .dataframe tbody tr th {\n",
       "        vertical-align: top;\n",
       "    }\n",
       "\n",
       "    .dataframe thead th {\n",
       "        text-align: right;\n",
       "    }\n",
       "</style>\n",
       "<table border=\"1\" class=\"dataframe\">\n",
       "  <thead>\n",
       "    <tr style=\"text-align: right;\">\n",
       "      <th></th>\n",
       "      <th>accuracy</th>\n",
       "      <th>tpr</th>\n",
       "      <th>fpr</th>\n",
       "      <th>sel</th>\n",
       "      <th>count</th>\n",
       "    </tr>\n",
       "    <tr>\n",
       "      <th>Race</th>\n",
       "      <th></th>\n",
       "      <th></th>\n",
       "      <th></th>\n",
       "      <th></th>\n",
       "      <th></th>\n",
       "    </tr>\n",
       "  </thead>\n",
       "  <tbody>\n",
       "    <tr>\n",
       "      <th>White alone</th>\n",
       "      <td>0.774938</td>\n",
       "      <td>0.825167</td>\n",
       "      <td>0.266918</td>\n",
       "      <td>0.520662</td>\n",
       "      <td>46245</td>\n",
       "    </tr>\n",
       "    <tr>\n",
       "      <th>Black or African American alone</th>\n",
       "      <td>0.769168</td>\n",
       "      <td>0.779673</td>\n",
       "      <td>0.237753</td>\n",
       "      <td>0.452994</td>\n",
       "      <td>3691</td>\n",
       "    </tr>\n",
       "    <tr>\n",
       "      <th>American Indian alone</th>\n",
       "      <td>0.76225</td>\n",
       "      <td>0.798077</td>\n",
       "      <td>0.259475</td>\n",
       "      <td>0.462795</td>\n",
       "      <td>551</td>\n",
       "    </tr>\n",
       "    <tr>\n",
       "      <th>American Indian alone</th>\n",
       "      <td>0.5</td>\n",
       "      <td>0.5</td>\n",
       "      <td>0.5</td>\n",
       "      <td>0.5</td>\n",
       "      <td>4</td>\n",
       "    </tr>\n",
       "    <tr>\n",
       "      <th>American Indian/Alaska Native specified/not specified or no other races</th>\n",
       "      <td>0.69375</td>\n",
       "      <td>0.658228</td>\n",
       "      <td>0.271605</td>\n",
       "      <td>0.4625</td>\n",
       "      <td>160</td>\n",
       "    </tr>\n",
       "    <tr>\n",
       "      <th>Asian alone</th>\n",
       "      <td>0.757683</td>\n",
       "      <td>0.887422</td>\n",
       "      <td>0.37091</td>\n",
       "      <td>0.62802</td>\n",
       "      <td>12170</td>\n",
       "    </tr>\n",
       "    <tr>\n",
       "      <th>Native Hawaiian and Other Pacific Islander alone</th>\n",
       "      <td>0.706897</td>\n",
       "      <td>0.782178</td>\n",
       "      <td>0.351145</td>\n",
       "      <td>0.538793</td>\n",
       "      <td>232</td>\n",
       "    </tr>\n",
       "    <tr>\n",
       "      <th>Some Other Race alone</th>\n",
       "      <td>0.765173</td>\n",
       "      <td>0.810706</td>\n",
       "      <td>0.273517</td>\n",
       "      <td>0.520286</td>\n",
       "      <td>8947</td>\n",
       "    </tr>\n",
       "    <tr>\n",
       "      <th>Two or More Races</th>\n",
       "      <td>0.827843</td>\n",
       "      <td>0.863439</td>\n",
       "      <td>0.192857</td>\n",
       "      <td>0.439426</td>\n",
       "      <td>3764</td>\n",
       "    </tr>\n",
       "  </tbody>\n",
       "</table>\n",
       "</div>"
      ],
      "text/plain": [
       "                                                    accuracy       tpr  \\\n",
       "Race                                                                     \n",
       "White alone                                         0.774938  0.825167   \n",
       "Black or African American alone                     0.769168  0.779673   \n",
       "American Indian alone                                0.76225  0.798077   \n",
       "American Indian alone                                    0.5       0.5   \n",
       "American Indian/Alaska Native specified/not spe...   0.69375  0.658228   \n",
       "Asian alone                                         0.757683  0.887422   \n",
       "Native Hawaiian and Other Pacific Islander alone    0.706897  0.782178   \n",
       "Some Other Race alone                               0.765173  0.810706   \n",
       "Two or More Races                                   0.827843  0.863439   \n",
       "\n",
       "                                                         fpr       sel  count  \n",
       "Race                                                                           \n",
       "White alone                                         0.266918  0.520662  46245  \n",
       "Black or African American alone                     0.237753  0.452994   3691  \n",
       "American Indian alone                               0.259475  0.462795    551  \n",
       "American Indian alone                                    0.5       0.5      4  \n",
       "American Indian/Alaska Native specified/not spe...  0.271605    0.4625    160  \n",
       "Asian alone                                          0.37091   0.62802  12170  \n",
       "Native Hawaiian and Other Pacific Islander alone    0.351145  0.538793    232  \n",
       "Some Other Race alone                               0.273517  0.520286   8947  \n",
       "Two or More Races                                   0.192857  0.439426   3764  "
      ]
     },
     "execution_count": 9,
     "metadata": {},
     "output_type": "execute_result"
    }
   ],
   "source": [
    "# by group analysis\n",
    "linear_results = mf.by_group.rename(index=race)\n",
    "linear_results"
   ]
  },
  {
   "cell_type": "markdown",
   "metadata": {},
   "source": [
    "### Demographic Parity"
   ]
  },
  {
   "cell_type": "code",
   "execution_count": 10,
   "metadata": {},
   "outputs": [],
   "source": [
    "from fairlearn.metrics import demographic_parity_difference\n",
    "from fairlearn.metrics import demographic_parity_ratio"
   ]
  },
  {
   "cell_type": "code",
   "execution_count": 11,
   "metadata": {},
   "outputs": [
    {
     "name": "stdout",
     "output_type": "stream",
     "text": [
      "The Demographic Parity Difference is: 0.1885935782227861\n"
     ]
    }
   ],
   "source": [
    "diff_dem = demographic_parity_difference(y_test, yhat, sensitive_features=group_test)\n",
    "print(\"The Demographic Parity Difference is:\", diff_dem)"
   ]
  },
  {
   "cell_type": "code",
   "execution_count": 12,
   "metadata": {},
   "outputs": [
    {
     "name": "stdout",
     "output_type": "stream",
     "text": [
      "The Demographic Parity Ratio is: 0.6997011844862872\n"
     ]
    }
   ],
   "source": [
    "ratio_dem = demographic_parity_ratio(y_test, yhat, sensitive_features=group_test)\n",
    "print(\"The Demographic Parity Ratio is:\", ratio_dem)"
   ]
  },
  {
   "cell_type": "markdown",
   "metadata": {},
   "source": [
    "**Result(s):**\n",
    "* A **demographic parity difference (DPD)** of 0 is what constitutes the presence of a demographic parity. For the race DPD, a result of 0.18859 means that a perfect demographic parity has not been achieved. If we take a look at the by group analysis we can see which race selection rates were used to calculate the DPD - asian alone and 2+ more races.\n",
    "* A **demographic parity ratio (DPR)** of 1 is what constitutes the presence of a demographic parity. For the race DPR, a result of 0.6997 means that a perfect demographic parity has not been achieved. If we take a look at the by group analysis we can see which race selection rates were used to calculate the DPR - asian alone and 2+ more races."
   ]
  },
  {
   "cell_type": "markdown",
   "metadata": {},
   "source": [
    "### Equalized Odds"
   ]
  },
  {
   "cell_type": "code",
   "execution_count": 13,
   "metadata": {},
   "outputs": [],
   "source": [
    "from fairlearn.metrics import equalized_odds_difference\n",
    "from fairlearn.metrics import equalized_odds_ratio"
   ]
  },
  {
   "cell_type": "code",
   "execution_count": 14,
   "metadata": {},
   "outputs": [
    {
     "name": "stdout",
     "output_type": "stream",
     "text": [
      "The Equalized Odds Difference is: 0.38742159128425224\n"
     ]
    }
   ],
   "source": [
    "diff_EO = equalized_odds_difference(y_test, yhat, sensitive_features=group_test)\n",
    "print(\"The Equalized Odds Difference is:\", diff_EO)"
   ]
  },
  {
   "cell_type": "code",
   "execution_count": 15,
   "metadata": {},
   "outputs": [
    {
     "name": "stdout",
     "output_type": "stream",
     "text": [
      "The Equalized Odds Ratio is: 0.38571428571428573\n"
     ]
    }
   ],
   "source": [
    "ratio_EO = equalized_odds_ratio(y_test, yhat, sensitive_features=group_test)\n",
    "print(\"The Equalized Odds Ratio is:\", ratio_EO)"
   ]
  },
  {
   "cell_type": "markdown",
   "metadata": {},
   "source": [
    "**Result(s):**\n",
    "* A **equalized odds difference (EOD)** of 0 is what constitutes the presence of equalized odds. For the race EOD, a result of 0.3874 means that perfect equalized odds have not been achieved. If we take a look at the by group analysis we can see which race selection rates were used to calculate the EOD - alaska native and asian alone. NOTE: The alaska native alone group only contains 4 entries.\n",
    "* A **equalized odds ratio (EOR)** of 1 is what constitutes the presence of equalized odds. For the race EOR, a result of 0.3857 means that perfect equalized odds have not been achieved. If we take a look at the by group analysis we can see which race selection rates were used to calculate the EOR - alaska native and asian alone. NOTE: The alaska native alone group only contains 4 entries."
   ]
  },
  {
   "cell_type": "markdown",
   "metadata": {},
   "source": [
    "### Intersecting Groups"
   ]
  },
  {
   "cell_type": "code",
   "execution_count": 16,
   "metadata": {},
   "outputs": [],
   "source": [
    "s_f_frame = {\n",
    "    \"Race\": group_test,\n",
    "    \"Sex\": sex_test\n",
    "}\n",
    "\n",
    "metric_2sf = MetricFrame(metrics=my_metrics,\n",
    "                         y_true=y_test,\n",
    "                         y_pred=yhat,\n",
    "                         sensitive_features=s_f_frame)"
   ]
  },
  {
   "cell_type": "code",
   "execution_count": 17,
   "metadata": {},
   "outputs": [
    {
     "data": {
      "text/html": [
       "<div>\n",
       "<style scoped>\n",
       "    .dataframe tbody tr th:only-of-type {\n",
       "        vertical-align: middle;\n",
       "    }\n",
       "\n",
       "    .dataframe tbody tr th {\n",
       "        vertical-align: top;\n",
       "    }\n",
       "\n",
       "    .dataframe thead th {\n",
       "        text-align: right;\n",
       "    }\n",
       "</style>\n",
       "<table border=\"1\" class=\"dataframe\">\n",
       "  <thead>\n",
       "    <tr style=\"text-align: right;\">\n",
       "      <th></th>\n",
       "      <th></th>\n",
       "      <th>accuracy</th>\n",
       "      <th>tpr</th>\n",
       "      <th>fpr</th>\n",
       "      <th>sel</th>\n",
       "      <th>count</th>\n",
       "    </tr>\n",
       "    <tr>\n",
       "      <th>Race</th>\n",
       "      <th>Sex</th>\n",
       "      <th></th>\n",
       "      <th></th>\n",
       "      <th></th>\n",
       "      <th></th>\n",
       "      <th></th>\n",
       "    </tr>\n",
       "  </thead>\n",
       "  <tbody>\n",
       "    <tr>\n",
       "      <th rowspan=\"2\" valign=\"top\">1</th>\n",
       "      <th>1</th>\n",
       "      <td>0.789591</td>\n",
       "      <td>0.863236</td>\n",
       "      <td>0.282498</td>\n",
       "      <td>0.569766</td>\n",
       "      <td>22941</td>\n",
       "    </tr>\n",
       "    <tr>\n",
       "      <th>2</th>\n",
       "      <td>0.760513</td>\n",
       "      <td>0.7805</td>\n",
       "      <td>0.253668</td>\n",
       "      <td>0.472322</td>\n",
       "      <td>23304</td>\n",
       "    </tr>\n",
       "    <tr>\n",
       "      <th rowspan=\"2\" valign=\"top\">2</th>\n",
       "      <th>1</th>\n",
       "      <td>0.764063</td>\n",
       "      <td>0.843615</td>\n",
       "      <td>0.284832</td>\n",
       "      <td>0.497542</td>\n",
       "      <td>1831</td>\n",
       "    </tr>\n",
       "    <tr>\n",
       "      <th>2</th>\n",
       "      <td>0.774194</td>\n",
       "      <td>0.721717</td>\n",
       "      <td>0.188818</td>\n",
       "      <td>0.40914</td>\n",
       "      <td>1860</td>\n",
       "    </tr>\n",
       "    <tr>\n",
       "      <th rowspan=\"2\" valign=\"top\">3</th>\n",
       "      <th>1</th>\n",
       "      <td>0.798535</td>\n",
       "      <td>0.893204</td>\n",
       "      <td>0.258824</td>\n",
       "      <td>0.498168</td>\n",
       "      <td>273</td>\n",
       "    </tr>\n",
       "    <tr>\n",
       "      <th>2</th>\n",
       "      <td>0.726619</td>\n",
       "      <td>0.704762</td>\n",
       "      <td>0.260116</td>\n",
       "      <td>0.428058</td>\n",
       "      <td>278</td>\n",
       "    </tr>\n",
       "    <tr>\n",
       "      <th rowspan=\"2\" valign=\"top\">4</th>\n",
       "      <th>1</th>\n",
       "      <td>1</td>\n",
       "      <td>1</td>\n",
       "      <td>0</td>\n",
       "      <td>1</td>\n",
       "      <td>1</td>\n",
       "    </tr>\n",
       "    <tr>\n",
       "      <th>2</th>\n",
       "      <td>0.333333</td>\n",
       "      <td>0</td>\n",
       "      <td>0.5</td>\n",
       "      <td>0.333333</td>\n",
       "      <td>3</td>\n",
       "    </tr>\n",
       "    <tr>\n",
       "      <th rowspan=\"2\" valign=\"top\">5</th>\n",
       "      <th>1</th>\n",
       "      <td>0.740741</td>\n",
       "      <td>0.790698</td>\n",
       "      <td>0.315789</td>\n",
       "      <td>0.567901</td>\n",
       "      <td>81</td>\n",
       "    </tr>\n",
       "    <tr>\n",
       "      <th>2</th>\n",
       "      <td>0.64557</td>\n",
       "      <td>0.5</td>\n",
       "      <td>0.232558</td>\n",
       "      <td>0.35443</td>\n",
       "      <td>79</td>\n",
       "    </tr>\n",
       "    <tr>\n",
       "      <th rowspan=\"2\" valign=\"top\">6</th>\n",
       "      <th>1</th>\n",
       "      <td>0.78045</td>\n",
       "      <td>0.930757</td>\n",
       "      <td>0.391384</td>\n",
       "      <td>0.679093</td>\n",
       "      <td>5821</td>\n",
       "    </tr>\n",
       "    <tr>\n",
       "      <th>2</th>\n",
       "      <td>0.736809</td>\n",
       "      <td>0.841856</td>\n",
       "      <td>0.354535</td>\n",
       "      <td>0.581194</td>\n",
       "      <td>6349</td>\n",
       "    </tr>\n",
       "    <tr>\n",
       "      <th rowspan=\"2\" valign=\"top\">7</th>\n",
       "      <th>1</th>\n",
       "      <td>0.713043</td>\n",
       "      <td>0.849057</td>\n",
       "      <td>0.403226</td>\n",
       "      <td>0.608696</td>\n",
       "      <td>115</td>\n",
       "    </tr>\n",
       "    <tr>\n",
       "      <th>2</th>\n",
       "      <td>0.700855</td>\n",
       "      <td>0.708333</td>\n",
       "      <td>0.304348</td>\n",
       "      <td>0.470085</td>\n",
       "      <td>117</td>\n",
       "    </tr>\n",
       "    <tr>\n",
       "      <th rowspan=\"2\" valign=\"top\">8</th>\n",
       "      <th>1</th>\n",
       "      <td>0.809064</td>\n",
       "      <td>0.857268</td>\n",
       "      <td>0.241921</td>\n",
       "      <td>0.558223</td>\n",
       "      <td>4457</td>\n",
       "    </tr>\n",
       "    <tr>\n",
       "      <th>2</th>\n",
       "      <td>0.721604</td>\n",
       "      <td>0.752062</td>\n",
       "      <td>0.299139</td>\n",
       "      <td>0.482628</td>\n",
       "      <td>4490</td>\n",
       "    </tr>\n",
       "    <tr>\n",
       "      <th rowspan=\"2\" valign=\"top\">9</th>\n",
       "      <th>1</th>\n",
       "      <td>0.838969</td>\n",
       "      <td>0.907381</td>\n",
       "      <td>0.201365</td>\n",
       "      <td>0.463231</td>\n",
       "      <td>1863</td>\n",
       "    </tr>\n",
       "    <tr>\n",
       "      <th>2</th>\n",
       "      <td>0.816938</td>\n",
       "      <td>0.819625</td>\n",
       "      <td>0.184603</td>\n",
       "      <td>0.416097</td>\n",
       "      <td>1901</td>\n",
       "    </tr>\n",
       "  </tbody>\n",
       "</table>\n",
       "</div>"
      ],
      "text/plain": [
       "          accuracy       tpr       fpr       sel  count\n",
       "Race Sex                                               \n",
       "1    1    0.789591  0.863236  0.282498  0.569766  22941\n",
       "     2    0.760513    0.7805  0.253668  0.472322  23304\n",
       "2    1    0.764063  0.843615  0.284832  0.497542   1831\n",
       "     2    0.774194  0.721717  0.188818   0.40914   1860\n",
       "3    1    0.798535  0.893204  0.258824  0.498168    273\n",
       "     2    0.726619  0.704762  0.260116  0.428058    278\n",
       "4    1           1         1         0         1      1\n",
       "     2    0.333333         0       0.5  0.333333      3\n",
       "5    1    0.740741  0.790698  0.315789  0.567901     81\n",
       "     2     0.64557       0.5  0.232558   0.35443     79\n",
       "6    1     0.78045  0.930757  0.391384  0.679093   5821\n",
       "     2    0.736809  0.841856  0.354535  0.581194   6349\n",
       "7    1    0.713043  0.849057  0.403226  0.608696    115\n",
       "     2    0.700855  0.708333  0.304348  0.470085    117\n",
       "8    1    0.809064  0.857268  0.241921  0.558223   4457\n",
       "     2    0.721604  0.752062  0.299139  0.482628   4490\n",
       "9    1    0.838969  0.907381  0.201365  0.463231   1863\n",
       "     2    0.816938  0.819625  0.184603  0.416097   1901"
      ]
     },
     "execution_count": 17,
     "metadata": {},
     "output_type": "execute_result"
    }
   ],
   "source": [
    "metric_2sf.by_group"
   ]
  },
  {
   "cell_type": "markdown",
   "metadata": {},
   "source": [
    "## Reductions: ThresholdOptimizer"
   ]
  },
  {
   "cell_type": "code",
   "execution_count": 18,
   "metadata": {},
   "outputs": [],
   "source": [
    "from fairlearn.postprocessing import ThresholdOptimizer"
   ]
  },
  {
   "cell_type": "code",
   "execution_count": null,
   "metadata": {},
   "outputs": [],
   "source": [
    "# define sensitive features in terms of train-test sets\n",
    "sf_train = pd.DataFrame(data={\n",
    "    \"group_train\" : group_train,\n",
    "    \"nat_train\" : nat_train,\n",
    "    \"sex_train\" : sex_train})\n",
    "sf_test = pd.DataFrame(data={\n",
    "    \"group_test\" : group_test,\n",
    "    \"nat_test\" : nat_test,\n",
    "    \"sex_test\" : sex_test})"
   ]
  },
  {
   "cell_type": "code",
   "execution_count": 129,
   "metadata": {
    "scrolled": true
   },
   "outputs": [
    {
     "name": "stdout",
     "output_type": "stream",
     "text": [
      "The fairML model accuracy for Logistic Regression is: 0.76146982735864\n"
     ]
    }
   ],
   "source": [
    "# implementing fairlearn model optimizer\n",
    "fair_model = LogisticRegression()\n",
    "unmitigated_lr = fair_model.fit(X_train, y_train)\n",
    "\n",
    "# define the constraint - example: demographic parity\n",
    "# define the objective - example: balanced accuracy score\n",
    "postprocess_est = ThresholdOptimizer(\n",
    "                   estimator=unmitigated_lr,\n",
    "                   constraints=\"demographic_parity\",\n",
    "                   objective=\"balanced_accuracy_score\",\n",
    "                   prefit=True,\n",
    "                   predict_method='predict_proba') \n",
    "\n",
    "postprocess_est.fit(X_train, y_train, sensitive_features=sf_train)\n",
    "\n",
    "yhat = postprocess_est.predict(X_test, sensitive_features=sf_test)\n",
    "\n",
    "accuracy = accuracy_score(y_test, yhat)\n",
    "print(\"The fairML model accuracy for Logistic Regression is:\", accuracy)"
   ]
  },
  {
   "cell_type": "code",
   "execution_count": 130,
   "metadata": {},
   "outputs": [
    {
     "name": "stderr",
     "output_type": "stream",
     "text": [
      "Found 36 subgroups. Evaluation may be slow\n"
     ]
    },
    {
     "name": "stdout",
     "output_type": "stream",
     "text": [
      "The Demographic Parity Difference is: 0.7096774193548387\n"
     ]
    }
   ],
   "source": [
    "# check demographic parity post fairML model\n",
    "diff_fair_dem = demographic_parity_difference(y_test, yhat, sensitive_features=sf_test)\n",
    "print(\"The Demographic Parity Difference is:\", diff_fair_dem)"
   ]
  },
  {
   "cell_type": "code",
   "execution_count": 131,
   "metadata": {},
   "outputs": [
    {
     "name": "stdout",
     "output_type": "stream",
     "text": [
      "The Demographic Parity Ratio is: 0.4166666666666667\n"
     ]
    }
   ],
   "source": [
    "# check demographic parity post fairML model\n",
    "ratio_fair_dem = demographic_parity_ratio(y_test, yhat, sensitive_features=group_test)\n",
    "print(\"The Demographic Parity Ratio is:\", ratio_fair_dem)"
   ]
  },
  {
   "cell_type": "code",
   "execution_count": 22,
   "metadata": {
    "scrolled": false
   },
   "outputs": [
    {
     "data": {
      "text/html": [
       "<div>\n",
       "<style scoped>\n",
       "    .dataframe tbody tr th:only-of-type {\n",
       "        vertical-align: middle;\n",
       "    }\n",
       "\n",
       "    .dataframe tbody tr th {\n",
       "        vertical-align: top;\n",
       "    }\n",
       "\n",
       "    .dataframe thead th {\n",
       "        text-align: right;\n",
       "    }\n",
       "</style>\n",
       "<table border=\"1\" class=\"dataframe\">\n",
       "  <thead>\n",
       "    <tr style=\"text-align: right;\">\n",
       "      <th></th>\n",
       "      <th>accuracy</th>\n",
       "      <th>tpr</th>\n",
       "      <th>fpr</th>\n",
       "      <th>sel</th>\n",
       "      <th>count</th>\n",
       "    </tr>\n",
       "    <tr>\n",
       "      <th>Race</th>\n",
       "      <th></th>\n",
       "      <th></th>\n",
       "      <th></th>\n",
       "      <th></th>\n",
       "      <th></th>\n",
       "    </tr>\n",
       "  </thead>\n",
       "  <tbody>\n",
       "    <tr>\n",
       "      <th>White alone</th>\n",
       "      <td>0.772213</td>\n",
       "      <td>0.862131</td>\n",
       "      <td>0.302716</td>\n",
       "      <td>0.55699</td>\n",
       "      <td>46245</td>\n",
       "    </tr>\n",
       "    <tr>\n",
       "      <th>Black or African American alone</th>\n",
       "      <td>0.748036</td>\n",
       "      <td>0.88131</td>\n",
       "      <td>0.339775</td>\n",
       "      <td>0.554863</td>\n",
       "      <td>3691</td>\n",
       "    </tr>\n",
       "    <tr>\n",
       "      <th>American Indian alone</th>\n",
       "      <td>0.736842</td>\n",
       "      <td>0.865385</td>\n",
       "      <td>0.341108</td>\n",
       "      <td>0.53902</td>\n",
       "      <td>551</td>\n",
       "    </tr>\n",
       "    <tr>\n",
       "      <th>American Indian alone</th>\n",
       "      <td>0.5</td>\n",
       "      <td>0.5</td>\n",
       "      <td>0.5</td>\n",
       "      <td>0.5</td>\n",
       "      <td>4</td>\n",
       "    </tr>\n",
       "    <tr>\n",
       "      <th>American Indian/Alaska Native specified/not specified or no other races</th>\n",
       "      <td>0.69375</td>\n",
       "      <td>0.797468</td>\n",
       "      <td>0.407407</td>\n",
       "      <td>0.6</td>\n",
       "      <td>160</td>\n",
       "    </tr>\n",
       "    <tr>\n",
       "      <th>Asian alone</th>\n",
       "      <td>0.758833</td>\n",
       "      <td>0.824034</td>\n",
       "      <td>0.305792</td>\n",
       "      <td>0.563763</td>\n",
       "      <td>12170</td>\n",
       "    </tr>\n",
       "    <tr>\n",
       "      <th>Native Hawaiian and Other Pacific Islander alone</th>\n",
       "      <td>0.706897</td>\n",
       "      <td>0.792079</td>\n",
       "      <td>0.358779</td>\n",
       "      <td>0.547414</td>\n",
       "      <td>232</td>\n",
       "    </tr>\n",
       "    <tr>\n",
       "      <th>Some Other Race alone</th>\n",
       "      <td>0.765955</td>\n",
       "      <td>0.863747</td>\n",
       "      <td>0.317139</td>\n",
       "      <td>0.568235</td>\n",
       "      <td>8947</td>\n",
       "    </tr>\n",
       "    <tr>\n",
       "      <th>Two or More Races</th>\n",
       "      <td>0.792242</td>\n",
       "      <td>0.983382</td>\n",
       "      <td>0.318908</td>\n",
       "      <td>0.563231</td>\n",
       "      <td>3764</td>\n",
       "    </tr>\n",
       "  </tbody>\n",
       "</table>\n",
       "</div>"
      ],
      "text/plain": [
       "                                                    accuracy       tpr  \\\n",
       "Race                                                                     \n",
       "White alone                                         0.772213  0.862131   \n",
       "Black or African American alone                     0.748036   0.88131   \n",
       "American Indian alone                               0.736842  0.865385   \n",
       "American Indian alone                                    0.5       0.5   \n",
       "American Indian/Alaska Native specified/not spe...   0.69375  0.797468   \n",
       "Asian alone                                         0.758833  0.824034   \n",
       "Native Hawaiian and Other Pacific Islander alone    0.706897  0.792079   \n",
       "Some Other Race alone                               0.765955  0.863747   \n",
       "Two or More Races                                   0.792242  0.983382   \n",
       "\n",
       "                                                         fpr       sel  count  \n",
       "Race                                                                           \n",
       "White alone                                         0.302716   0.55699  46245  \n",
       "Black or African American alone                     0.339775  0.554863   3691  \n",
       "American Indian alone                               0.341108   0.53902    551  \n",
       "American Indian alone                                    0.5       0.5      4  \n",
       "American Indian/Alaska Native specified/not spe...  0.407407       0.6    160  \n",
       "Asian alone                                         0.305792  0.563763  12170  \n",
       "Native Hawaiian and Other Pacific Islander alone    0.358779  0.547414    232  \n",
       "Some Other Race alone                               0.317139  0.568235   8947  \n",
       "Two or More Races                                   0.318908  0.563231   3764  "
      ]
     },
     "execution_count": 22,
     "metadata": {},
     "output_type": "execute_result"
    }
   ],
   "source": [
    "# Construct a MetricFrame\n",
    "mf_threshold = MetricFrame(\n",
    "    metrics=my_metrics,\n",
    "    y_true=y_test,\n",
    "    y_pred=yhat,\n",
    "    sensitive_features={\"Race\":group_test}\n",
    ")\n",
    "\n",
    "linear_fairML_results_dem = mf_threshold.by_group.rename(index=race)\n",
    "linear_fairML_results_dem"
   ]
  },
  {
   "cell_type": "code",
   "execution_count": 132,
   "metadata": {},
   "outputs": [
    {
     "name": "stderr",
     "output_type": "stream",
     "text": [
      "Found 36 subgroups. Evaluation may be slow\n"
     ]
    }
   ],
   "source": [
    "mf_threshold = MetricFrame(\n",
    "    metrics=my_metrics,\n",
    "    y_true=y_test,\n",
    "    y_pred=yhat,\n",
    "    sensitive_features=sf_test\n",
    ")"
   ]
  },
  {
   "cell_type": "code",
   "execution_count": 142,
   "metadata": {},
   "outputs": [
    {
     "data": {
      "text/html": [
       "<div>\n",
       "<style scoped>\n",
       "    .dataframe tbody tr th:only-of-type {\n",
       "        vertical-align: middle;\n",
       "    }\n",
       "\n",
       "    .dataframe tbody tr th {\n",
       "        vertical-align: top;\n",
       "    }\n",
       "\n",
       "    .dataframe thead th {\n",
       "        text-align: right;\n",
       "    }\n",
       "</style>\n",
       "<table border=\"1\" class=\"dataframe\">\n",
       "  <thead>\n",
       "    <tr style=\"text-align: right;\">\n",
       "      <th></th>\n",
       "      <th></th>\n",
       "      <th></th>\n",
       "      <th>accuracy</th>\n",
       "      <th>tpr</th>\n",
       "      <th>fpr</th>\n",
       "      <th>sel</th>\n",
       "      <th>count</th>\n",
       "    </tr>\n",
       "    <tr>\n",
       "      <th>group_test</th>\n",
       "      <th>nat_test</th>\n",
       "      <th>sex_test</th>\n",
       "      <th></th>\n",
       "      <th></th>\n",
       "      <th></th>\n",
       "      <th></th>\n",
       "      <th></th>\n",
       "    </tr>\n",
       "  </thead>\n",
       "  <tbody>\n",
       "    <tr>\n",
       "      <th rowspan=\"4\" valign=\"top\">1</th>\n",
       "      <th rowspan=\"2\" valign=\"top\">1</th>\n",
       "      <th>1</th>\n",
       "      <td>0.797826</td>\n",
       "      <td>0.852981</td>\n",
       "      <td>0.249033</td>\n",
       "      <td>0.526448</td>\n",
       "      <td>19132</td>\n",
       "    </tr>\n",
       "    <tr>\n",
       "      <th>2</th>\n",
       "      <td>0.766601</td>\n",
       "      <td>0.856505</td>\n",
       "      <td>0.295523</td>\n",
       "      <td>0.524758</td>\n",
       "      <td>19186</td>\n",
       "    </tr>\n",
       "    <tr>\n",
       "      <th rowspan=\"2\" valign=\"top\">2</th>\n",
       "      <th>1</th>\n",
       "      <td>0.703334</td>\n",
       "      <td>0.678516</td>\n",
       "      <td>0.245797</td>\n",
       "      <td>0.536624</td>\n",
       "      <td>3809</td>\n",
       "    </tr>\n",
       "    <tr>\n",
       "      <th>2</th>\n",
       "      <td>0.683827</td>\n",
       "      <td>0.751092</td>\n",
       "      <td>0.370079</td>\n",
       "      <td>0.539582</td>\n",
       "      <td>4118</td>\n",
       "    </tr>\n",
       "    <tr>\n",
       "      <th rowspan=\"4\" valign=\"top\">2</th>\n",
       "      <th rowspan=\"2\" valign=\"top\">1</th>\n",
       "      <th>1</th>\n",
       "      <td>0.732703</td>\n",
       "      <td>0.884488</td>\n",
       "      <td>0.352074</td>\n",
       "      <td>0.542874</td>\n",
       "      <td>1691</td>\n",
       "    </tr>\n",
       "    <tr>\n",
       "      <th>2</th>\n",
       "      <td>0.759627</td>\n",
       "      <td>0.849635</td>\n",
       "      <td>0.300292</td>\n",
       "      <td>0.519837</td>\n",
       "      <td>1714</td>\n",
       "    </tr>\n",
       "    <tr>\n",
       "      <th rowspan=\"2\" valign=\"top\">2</th>\n",
       "      <th>1</th>\n",
       "      <td>0.757143</td>\n",
       "      <td>0.758242</td>\n",
       "      <td>0.244898</td>\n",
       "      <td>0.578571</td>\n",
       "      <td>140</td>\n",
       "    </tr>\n",
       "    <tr>\n",
       "      <th>2</th>\n",
       "      <td>0.684932</td>\n",
       "      <td>0.619048</td>\n",
       "      <td>0.225806</td>\n",
       "      <td>0.452055</td>\n",
       "      <td>146</td>\n",
       "    </tr>\n",
       "    <tr>\n",
       "      <th rowspan=\"4\" valign=\"top\">3</th>\n",
       "      <th rowspan=\"2\" valign=\"top\">1</th>\n",
       "      <th>1</th>\n",
       "      <td>0.767442</td>\n",
       "      <td>0.946809</td>\n",
       "      <td>0.335366</td>\n",
       "      <td>0.55814</td>\n",
       "      <td>258</td>\n",
       "    </tr>\n",
       "    <tr>\n",
       "      <th>2</th>\n",
       "      <td>0.693548</td>\n",
       "      <td>0.808989</td>\n",
       "      <td>0.371069</td>\n",
       "      <td>0.528226</td>\n",
       "      <td>248</td>\n",
       "    </tr>\n",
       "    <tr>\n",
       "      <th rowspan=\"2\" valign=\"top\">2</th>\n",
       "      <th>1</th>\n",
       "      <td>0.8</td>\n",
       "      <td>0.666667</td>\n",
       "      <td>0</td>\n",
       "      <td>0.4</td>\n",
       "      <td>15</td>\n",
       "    </tr>\n",
       "    <tr>\n",
       "      <th>2</th>\n",
       "      <td>0.633333</td>\n",
       "      <td>0.625</td>\n",
       "      <td>0.357143</td>\n",
       "      <td>0.5</td>\n",
       "      <td>30</td>\n",
       "    </tr>\n",
       "    <tr>\n",
       "      <th rowspan=\"4\" valign=\"top\">4</th>\n",
       "      <th rowspan=\"2\" valign=\"top\">1</th>\n",
       "      <th>1</th>\n",
       "      <td>NaN</td>\n",
       "      <td>NaN</td>\n",
       "      <td>NaN</td>\n",
       "      <td>NaN</td>\n",
       "      <td>NaN</td>\n",
       "    </tr>\n",
       "    <tr>\n",
       "      <th>2</th>\n",
       "      <td>0.333333</td>\n",
       "      <td>0</td>\n",
       "      <td>0.5</td>\n",
       "      <td>0.333333</td>\n",
       "      <td>3</td>\n",
       "    </tr>\n",
       "    <tr>\n",
       "      <th rowspan=\"2\" valign=\"top\">2</th>\n",
       "      <th>1</th>\n",
       "      <td>0</td>\n",
       "      <td>0</td>\n",
       "      <td>0</td>\n",
       "      <td>0</td>\n",
       "      <td>1</td>\n",
       "    </tr>\n",
       "    <tr>\n",
       "      <th>2</th>\n",
       "      <td>NaN</td>\n",
       "      <td>NaN</td>\n",
       "      <td>NaN</td>\n",
       "      <td>NaN</td>\n",
       "      <td>NaN</td>\n",
       "    </tr>\n",
       "    <tr>\n",
       "      <th rowspan=\"4\" valign=\"top\">5</th>\n",
       "      <th rowspan=\"2\" valign=\"top\">1</th>\n",
       "      <th>1</th>\n",
       "      <td>0.703125</td>\n",
       "      <td>0.83871</td>\n",
       "      <td>0.424242</td>\n",
       "      <td>0.625</td>\n",
       "      <td>64</td>\n",
       "    </tr>\n",
       "    <tr>\n",
       "      <th>2</th>\n",
       "      <td>0.676923</td>\n",
       "      <td>0.851852</td>\n",
       "      <td>0.447368</td>\n",
       "      <td>0.615385</td>\n",
       "      <td>65</td>\n",
       "    </tr>\n",
       "    <tr>\n",
       "      <th rowspan=\"2\" valign=\"top\">2</th>\n",
       "      <th>1</th>\n",
       "      <td>0.764706</td>\n",
       "      <td>0.75</td>\n",
       "      <td>0.2</td>\n",
       "      <td>0.588235</td>\n",
       "      <td>17</td>\n",
       "    </tr>\n",
       "    <tr>\n",
       "      <th>2</th>\n",
       "      <td>0.357143</td>\n",
       "      <td>0.333333</td>\n",
       "      <td>0.6</td>\n",
       "      <td>0.428571</td>\n",
       "      <td>14</td>\n",
       "    </tr>\n",
       "    <tr>\n",
       "      <th rowspan=\"4\" valign=\"top\">6</th>\n",
       "      <th rowspan=\"2\" valign=\"top\">1</th>\n",
       "      <th>1</th>\n",
       "      <td>0.822185</td>\n",
       "      <td>0.975815</td>\n",
       "      <td>0.281361</td>\n",
       "      <td>0.560965</td>\n",
       "      <td>2362</td>\n",
       "    </tr>\n",
       "    <tr>\n",
       "      <th>2</th>\n",
       "      <td>0.806979</td>\n",
       "      <td>0.94378</td>\n",
       "      <td>0.273109</td>\n",
       "      <td>0.52076</td>\n",
       "      <td>2264</td>\n",
       "    </tr>\n",
       "    <tr>\n",
       "      <th rowspan=\"2\" valign=\"top\">2</th>\n",
       "      <th>1</th>\n",
       "      <td>0.740387</td>\n",
       "      <td>0.707057</td>\n",
       "      <td>0.204598</td>\n",
       "      <td>0.517491</td>\n",
       "      <td>3459</td>\n",
       "    </tr>\n",
       "    <tr>\n",
       "      <th>2</th>\n",
       "      <td>0.693023</td>\n",
       "      <td>0.725555</td>\n",
       "      <td>0.341972</td>\n",
       "      <td>0.540759</td>\n",
       "      <td>4085</td>\n",
       "    </tr>\n",
       "    <tr>\n",
       "      <th rowspan=\"4\" valign=\"top\">7</th>\n",
       "      <th rowspan=\"2\" valign=\"top\">1</th>\n",
       "      <th>1</th>\n",
       "      <td>0.690476</td>\n",
       "      <td>0.787879</td>\n",
       "      <td>0.372549</td>\n",
       "      <td>0.535714</td>\n",
       "      <td>84</td>\n",
       "    </tr>\n",
       "    <tr>\n",
       "      <th>2</th>\n",
       "      <td>0.710526</td>\n",
       "      <td>0.8</td>\n",
       "      <td>0.347826</td>\n",
       "      <td>0.526316</td>\n",
       "      <td>76</td>\n",
       "    </tr>\n",
       "    <tr>\n",
       "      <th rowspan=\"2\" valign=\"top\">2</th>\n",
       "      <th>1</th>\n",
       "      <td>0.806452</td>\n",
       "      <td>0.9</td>\n",
       "      <td>0.363636</td>\n",
       "      <td>0.709677</td>\n",
       "      <td>31</td>\n",
       "    </tr>\n",
       "    <tr>\n",
       "      <th>2</th>\n",
       "      <td>0.731707</td>\n",
       "      <td>0.722222</td>\n",
       "      <td>0.26087</td>\n",
       "      <td>0.463415</td>\n",
       "      <td>41</td>\n",
       "    </tr>\n",
       "    <tr>\n",
       "      <th rowspan=\"4\" valign=\"top\">8</th>\n",
       "      <th rowspan=\"2\" valign=\"top\">1</th>\n",
       "      <th>1</th>\n",
       "      <td>0.822065</td>\n",
       "      <td>0.952336</td>\n",
       "      <td>0.261108</td>\n",
       "      <td>0.530461</td>\n",
       "      <td>2692</td>\n",
       "    </tr>\n",
       "    <tr>\n",
       "      <th>2</th>\n",
       "      <td>0.782543</td>\n",
       "      <td>0.960486</td>\n",
       "      <td>0.324029</td>\n",
       "      <td>0.562429</td>\n",
       "      <td>2635</td>\n",
       "    </tr>\n",
       "    <tr>\n",
       "      <th rowspan=\"2\" valign=\"top\">2</th>\n",
       "      <th>1</th>\n",
       "      <td>0.709915</td>\n",
       "      <td>0.674718</td>\n",
       "      <td>0.206501</td>\n",
       "      <td>0.535977</td>\n",
       "      <td>1765</td>\n",
       "    </tr>\n",
       "    <tr>\n",
       "      <th>2</th>\n",
       "      <td>0.617251</td>\n",
       "      <td>0.675481</td>\n",
       "      <td>0.430108</td>\n",
       "      <td>0.540162</td>\n",
       "      <td>1855</td>\n",
       "    </tr>\n",
       "    <tr>\n",
       "      <th rowspan=\"4\" valign=\"top\">9</th>\n",
       "      <th rowspan=\"2\" valign=\"top\">1</th>\n",
       "      <th>1</th>\n",
       "      <td>0.805623</td>\n",
       "      <td>0.989051</td>\n",
       "      <td>0.286765</td>\n",
       "      <td>0.522005</td>\n",
       "      <td>1636</td>\n",
       "    </tr>\n",
       "    <tr>\n",
       "      <th>2</th>\n",
       "      <td>0.794171</td>\n",
       "      <td>0.980496</td>\n",
       "      <td>0.302862</td>\n",
       "      <td>0.534912</td>\n",
       "      <td>1647</td>\n",
       "    </tr>\n",
       "    <tr>\n",
       "      <th rowspan=\"2\" valign=\"top\">2</th>\n",
       "      <th>1</th>\n",
       "      <td>0.700441</td>\n",
       "      <td>0.699301</td>\n",
       "      <td>0.297619</td>\n",
       "      <td>0.550661</td>\n",
       "      <td>227</td>\n",
       "    </tr>\n",
       "    <tr>\n",
       "      <th>2</th>\n",
       "      <td>0.720472</td>\n",
       "      <td>0.79845</td>\n",
       "      <td>0.36</td>\n",
       "      <td>0.582677</td>\n",
       "      <td>254</td>\n",
       "    </tr>\n",
       "  </tbody>\n",
       "</table>\n",
       "</div>"
      ],
      "text/plain": [
       "                              accuracy       tpr       fpr       sel  count\n",
       "group_test nat_test sex_test                                               \n",
       "1          1        1         0.797826  0.852981  0.249033  0.526448  19132\n",
       "                    2         0.766601  0.856505  0.295523  0.524758  19186\n",
       "           2        1         0.703334  0.678516  0.245797  0.536624   3809\n",
       "                    2         0.683827  0.751092  0.370079  0.539582   4118\n",
       "2          1        1         0.732703  0.884488  0.352074  0.542874   1691\n",
       "                    2         0.759627  0.849635  0.300292  0.519837   1714\n",
       "           2        1         0.757143  0.758242  0.244898  0.578571    140\n",
       "                    2         0.684932  0.619048  0.225806  0.452055    146\n",
       "3          1        1         0.767442  0.946809  0.335366   0.55814    258\n",
       "                    2         0.693548  0.808989  0.371069  0.528226    248\n",
       "           2        1              0.8  0.666667         0       0.4     15\n",
       "                    2         0.633333     0.625  0.357143       0.5     30\n",
       "4          1        1              NaN       NaN       NaN       NaN    NaN\n",
       "                    2         0.333333         0       0.5  0.333333      3\n",
       "           2        1                0         0         0         0      1\n",
       "                    2              NaN       NaN       NaN       NaN    NaN\n",
       "5          1        1         0.703125   0.83871  0.424242     0.625     64\n",
       "                    2         0.676923  0.851852  0.447368  0.615385     65\n",
       "           2        1         0.764706      0.75       0.2  0.588235     17\n",
       "                    2         0.357143  0.333333       0.6  0.428571     14\n",
       "6          1        1         0.822185  0.975815  0.281361  0.560965   2362\n",
       "                    2         0.806979   0.94378  0.273109   0.52076   2264\n",
       "           2        1         0.740387  0.707057  0.204598  0.517491   3459\n",
       "                    2         0.693023  0.725555  0.341972  0.540759   4085\n",
       "7          1        1         0.690476  0.787879  0.372549  0.535714     84\n",
       "                    2         0.710526       0.8  0.347826  0.526316     76\n",
       "           2        1         0.806452       0.9  0.363636  0.709677     31\n",
       "                    2         0.731707  0.722222   0.26087  0.463415     41\n",
       "8          1        1         0.822065  0.952336  0.261108  0.530461   2692\n",
       "                    2         0.782543  0.960486  0.324029  0.562429   2635\n",
       "           2        1         0.709915  0.674718  0.206501  0.535977   1765\n",
       "                    2         0.617251  0.675481  0.430108  0.540162   1855\n",
       "9          1        1         0.805623  0.989051  0.286765  0.522005   1636\n",
       "                    2         0.794171  0.980496  0.302862  0.534912   1647\n",
       "           2        1         0.700441  0.699301  0.297619  0.550661    227\n",
       "                    2         0.720472   0.79845      0.36  0.582677    254"
      ]
     },
     "execution_count": 142,
     "metadata": {},
     "output_type": "execute_result"
    }
   ],
   "source": [
    "mf_threshold.by_group"
   ]
  },
  {
   "cell_type": "code",
   "execution_count": 23,
   "metadata": {},
   "outputs": [
    {
     "name": "stdout",
     "output_type": "stream",
     "text": [
      "The fairML model accuracy for Logistic Regression is: 0.7395596853386833\n"
     ]
    }
   ],
   "source": [
    "# implementing fairlearn model optimizer\n",
    "fair_model = LogisticRegression()\n",
    "unmitigated_lr = fair_model.fit(X_train, y_train)\n",
    "\n",
    "# define the constraint - example: demographic parity\n",
    "# define the objective - example: balanced accuracy score\n",
    "postprocess_est = ThresholdOptimizer(\n",
    "                   estimator=unmitigated_lr,\n",
    "                   constraints=\"equalized_odds\",\n",
    "                   objective=\"balanced_accuracy_score\",\n",
    "                   prefit=True,\n",
    "                   predict_method='predict_proba') \n",
    "\n",
    "postprocess_est.fit(X_train, y_train, sensitive_features=group_train)\n",
    "\n",
    "yhat = postprocess_est.predict(X_test, sensitive_features=group_test)\n",
    "\n",
    "accuracy = accuracy_score(y_test, yhat)\n",
    "print(\"The fairML model accuracy for Logistic Regression is:\", accuracy)"
   ]
  },
  {
   "cell_type": "code",
   "execution_count": 24,
   "metadata": {},
   "outputs": [
    {
     "name": "stdout",
     "output_type": "stream",
     "text": [
      "The Equalized Odds Difference is: 0.09999999999999998\n"
     ]
    }
   ],
   "source": [
    "# check equalized odds parity post fairML model\n",
    "diff_fair_EO = equalized_odds_difference(y_test, yhat, sensitive_features=group_test)\n",
    "print(\"The Equalized Odds Difference is:\", diff_fair_dem)"
   ]
  },
  {
   "cell_type": "code",
   "execution_count": 25,
   "metadata": {},
   "outputs": [
    {
     "name": "stdout",
     "output_type": "stream",
     "text": [
      "The Equalized Odds Ratio is: 0.381123595505618\n"
     ]
    }
   ],
   "source": [
    "# check equalized odds post fairML model\n",
    "ratio_fair_EO = equalized_odds_ratio(y_test, yhat, sensitive_features=group_test)\n",
    "print(\"The Equalized Odds Ratio is:\", ratio_fair_EO)"
   ]
  },
  {
   "cell_type": "code",
   "execution_count": 26,
   "metadata": {},
   "outputs": [
    {
     "data": {
      "text/html": [
       "<div>\n",
       "<style scoped>\n",
       "    .dataframe tbody tr th:only-of-type {\n",
       "        vertical-align: middle;\n",
       "    }\n",
       "\n",
       "    .dataframe tbody tr th {\n",
       "        vertical-align: top;\n",
       "    }\n",
       "\n",
       "    .dataframe thead th {\n",
       "        text-align: right;\n",
       "    }\n",
       "</style>\n",
       "<table border=\"1\" class=\"dataframe\">\n",
       "  <thead>\n",
       "    <tr style=\"text-align: right;\">\n",
       "      <th></th>\n",
       "      <th>accuracy</th>\n",
       "      <th>tpr</th>\n",
       "      <th>fpr</th>\n",
       "      <th>sel</th>\n",
       "      <th>count</th>\n",
       "    </tr>\n",
       "    <tr>\n",
       "      <th>Race</th>\n",
       "      <th></th>\n",
       "      <th></th>\n",
       "      <th></th>\n",
       "      <th></th>\n",
       "      <th></th>\n",
       "    </tr>\n",
       "  </thead>\n",
       "  <tbody>\n",
       "    <tr>\n",
       "      <th>White alone</th>\n",
       "      <td>0.741399</td>\n",
       "      <td>0.907326</td>\n",
       "      <td>0.396868</td>\n",
       "      <td>0.62889</td>\n",
       "      <td>46245</td>\n",
       "    </tr>\n",
       "    <tr>\n",
       "      <th>Black or African American alone</th>\n",
       "      <td>0.735844</td>\n",
       "      <td>0.91337</td>\n",
       "      <td>0.381124</td>\n",
       "      <td>0.592522</td>\n",
       "      <td>3691</td>\n",
       "    </tr>\n",
       "    <tr>\n",
       "      <th>American Indian alone</th>\n",
       "      <td>0.704174</td>\n",
       "      <td>0.899038</td>\n",
       "      <td>0.413994</td>\n",
       "      <td>0.597096</td>\n",
       "      <td>551</td>\n",
       "    </tr>\n",
       "    <tr>\n",
       "      <th>American Indian alone</th>\n",
       "      <td>0.25</td>\n",
       "      <td>0.5</td>\n",
       "      <td>1</td>\n",
       "      <td>0.75</td>\n",
       "      <td>4</td>\n",
       "    </tr>\n",
       "    <tr>\n",
       "      <th>American Indian/Alaska Native specified/not specified or no other races</th>\n",
       "      <td>0.6875</td>\n",
       "      <td>0.860759</td>\n",
       "      <td>0.481481</td>\n",
       "      <td>0.66875</td>\n",
       "      <td>160</td>\n",
       "    </tr>\n",
       "    <tr>\n",
       "      <th>Asian alone</th>\n",
       "      <td>0.755382</td>\n",
       "      <td>0.907395</td>\n",
       "      <td>0.395288</td>\n",
       "      <td>0.650205</td>\n",
       "      <td>12170</td>\n",
       "    </tr>\n",
       "    <tr>\n",
       "      <th>Native Hawaiian and Other Pacific Islander alone</th>\n",
       "      <td>0.711207</td>\n",
       "      <td>0.881188</td>\n",
       "      <td>0.419847</td>\n",
       "      <td>0.62069</td>\n",
       "      <td>232</td>\n",
       "    </tr>\n",
       "    <tr>\n",
       "      <th>Some Other Race alone</th>\n",
       "      <td>0.727059</td>\n",
       "      <td>0.901217</td>\n",
       "      <td>0.420922</td>\n",
       "      <td>0.641556</td>\n",
       "      <td>8947</td>\n",
       "    </tr>\n",
       "    <tr>\n",
       "      <th>Two or More Races</th>\n",
       "      <td>0.70882</td>\n",
       "      <td>0.899566</td>\n",
       "      <td>0.402101</td>\n",
       "      <td>0.585016</td>\n",
       "      <td>3764</td>\n",
       "    </tr>\n",
       "  </tbody>\n",
       "</table>\n",
       "</div>"
      ],
      "text/plain": [
       "                                                    accuracy       tpr  \\\n",
       "Race                                                                     \n",
       "White alone                                         0.741399  0.907326   \n",
       "Black or African American alone                     0.735844   0.91337   \n",
       "American Indian alone                               0.704174  0.899038   \n",
       "American Indian alone                                   0.25       0.5   \n",
       "American Indian/Alaska Native specified/not spe...    0.6875  0.860759   \n",
       "Asian alone                                         0.755382  0.907395   \n",
       "Native Hawaiian and Other Pacific Islander alone    0.711207  0.881188   \n",
       "Some Other Race alone                               0.727059  0.901217   \n",
       "Two or More Races                                    0.70882  0.899566   \n",
       "\n",
       "                                                         fpr       sel  count  \n",
       "Race                                                                           \n",
       "White alone                                         0.396868   0.62889  46245  \n",
       "Black or African American alone                     0.381124  0.592522   3691  \n",
       "American Indian alone                               0.413994  0.597096    551  \n",
       "American Indian alone                                      1      0.75      4  \n",
       "American Indian/Alaska Native specified/not spe...  0.481481   0.66875    160  \n",
       "Asian alone                                         0.395288  0.650205  12170  \n",
       "Native Hawaiian and Other Pacific Islander alone    0.419847   0.62069    232  \n",
       "Some Other Race alone                               0.420922  0.641556   8947  \n",
       "Two or More Races                                   0.402101  0.585016   3764  "
      ]
     },
     "execution_count": 26,
     "metadata": {},
     "output_type": "execute_result"
    }
   ],
   "source": [
    "# Construct a MetricFrame\n",
    "mf_threshold = MetricFrame(\n",
    "    metrics=my_metrics,\n",
    "    y_true=y_test,\n",
    "    y_pred=yhat,\n",
    "    sensitive_features={\"Race\":group_test}\n",
    ")\n",
    "\n",
    "linear_fairML_results_EO = mf_threshold.by_group.rename(index=race)\n",
    "linear_fairML_results_EO"
   ]
  },
  {
   "cell_type": "markdown",
   "metadata": {},
   "source": [
    "## ---fairlearn library: non-linear---"
   ]
  },
  {
   "cell_type": "code",
   "execution_count": 27,
   "metadata": {},
   "outputs": [
    {
     "name": "stdout",
     "output_type": "stream",
     "text": [
      "Non-Linear Model Accuracy is: 0.8011852594899952\n"
     ]
    },
    {
     "data": {
      "text/plain": [
       "0.0185629096176837"
      ]
     },
     "execution_count": 27,
     "metadata": {},
     "output_type": "execute_result"
    }
   ],
   "source": [
    "###### Your favorite NON-LINEAR learning algorithm here #####\n",
    "model = RandomForestClassifier()\n",
    "model.fit(X_train, y_train)\n",
    "\n",
    "yhat = model.predict(X_test)\n",
    "accuracy = accuracy_score(y_test, yhat)\n",
    "print(\"Non-Linear Model Accuracy is:\", accuracy)\n",
    "\n",
    "white_tpr = np.mean(yhat[(y_test == 1) & (group_test == 1)])\n",
    "black_tpr = np.mean(yhat[(y_test == 1) & (group_test == 2)])\n",
    "\n",
    "# Equality of opportunity violation: 0.0211\n",
    "white_tpr - black_tpr"
   ]
  },
  {
   "cell_type": "code",
   "execution_count": 28,
   "metadata": {},
   "outputs": [],
   "source": [
    "# Construct a MetricFrame\n",
    "mf = MetricFrame(\n",
    "    metrics=my_metrics,\n",
    "    y_true=y_test,\n",
    "    y_pred=yhat,\n",
    "    sensitive_features=group_test\n",
    ")"
   ]
  },
  {
   "cell_type": "code",
   "execution_count": 29,
   "metadata": {},
   "outputs": [
    {
     "data": {
      "text/plain": [
       "accuracy    0.801185\n",
       "tpr         0.812943\n",
       "fpr         0.208608\n",
       "sel         0.483224\n",
       "count          75764\n",
       "dtype: object"
      ]
     },
     "execution_count": 29,
     "metadata": {},
     "output_type": "execute_result"
    }
   ],
   "source": [
    "# overall True Positive Rate, False Positive Rate, Selection Rate, Counts\n",
    "mf.overall"
   ]
  },
  {
   "cell_type": "code",
   "execution_count": 30,
   "metadata": {
    "scrolled": false
   },
   "outputs": [],
   "source": [
    "# by group analysis\n",
    "RF_results = mf.by_group.rename(index=race)"
   ]
  },
  {
   "cell_type": "markdown",
   "metadata": {},
   "source": [
    "### Demographic Parity"
   ]
  },
  {
   "cell_type": "code",
   "execution_count": 31,
   "metadata": {},
   "outputs": [
    {
     "name": "stdout",
     "output_type": "stream",
     "text": [
      "The Demographic Parity Difference is: 0.359192348565356\n"
     ]
    }
   ],
   "source": [
    "diff_RF_dem = demographic_parity_difference(y_test, yhat, sensitive_features=group_test)\n",
    "print(\"The Demographic Parity Difference is:\", diff_RF_dem)"
   ]
  },
  {
   "cell_type": "code",
   "execution_count": 32,
   "metadata": {},
   "outputs": [
    {
     "name": "stdout",
     "output_type": "stream",
     "text": [
      "The Demographic Parity Ratio is: 0.5210768685795254\n"
     ]
    }
   ],
   "source": [
    "ratio_RF_dem = demographic_parity_ratio(y_test, yhat, sensitive_features=group_test)\n",
    "print(\"The Demographic Parity Ratio is:\", ratio_RF_dem)"
   ]
  },
  {
   "cell_type": "markdown",
   "metadata": {},
   "source": [
    "**Result(s):**\n",
    "* A **demographic parity difference (DPD)** of 0 is what constitutes the presence of a demographic parity. For the race DPD, a result of 0.3594 means that a perfect demographic parity has not been achieved. If we take a look at the by group analysis we can see which race selection rates were used to calculate the DPD - alaskan native and 2+ more races.\n",
    "* A **demographic parity ratio (DPR)** of 1 is what constitutes the presence of a demographic parity. For the race DPR, a result of 0.5207 means that a perfect demographic parity has not been achieved. If we take a look at the by group analysis we can see which race selection rates were used to calculate the DPR - alaskan native and 2+ more races.\n",
    "\n",
    "NOTE: The alaska native alone group only contains 4 entries."
   ]
  },
  {
   "cell_type": "markdown",
   "metadata": {},
   "source": [
    "### Equalized Odds"
   ]
  },
  {
   "cell_type": "code",
   "execution_count": 33,
   "metadata": {},
   "outputs": [
    {
     "name": "stdout",
     "output_type": "stream",
     "text": [
      "The Equalized Odds Difference is: 0.35672268907563026\n"
     ]
    }
   ],
   "source": [
    "diff_RF_EO = equalized_odds_difference(y_test, yhat, sensitive_features=group_test)\n",
    "print(\"The Equalized Odds Difference is:\", diff_RF_EO)"
   ]
  },
  {
   "cell_type": "code",
   "execution_count": 34,
   "metadata": {},
   "outputs": [
    {
     "name": "stdout",
     "output_type": "stream",
     "text": [
      "The Equalized Odds Ratio is: 0.2865546218487395\n"
     ]
    }
   ],
   "source": [
    "ratio_RF_EO = equalized_odds_ratio(y_test, yhat, sensitive_features=group_test)\n",
    "print(\"The Equalized Odds Ratio is:\", ratio_RF_EO)"
   ]
  },
  {
   "cell_type": "markdown",
   "metadata": {},
   "source": [
    "**Result(s):**\n",
    "* A **equalized odds difference (EOD)** of 0 is what constitutes the presence of equalized odds. For the race EOD, a result of 0.3575 means that perfect equalized odds have not been achieved. If we take a look at the by group analysis we can see which race selection rates were used to calculate the EOD - alaska native and 2+ more races. \n",
    "* A **equalized odds ratio (EOR)** of 1 is what constitutes the presence of equalized odds. For the race EOR, a result of 0.2848 means that perfect equalized odds have not been achieved. If we take a look at the by group analysis we can see which race selection rates were used to calculate the EOR - alaska native and 2+ more races.\n",
    "\n",
    "NOTE: The alaska native alone group only contains 4 entries."
   ]
  },
  {
   "cell_type": "markdown",
   "metadata": {},
   "source": [
    "### Intersecting Groups"
   ]
  },
  {
   "cell_type": "code",
   "execution_count": 35,
   "metadata": {},
   "outputs": [],
   "source": [
    "metric_2sf = MetricFrame(metrics=my_metrics,\n",
    "                         y_true=y_test,\n",
    "                         y_pred=yhat,\n",
    "                         sensitive_features=s_f_frame)"
   ]
  },
  {
   "cell_type": "code",
   "execution_count": 36,
   "metadata": {},
   "outputs": [
    {
     "data": {
      "text/html": [
       "<div>\n",
       "<style scoped>\n",
       "    .dataframe tbody tr th:only-of-type {\n",
       "        vertical-align: middle;\n",
       "    }\n",
       "\n",
       "    .dataframe tbody tr th {\n",
       "        vertical-align: top;\n",
       "    }\n",
       "\n",
       "    .dataframe thead th {\n",
       "        text-align: right;\n",
       "    }\n",
       "</style>\n",
       "<table border=\"1\" class=\"dataframe\">\n",
       "  <thead>\n",
       "    <tr style=\"text-align: right;\">\n",
       "      <th></th>\n",
       "      <th></th>\n",
       "      <th>accuracy</th>\n",
       "      <th>tpr</th>\n",
       "      <th>fpr</th>\n",
       "      <th>sel</th>\n",
       "      <th>count</th>\n",
       "    </tr>\n",
       "    <tr>\n",
       "      <th>Race</th>\n",
       "      <th>Sex</th>\n",
       "      <th></th>\n",
       "      <th></th>\n",
       "      <th></th>\n",
       "      <th></th>\n",
       "      <th></th>\n",
       "    </tr>\n",
       "  </thead>\n",
       "  <tbody>\n",
       "    <tr>\n",
       "      <th rowspan=\"2\" valign=\"top\">1</th>\n",
       "      <th>1</th>\n",
       "      <td>0.830609</td>\n",
       "      <td>0.852044</td>\n",
       "      <td>0.190374</td>\n",
       "      <td>0.517676</td>\n",
       "      <td>22941</td>\n",
       "    </tr>\n",
       "    <tr>\n",
       "      <th>2</th>\n",
       "      <td>0.772786</td>\n",
       "      <td>0.761787</td>\n",
       "      <td>0.21941</td>\n",
       "      <td>0.444516</td>\n",
       "      <td>23304</td>\n",
       "    </tr>\n",
       "    <tr>\n",
       "      <th rowspan=\"2\" valign=\"top\">2</th>\n",
       "      <th>1</th>\n",
       "      <td>0.832878</td>\n",
       "      <td>0.824964</td>\n",
       "      <td>0.162257</td>\n",
       "      <td>0.414528</td>\n",
       "      <td>1831</td>\n",
       "    </tr>\n",
       "    <tr>\n",
       "      <th>2</th>\n",
       "      <td>0.782796</td>\n",
       "      <td>0.762029</td>\n",
       "      <td>0.202566</td>\n",
       "      <td>0.433871</td>\n",
       "      <td>1860</td>\n",
       "    </tr>\n",
       "    <tr>\n",
       "      <th rowspan=\"2\" valign=\"top\">3</th>\n",
       "      <th>1</th>\n",
       "      <td>0.820513</td>\n",
       "      <td>0.834951</td>\n",
       "      <td>0.188235</td>\n",
       "      <td>0.432234</td>\n",
       "      <td>273</td>\n",
       "    </tr>\n",
       "    <tr>\n",
       "      <th>2</th>\n",
       "      <td>0.71223</td>\n",
       "      <td>0.685714</td>\n",
       "      <td>0.271676</td>\n",
       "      <td>0.428058</td>\n",
       "      <td>278</td>\n",
       "    </tr>\n",
       "    <tr>\n",
       "      <th rowspan=\"2\" valign=\"top\">4</th>\n",
       "      <th>1</th>\n",
       "      <td>1</td>\n",
       "      <td>1</td>\n",
       "      <td>0</td>\n",
       "      <td>1</td>\n",
       "      <td>1</td>\n",
       "    </tr>\n",
       "    <tr>\n",
       "      <th>2</th>\n",
       "      <td>0.666667</td>\n",
       "      <td>1</td>\n",
       "      <td>0.5</td>\n",
       "      <td>0.666667</td>\n",
       "      <td>3</td>\n",
       "    </tr>\n",
       "    <tr>\n",
       "      <th rowspan=\"2\" valign=\"top\">5</th>\n",
       "      <th>1</th>\n",
       "      <td>0.839506</td>\n",
       "      <td>0.813953</td>\n",
       "      <td>0.131579</td>\n",
       "      <td>0.493827</td>\n",
       "      <td>81</td>\n",
       "    </tr>\n",
       "    <tr>\n",
       "      <th>2</th>\n",
       "      <td>0.734177</td>\n",
       "      <td>0.75</td>\n",
       "      <td>0.27907</td>\n",
       "      <td>0.493671</td>\n",
       "      <td>79</td>\n",
       "    </tr>\n",
       "    <tr>\n",
       "      <th rowspan=\"2\" valign=\"top\">6</th>\n",
       "      <th>1</th>\n",
       "      <td>0.835595</td>\n",
       "      <td>0.876329</td>\n",
       "      <td>0.210972</td>\n",
       "      <td>0.565882</td>\n",
       "      <td>5821</td>\n",
       "    </tr>\n",
       "    <tr>\n",
       "      <th>2</th>\n",
       "      <td>0.757915</td>\n",
       "      <td>0.780562</td>\n",
       "      <td>0.261779</td>\n",
       "      <td>0.503071</td>\n",
       "      <td>6349</td>\n",
       "    </tr>\n",
       "    <tr>\n",
       "      <th rowspan=\"2\" valign=\"top\">7</th>\n",
       "      <th>1</th>\n",
       "      <td>0.808696</td>\n",
       "      <td>0.90566</td>\n",
       "      <td>0.274194</td>\n",
       "      <td>0.565217</td>\n",
       "      <td>115</td>\n",
       "    </tr>\n",
       "    <tr>\n",
       "      <th>2</th>\n",
       "      <td>0.752137</td>\n",
       "      <td>0.791667</td>\n",
       "      <td>0.275362</td>\n",
       "      <td>0.487179</td>\n",
       "      <td>117</td>\n",
       "    </tr>\n",
       "    <tr>\n",
       "      <th rowspan=\"2\" valign=\"top\">8</th>\n",
       "      <th>1</th>\n",
       "      <td>0.848328</td>\n",
       "      <td>0.883893</td>\n",
       "      <td>0.189289</td>\n",
       "      <td>0.546332</td>\n",
       "      <td>4457</td>\n",
       "    </tr>\n",
       "    <tr>\n",
       "      <th>2</th>\n",
       "      <td>0.734521</td>\n",
       "      <td>0.715228</td>\n",
       "      <td>0.25234</td>\n",
       "      <td>0.439866</td>\n",
       "      <td>4490</td>\n",
       "    </tr>\n",
       "    <tr>\n",
       "      <th rowspan=\"2\" valign=\"top\">9</th>\n",
       "      <th>1</th>\n",
       "      <td>0.869028</td>\n",
       "      <td>0.863965</td>\n",
       "      <td>0.127986</td>\n",
       "      <td>0.400966</td>\n",
       "      <td>1863</td>\n",
       "    </tr>\n",
       "    <tr>\n",
       "      <th>2</th>\n",
       "      <td>0.81536</td>\n",
       "      <td>0.76912</td>\n",
       "      <td>0.158113</td>\n",
       "      <td>0.380852</td>\n",
       "      <td>1901</td>\n",
       "    </tr>\n",
       "  </tbody>\n",
       "</table>\n",
       "</div>"
      ],
      "text/plain": [
       "          accuracy       tpr       fpr       sel  count\n",
       "Race Sex                                               \n",
       "1    1    0.830609  0.852044  0.190374  0.517676  22941\n",
       "     2    0.772786  0.761787   0.21941  0.444516  23304\n",
       "2    1    0.832878  0.824964  0.162257  0.414528   1831\n",
       "     2    0.782796  0.762029  0.202566  0.433871   1860\n",
       "3    1    0.820513  0.834951  0.188235  0.432234    273\n",
       "     2     0.71223  0.685714  0.271676  0.428058    278\n",
       "4    1           1         1         0         1      1\n",
       "     2    0.666667         1       0.5  0.666667      3\n",
       "5    1    0.839506  0.813953  0.131579  0.493827     81\n",
       "     2    0.734177      0.75   0.27907  0.493671     79\n",
       "6    1    0.835595  0.876329  0.210972  0.565882   5821\n",
       "     2    0.757915  0.780562  0.261779  0.503071   6349\n",
       "7    1    0.808696   0.90566  0.274194  0.565217    115\n",
       "     2    0.752137  0.791667  0.275362  0.487179    117\n",
       "8    1    0.848328  0.883893  0.189289  0.546332   4457\n",
       "     2    0.734521  0.715228   0.25234  0.439866   4490\n",
       "9    1    0.869028  0.863965  0.127986  0.400966   1863\n",
       "     2     0.81536   0.76912  0.158113  0.380852   1901"
      ]
     },
     "execution_count": 36,
     "metadata": {},
     "output_type": "execute_result"
    }
   ],
   "source": [
    "metric_2sf.by_group"
   ]
  },
  {
   "cell_type": "markdown",
   "metadata": {},
   "source": [
    "## Reductions: ThresholdOptimizer"
   ]
  },
  {
   "cell_type": "code",
   "execution_count": 37,
   "metadata": {},
   "outputs": [
    {
     "name": "stdout",
     "output_type": "stream",
     "text": [
      "The fairML model accuracy for Random Forest is: 0.7960112982419091\n"
     ]
    }
   ],
   "source": [
    "# implementing fairlearn model optimizer\n",
    "fair_model = RandomForestClassifier()\n",
    "unmitigated_rf = fair_model.fit(X_train, y_train)\n",
    "\n",
    "# define the constraint - example: demographic parity\n",
    "# define the objective - example: balanced accuracy score\n",
    "postprocess_est = ThresholdOptimizer(\n",
    "                   estimator=unmitigated_rf,\n",
    "                   constraints=\"demographic_parity\",\n",
    "                   objective=\"balanced_accuracy_score\",\n",
    "                   prefit=True,\n",
    "                   predict_method='predict_proba') \n",
    "\n",
    "postprocess_est.fit(X_train, y_train, sensitive_features=group_train)\n",
    "\n",
    "yhat = postprocess_est.predict(X_test, sensitive_features=group_test)\n",
    "\n",
    "accuracy = accuracy_score(y_test, yhat)\n",
    "print(\"The fairML model accuracy for Random Forest is:\", accuracy)"
   ]
  },
  {
   "cell_type": "code",
   "execution_count": 38,
   "metadata": {},
   "outputs": [
    {
     "name": "stdout",
     "output_type": "stream",
     "text": [
      "The Demographic Parity Difference is: 0.5189101524489135\n"
     ]
    }
   ],
   "source": [
    "# check demographic parity post fairML model\n",
    "diff_fairRF_dem = demographic_parity_difference(y_test, yhat, sensitive_features=group_test)\n",
    "print(\"The Demographic Parity Difference is:\", diff_fairRF_dem)"
   ]
  },
  {
   "cell_type": "code",
   "execution_count": 39,
   "metadata": {},
   "outputs": [
    {
     "name": "stdout",
     "output_type": "stream",
     "text": [
      "The Demographic Parity Ratio is: 0.4810898475510866\n"
     ]
    }
   ],
   "source": [
    "# check demographic parity post fairML model\n",
    "ratio_fairRF_dem = demographic_parity_ratio(y_test, yhat, sensitive_features=group_test)\n",
    "print(\"The Demographic Parity Ratio is:\", ratio_fairRF_dem)"
   ]
  },
  {
   "cell_type": "code",
   "execution_count": 40,
   "metadata": {
    "scrolled": true
   },
   "outputs": [
    {
     "data": {
      "text/html": [
       "<div>\n",
       "<style scoped>\n",
       "    .dataframe tbody tr th:only-of-type {\n",
       "        vertical-align: middle;\n",
       "    }\n",
       "\n",
       "    .dataframe tbody tr th {\n",
       "        vertical-align: top;\n",
       "    }\n",
       "\n",
       "    .dataframe thead th {\n",
       "        text-align: right;\n",
       "    }\n",
       "</style>\n",
       "<table border=\"1\" class=\"dataframe\">\n",
       "  <thead>\n",
       "    <tr style=\"text-align: right;\">\n",
       "      <th></th>\n",
       "      <th>accuracy</th>\n",
       "      <th>tpr</th>\n",
       "      <th>fpr</th>\n",
       "      <th>sel</th>\n",
       "      <th>count</th>\n",
       "    </tr>\n",
       "    <tr>\n",
       "      <th>sensitive_feature_0</th>\n",
       "      <th></th>\n",
       "      <th></th>\n",
       "      <th></th>\n",
       "      <th></th>\n",
       "      <th></th>\n",
       "    </tr>\n",
       "  </thead>\n",
       "  <tbody>\n",
       "    <tr>\n",
       "      <th>White alone</th>\n",
       "      <td>0.80147</td>\n",
       "      <td>0.810514</td>\n",
       "      <td>0.206065</td>\n",
       "      <td>0.480809</td>\n",
       "      <td>46245</td>\n",
       "    </tr>\n",
       "    <tr>\n",
       "      <th>Black or African American alone</th>\n",
       "      <td>0.80764</td>\n",
       "      <td>0.791951</td>\n",
       "      <td>0.182022</td>\n",
       "      <td>0.424275</td>\n",
       "      <td>3691</td>\n",
       "    </tr>\n",
       "    <tr>\n",
       "      <th>American Indian alone</th>\n",
       "      <td>0.76588</td>\n",
       "      <td>0.759615</td>\n",
       "      <td>0.230321</td>\n",
       "      <td>0.430127</td>\n",
       "      <td>551</td>\n",
       "    </tr>\n",
       "    <tr>\n",
       "      <th>American Indian alone</th>\n",
       "      <td>0.75</td>\n",
       "      <td>1</td>\n",
       "      <td>0.5</td>\n",
       "      <td>0.75</td>\n",
       "      <td>4</td>\n",
       "    </tr>\n",
       "    <tr>\n",
       "      <th>American Indian/Alaska Native specified/not specified or no other races</th>\n",
       "      <td>0.7875</td>\n",
       "      <td>0.78481</td>\n",
       "      <td>0.209877</td>\n",
       "      <td>0.49375</td>\n",
       "      <td>160</td>\n",
       "    </tr>\n",
       "    <tr>\n",
       "      <th>Asian alone</th>\n",
       "      <td>0.79507</td>\n",
       "      <td>0.829647</td>\n",
       "      <td>0.239202</td>\n",
       "      <td>0.533114</td>\n",
       "      <td>12170</td>\n",
       "    </tr>\n",
       "    <tr>\n",
       "      <th>Native Hawaiian and Other Pacific Islander alone</th>\n",
       "      <td>0.780172</td>\n",
       "      <td>0.851485</td>\n",
       "      <td>0.274809</td>\n",
       "      <td>0.525862</td>\n",
       "      <td>232</td>\n",
       "    </tr>\n",
       "    <tr>\n",
       "      <th>Some Other Race alone</th>\n",
       "      <td>0.791215</td>\n",
       "      <td>0.809246</td>\n",
       "      <td>0.224106</td>\n",
       "      <td>0.492903</td>\n",
       "      <td>8947</td>\n",
       "    </tr>\n",
       "    <tr>\n",
       "      <th>Two or More Races</th>\n",
       "      <td>0.841923</td>\n",
       "      <td>0.816474</td>\n",
       "      <td>0.143277</td>\n",
       "      <td>0.390808</td>\n",
       "      <td>3764</td>\n",
       "    </tr>\n",
       "  </tbody>\n",
       "</table>\n",
       "</div>"
      ],
      "text/plain": [
       "                                                    accuracy       tpr  \\\n",
       "sensitive_feature_0                                                      \n",
       "White alone                                          0.80147  0.810514   \n",
       "Black or African American alone                      0.80764  0.791951   \n",
       "American Indian alone                                0.76588  0.759615   \n",
       "American Indian alone                                   0.75         1   \n",
       "American Indian/Alaska Native specified/not spe...    0.7875   0.78481   \n",
       "Asian alone                                          0.79507  0.829647   \n",
       "Native Hawaiian and Other Pacific Islander alone    0.780172  0.851485   \n",
       "Some Other Race alone                               0.791215  0.809246   \n",
       "Two or More Races                                   0.841923  0.816474   \n",
       "\n",
       "                                                         fpr       sel  count  \n",
       "sensitive_feature_0                                                            \n",
       "White alone                                         0.206065  0.480809  46245  \n",
       "Black or African American alone                     0.182022  0.424275   3691  \n",
       "American Indian alone                               0.230321  0.430127    551  \n",
       "American Indian alone                                    0.5      0.75      4  \n",
       "American Indian/Alaska Native specified/not spe...  0.209877   0.49375    160  \n",
       "Asian alone                                         0.239202  0.533114  12170  \n",
       "Native Hawaiian and Other Pacific Islander alone    0.274809  0.525862    232  \n",
       "Some Other Race alone                               0.224106  0.492903   8947  \n",
       "Two or More Races                                   0.143277  0.390808   3764  "
      ]
     },
     "execution_count": 40,
     "metadata": {},
     "output_type": "execute_result"
    }
   ],
   "source": [
    "# Construct a MetricFrame\n",
    "mf_threshold = MetricFrame(\n",
    "    metrics=my_metrics,\n",
    "    y_true=y_test,\n",
    "    y_pred=yhat,\n",
    "    sensitive_features={\"Race\":group_test}\n",
    ")\n",
    "\n",
    "RF_fairML_results_dem = mf.by_group.rename(index=race)\n",
    "RF_fairML_results_dem"
   ]
  },
  {
   "cell_type": "code",
   "execution_count": 41,
   "metadata": {},
   "outputs": [
    {
     "name": "stdout",
     "output_type": "stream",
     "text": [
      "The fairML model accuracy for Random Forest is: 0.7963412702602819\n"
     ]
    }
   ],
   "source": [
    "# implementing fairlearn model optimizer\n",
    "fair_model = RandomForestClassifier()\n",
    "unmitigated_rf = fair_model.fit(X_train, y_train)\n",
    "\n",
    "# define the constraint - example: demographic parity\n",
    "# define the objective - example: balanced accuracy score\n",
    "postprocess_est = ThresholdOptimizer(\n",
    "                   estimator=unmitigated_rf,\n",
    "                   constraints=\"demographic_parity\",\n",
    "                   objective=\"balanced_accuracy_score\",\n",
    "                   prefit=True,\n",
    "                   predict_method='predict_proba') \n",
    "\n",
    "postprocess_est.fit(X_train, y_train, sensitive_features=group_train)\n",
    "\n",
    "yhat = postprocess_est.predict(X_test, sensitive_features=group_test)\n",
    "\n",
    "accuracy = accuracy_score(y_test, yhat)\n",
    "print(\"The fairML model accuracy for Random Forest is:\", accuracy)"
   ]
  },
  {
   "cell_type": "code",
   "execution_count": 42,
   "metadata": {},
   "outputs": [
    {
     "name": "stdout",
     "output_type": "stream",
     "text": [
      "The Equalized Odds Difference is: 0.7977748691099477\n"
     ]
    }
   ],
   "source": [
    "# check demographic parity post fairML model\n",
    "diff_fairRF_EO = equalized_odds_difference(y_test, yhat, sensitive_features=group_test)\n",
    "print(\"The Equalized Odds Difference is:\", diff_fairRF_EO)"
   ]
  },
  {
   "cell_type": "code",
   "execution_count": 43,
   "metadata": {},
   "outputs": [
    {
     "name": "stdout",
     "output_type": "stream",
     "text": [
      "The Equalized Odds Ratio is: 0.20222513089005237\n"
     ]
    }
   ],
   "source": [
    "# check demographic parity post fairML model\n",
    "ratio_fairRF_EO = equalized_odds_ratio(y_test, yhat, sensitive_features=group_test)\n",
    "print(\"The Equalized Odds Ratio is:\", ratio_fairRF_EO)"
   ]
  },
  {
   "cell_type": "code",
   "execution_count": 44,
   "metadata": {},
   "outputs": [
    {
     "data": {
      "text/html": [
       "<div>\n",
       "<style scoped>\n",
       "    .dataframe tbody tr th:only-of-type {\n",
       "        vertical-align: middle;\n",
       "    }\n",
       "\n",
       "    .dataframe tbody tr th {\n",
       "        vertical-align: top;\n",
       "    }\n",
       "\n",
       "    .dataframe thead th {\n",
       "        text-align: right;\n",
       "    }\n",
       "</style>\n",
       "<table border=\"1\" class=\"dataframe\">\n",
       "  <thead>\n",
       "    <tr style=\"text-align: right;\">\n",
       "      <th></th>\n",
       "      <th>accuracy</th>\n",
       "      <th>tpr</th>\n",
       "      <th>fpr</th>\n",
       "      <th>sel</th>\n",
       "      <th>count</th>\n",
       "    </tr>\n",
       "    <tr>\n",
       "      <th>Race</th>\n",
       "      <th></th>\n",
       "      <th></th>\n",
       "      <th></th>\n",
       "      <th></th>\n",
       "      <th></th>\n",
       "    </tr>\n",
       "  </thead>\n",
       "  <tbody>\n",
       "    <tr>\n",
       "      <th>White alone</th>\n",
       "      <td>0.800216</td>\n",
       "      <td>0.808088</td>\n",
       "      <td>0.206343</td>\n",
       "      <td>0.479857</td>\n",
       "      <td>46245</td>\n",
       "    </tr>\n",
       "    <tr>\n",
       "      <th>Black or African American alone</th>\n",
       "      <td>0.791114</td>\n",
       "      <td>0.937926</td>\n",
       "      <td>0.305618</td>\n",
       "      <td>0.55676</td>\n",
       "      <td>3691</td>\n",
       "    </tr>\n",
       "    <tr>\n",
       "      <th>American Indian alone</th>\n",
       "      <td>0.738657</td>\n",
       "      <td>0.918269</td>\n",
       "      <td>0.370262</td>\n",
       "      <td>0.577132</td>\n",
       "      <td>551</td>\n",
       "    </tr>\n",
       "    <tr>\n",
       "      <th>American Indian alone</th>\n",
       "      <td>0.5</td>\n",
       "      <td>1</td>\n",
       "      <td>1</td>\n",
       "      <td>1</td>\n",
       "      <td>4</td>\n",
       "    </tr>\n",
       "    <tr>\n",
       "      <th>American Indian/Alaska Native specified/not specified or no other races</th>\n",
       "      <td>0.7375</td>\n",
       "      <td>0.886076</td>\n",
       "      <td>0.407407</td>\n",
       "      <td>0.64375</td>\n",
       "      <td>160</td>\n",
       "    </tr>\n",
       "    <tr>\n",
       "      <th>Asian alone</th>\n",
       "      <td>0.78143</td>\n",
       "      <td>0.764939</td>\n",
       "      <td>0.202225</td>\n",
       "      <td>0.482334</td>\n",
       "      <td>12170</td>\n",
       "    </tr>\n",
       "    <tr>\n",
       "      <th>Native Hawaiian and Other Pacific Islander alone</th>\n",
       "      <td>0.775862</td>\n",
       "      <td>0.930693</td>\n",
       "      <td>0.343511</td>\n",
       "      <td>0.599138</td>\n",
       "      <td>232</td>\n",
       "    </tr>\n",
       "    <tr>\n",
       "      <th>Some Other Race alone</th>\n",
       "      <td>0.795574</td>\n",
       "      <td>0.827494</td>\n",
       "      <td>0.231548</td>\n",
       "      <td>0.505309</td>\n",
       "      <td>8947</td>\n",
       "    </tr>\n",
       "    <tr>\n",
       "      <th>Two or More Races</th>\n",
       "      <td>0.816419</td>\n",
       "      <td>0.971098</td>\n",
       "      <td>0.273529</td>\n",
       "      <td>0.530021</td>\n",
       "      <td>3764</td>\n",
       "    </tr>\n",
       "  </tbody>\n",
       "</table>\n",
       "</div>"
      ],
      "text/plain": [
       "                                                    accuracy       tpr  \\\n",
       "Race                                                                     \n",
       "White alone                                         0.800216  0.808088   \n",
       "Black or African American alone                     0.791114  0.937926   \n",
       "American Indian alone                               0.738657  0.918269   \n",
       "American Indian alone                                    0.5         1   \n",
       "American Indian/Alaska Native specified/not spe...    0.7375  0.886076   \n",
       "Asian alone                                          0.78143  0.764939   \n",
       "Native Hawaiian and Other Pacific Islander alone    0.775862  0.930693   \n",
       "Some Other Race alone                               0.795574  0.827494   \n",
       "Two or More Races                                   0.816419  0.971098   \n",
       "\n",
       "                                                         fpr       sel  count  \n",
       "Race                                                                           \n",
       "White alone                                         0.206343  0.479857  46245  \n",
       "Black or African American alone                     0.305618   0.55676   3691  \n",
       "American Indian alone                               0.370262  0.577132    551  \n",
       "American Indian alone                                      1         1      4  \n",
       "American Indian/Alaska Native specified/not spe...  0.407407   0.64375    160  \n",
       "Asian alone                                         0.202225  0.482334  12170  \n",
       "Native Hawaiian and Other Pacific Islander alone    0.343511  0.599138    232  \n",
       "Some Other Race alone                               0.231548  0.505309   8947  \n",
       "Two or More Races                                   0.273529  0.530021   3764  "
      ]
     },
     "execution_count": 44,
     "metadata": {},
     "output_type": "execute_result"
    }
   ],
   "source": [
    "# Construct a MetricFrame\n",
    "mf_threshold = MetricFrame(\n",
    "    metrics=my_metrics,\n",
    "    y_true=y_test,\n",
    "    y_pred=yhat,\n",
    "    sensitive_features={\"Race\":group_test}\n",
    ")\n",
    "\n",
    "RF_fairML_results_EO = mf_threshold.by_group.rename(index=race)\n",
    "RF_fairML_results_EO"
   ]
  },
  {
   "cell_type": "markdown",
   "metadata": {},
   "source": [
    "## ---Visualizing Results---"
   ]
  },
  {
   "cell_type": "code",
   "execution_count": 45,
   "metadata": {},
   "outputs": [],
   "source": [
    "import matplotlib.pyplot as plt"
   ]
  },
  {
   "cell_type": "code",
   "execution_count": 47,
   "metadata": {},
   "outputs": [],
   "source": [
    "## Order of Results:\n",
    "##\n",
    "## 1. linear_results\n",
    "## 2. linear_fairML_results_dem\n",
    "## 3. RF_results\n",
    "## 4. RF_fairML_results_dem\n",
    "s = \"American Indian alone\"\n",
    "dem1 = linear_results.drop([s])[\"sel\"].max() - linear_results.drop([s])[\"sel\"].min()\n",
    "dem2 = linear_fairML_results_dem.drop([s])[\"sel\"].max() - linear_fairML_results_dem.drop([s])[\"sel\"].min()\n",
    "dem3 = RF_results.drop([s])[\"sel\"].max() - RF_results.drop([s])[\"sel\"].min()\n",
    "dem4 = RF_fairML_results_dem.drop([s])[\"sel\"].max() - RF_fairML_results_dem.drop([s])[\"sel\"].min()\n",
    "\n",
    "EO1 = linear_results.drop([s])[\"sel\"].max() - linear_results.drop([s])[\"sel\"].min()\n",
    "EO2 = linear_fairML_results_EO.drop([s])[\"sel\"].max() - linear_fairML_results_EO.drop([s])[\"sel\"].min()\n",
    "EO3 = RF_results.drop([s])[\"sel\"].max() - RF_results.drop([s])[\"sel\"].min()\n",
    "EO4 = RF_fairML_results_EO.drop([s])[\"sel\"].max() - RF_fairML_results_EO.drop([s])[\"sel\"].min()\n",
    "\n",
    "dem_diffs = {\n",
    "    \"Linear\"       : dem1,\n",
    "    \"LinearFairML\" : dem2,\n",
    "    \"RF\"           : dem3,\n",
    "    \"RFFairML\"     : dem4\n",
    "}\n",
    "\n",
    "EO_diffs = {\n",
    "    \"Linear\"       : EO1,\n",
    "    \"LinearFairML\" : EO2,\n",
    "    \"RF\"           : EO3,\n",
    "    \"RFFairML\"     : EO4\n",
    "}"
   ]
  },
  {
   "cell_type": "code",
   "execution_count": 48,
   "metadata": {},
   "outputs": [
    {
     "data": {
      "image/png": "[encoded data removed]",
      "text/plain": [
       "<Figure size 720x360 with 1 Axes>"
      ]
     },
     "metadata": {
      "needs_background": "light"
     },
     "output_type": "display_data"
    }
   ],
   "source": [
    "fig = plt.figure(figsize = (10, 5))\n",
    " \n",
    "\n",
    "# creating the bar plot\n",
    "plt.bar(dem_diffs.keys(), dem_diffs.values(), color ='maroon',\n",
    "        width = 0.4)\n",
    " \n",
    "plt.xlabel(\"Model Type\")\n",
    "plt.ylabel(\"Demographic Parity Differences\")\n",
    "plt.title(\"Comparing Demographic Parities Across Models\")\n",
    "plt.show()"
   ]
  },
  {
   "cell_type": "code",
   "execution_count": 49,
   "metadata": {
    "scrolled": false
   },
   "outputs": [
    {
     "data": {
      "image/png": "[encoded data removed]",
      "text/plain": [
       "<Figure size 720x360 with 1 Axes>"
      ]
     },
     "metadata": {
      "needs_background": "light"
     },
     "output_type": "display_data"
    }
   ],
   "source": [
    "fig = plt.figure(figsize = (10, 5))\n",
    " \n",
    "\n",
    "# creating the bar plot\n",
    "plt.bar(EO_diffs.keys(), EO_diffs.values(), color ='maroon',\n",
    "        width = 0.4)\n",
    " \n",
    "plt.xlabel(\"Model Type\")\n",
    "plt.ylabel(\"Equalized Odds Differences\")\n",
    "plt.title(\"Comparing Equalized Odds Across Models\")\n",
    "plt.show()"
   ]
  },
  {
   "cell_type": "markdown",
   "metadata": {},
   "source": [
    "---"
   ]
  },
  {
   "cell_type": "markdown",
   "metadata": {},
   "source": [
    "# Changing the target variable to a continuous value and exploring fairness within regression:\n",
    "The progress of this section has been moved to a separate notebook."
   ]
  },
  {
   "cell_type": "code",
   "execution_count": 340,
   "metadata": {},
   "outputs": [],
   "source": [
    "from sklearn.metrics import mean_absolute_error\n",
    "from sklearn.linear_model import LinearRegression\n",
    "from sklearn.ensemble import RandomForestRegressor\n",
    "from fairlearn.reductions import GridSearch\n",
    "from fairlearn.reductions import DemographicParity, ErrorRate\n",
    "from sklearn.preprocessing import MinMaxScaler\n",
    "from fairlearn.reductions import ExponentiatedGradient\n",
    "from fairlearn.reductions import BoundedGroupLoss, ZeroOneLoss"
   ]
  },
  {
   "cell_type": "code",
   "execution_count": 371,
   "metadata": {},
   "outputs": [],
   "source": [
    "# drop null values: there are 63086 NaN values\n",
    "cont_labels = acs_data[\"WAGP\"]\n",
    "\n",
    "t = pd.DataFrame(np.hstack((features, np.array(cont_labels).reshape(-1, 1)))).dropna()\n",
    "cont_features, cont_labels, cont_group = t.iloc[:, 0:16], t.iloc[:,16], t[15]"
   ]
  },
  {
   "cell_type": "code",
   "execution_count": 374,
   "metadata": {},
   "outputs": [],
   "source": [
    "# standerdize the data\n",
    "scaler = MinMaxScaler().fit(cont_features)\n",
    "scaler_cont = MinMaxScaler().fit(np.array(cont_labels).reshape(-1, 1))"
   ]
  },
  {
   "cell_type": "code",
   "execution_count": 375,
   "metadata": {},
   "outputs": [],
   "source": [
    "# create train and test sets\n",
    "X_train, X_test, y_train, y_test, group_train, group_test = train_test_split(\n",
    "    cont_features, cont_labels, cont_group, test_size=0.2, random_state=0)\n",
    "\n",
    "X_train = scaler.transform(X_train)\n",
    "X_test = scaler.transform(X_test)\n",
    "y_train = scaler_cont.transform(np.array(y_train).reshape(-1, 1))\n",
    "y_test = scaler_cont.transform(np.array(y_test).reshape(-1, 1))"
   ]
  },
  {
   "cell_type": "code",
   "execution_count": 376,
   "metadata": {
    "scrolled": false
   },
   "outputs": [
    {
     "name": "stdout",
     "output_type": "stream",
     "text": [
      "Linear Model MAE is: 0.06262536327522135\n"
     ]
    }
   ],
   "source": [
    "# train a simple liner regressor and evaluate\n",
    "linear = LinearRegression()\n",
    "linear.fit(X_train, y_train)\n",
    "\n",
    "yhat = linear.predict(X_test)\n",
    "linear_MAE = mean_absolute_error(y_test, yhat)\n",
    "print(\"Linear Model MAE is:\", linear_MAE)"
   ]
  },
  {
   "cell_type": "code",
   "execution_count": 406,
   "metadata": {},
   "outputs": [
    {
     "name": "stderr",
     "output_type": "stream",
     "text": [
      "<ipython-input-406-1212f19eaa3e>:3: DataConversionWarning: A column-vector y was passed when a 1d array was expected. Please change the shape of y to (n_samples,), for example using ravel().\n",
      "  rf.fit(X_train, y_train)\n"
     ]
    },
    {
     "name": "stdout",
     "output_type": "stream",
     "text": [
      "RF Model MAE is: 0.052219985706353896\n"
     ]
    }
   ],
   "source": [
    "# train a Random Forest regressor\n",
    "rf = RandomForestRegressor()\n",
    "rf.fit(X_train, y_train)\n",
    "\n",
    "yhat = rf.predict(X_test)\n",
    "rf_MAE = mean_absolute_error(y_test, yhat)\n",
    "print(\"RF Model MAE is:\", rf_MAE)"
   ]
  },
  {
   "cell_type": "markdown",
   "metadata": {},
   "source": [
    "## fairness in-processing: ExponentiatedGradient"
   ]
  },
  {
   "cell_type": "code",
   "execution_count": 383,
   "metadata": {},
   "outputs": [],
   "source": [
    "# initialize the ExponentiatedGradient\n",
    "sweep = GridSearch(LinearRegression(),\n",
    "                  constraints=BoundedGroupLoss(ZeroOneLoss(), upper_bound=0.1),\n",
    "                  grid_size=4)"
   ]
  },
  {
   "cell_type": "code",
   "execution_count": 384,
   "metadata": {
    "scrolled": true
   },
   "outputs": [
    {
     "name": "stderr",
     "output_type": "stream",
     "text": [
      "The grid has 8 dimensions. It is not recommended to use more than 4, otherwise a prohibitively large grid size is required to explore the space thoroughly. For such cases consider using ExponentiatedGradient from the fairlearn.reductions module.\n",
      "Generating a grid with 4 grid points. It is recommended to use at least 256 grid points. Please consider increasing grid_size.\n"
     ]
    }
   ],
   "source": [
    "# fit the in-processor\n",
    "sweep.fit(X_train, y_train,\n",
    "          sensitive_features=group_train.rename(\"race\"))\n",
    "\n",
    "predictors = sweep.predictors_"
   ]
  },
  {
   "cell_type": "code",
   "execution_count": 403,
   "metadata": {},
   "outputs": [],
   "source": [
    "fairML_errors, fairML_disparities, t1 = [], [], []\n",
    "for m in predictors:\n",
    "    def classifier(X): return m.predict(X)\n",
    "    \n",
    "    m.fit(X_train, y_train)\n",
    "\n",
    "    yhat = m.predict(X_test)\n",
    "    m_MAE = mean_absolute_error(y_test, yhat)\n",
    "    fairML_errors.append(m_MAE)\n",
    "    \n",
    "    # evaluate disparities\n",
    "    #mae_frame = MetricFrame(metrics=mean_absolute_error,\n",
    "    #                    y_true=y_test,\n",
    "    #                    y_pred=yhat,\n",
    "    #                    sensitive_features=group_test.rename(\"race\"))\n",
    "    \n",
    "    bgl = BoundedGroupLoss(ZeroOneLoss(), upper_bound=0.1)\n",
    "    bgl.load_data(X_test, y_test, sensitive_features=group_test.rename(\"race\"))\n",
    "    fairML_disparities.append(bgl.gamma(lambda X: yhat))\n",
    "    \n",
    "    # ---\n",
    "    #bgl = BoundedGroupLoss(ZeroOneLoss(), upper_bound=0.1)\n",
    "    #bgl.load_data(X_test, y_test, sensitive_features=group_test.rename(\"race\"))\n",
    "    #t1.append(bgl.gamma(lambda X: yhat))\n",
    "    \n",
    "    #error = ErrorRate()\n",
    "    #error.load_data(X_train, pd.Series(Y_train), sensitive_features=A_train)\n",
    "    #disparity = DemographicParity()\n",
    "    #disparity.load_data(X_train, pd.Series(Y_train), sensitive_features=A_train)\n",
    "\n",
    "    #errors.append(error.gamma(classifier)[0])\n",
    "    #disparities.append(disparity.gamma(classifier).max())"
   ]
  }
 ],
 "metadata": {
  "kernelspec": {
   "display_name": "Python 3",
   "language": "python",
   "name": "python3"
  },
  "language_info": {
   "codemirror_mode": {
    "name": "ipython",
    "version": 3
   },
   "file_extension": ".py",
   "mimetype": "text/x-python",
   "name": "python",
   "nbconvert_exporter": "python",
   "pygments_lexer": "ipython3",
   "version": "3.8.5"
  }
 },
 "nbformat": 4,
 "nbformat_minor": 4
}
